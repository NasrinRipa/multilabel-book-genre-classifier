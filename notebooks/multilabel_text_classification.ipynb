{
  "nbformat": 4,
  "nbformat_minor": 0,
  "metadata": {
    "colab": {
      "provenance": []
    },
    "kernelspec": {
      "name": "python3",
      "display_name": "Python 3"
    },
    "language_info": {
      "name": "python"
    },
    "accelerator": "GPU",
    "gpuClass": "standard",
    "widgets": {
      "application/vnd.jupyter.widget-state+json": {
        "af7c77222b9f4131a14b737957a207f2": {
          "model_module": "@jupyter-widgets/controls",
          "model_name": "HBoxModel",
          "model_module_version": "1.5.0",
          "state": {
            "_dom_classes": [],
            "_model_module": "@jupyter-widgets/controls",
            "_model_module_version": "1.5.0",
            "_model_name": "HBoxModel",
            "_view_count": null,
            "_view_module": "@jupyter-widgets/controls",
            "_view_module_version": "1.5.0",
            "_view_name": "HBoxView",
            "box_style": "",
            "children": [
              "IPY_MODEL_b82d533a20f944699f265aad49d97242",
              "IPY_MODEL_a9fe48bc8a474a9fb2a6cb4411738c26",
              "IPY_MODEL_11ae73e8805d4614bfcda08e9278a90a"
            ],
            "layout": "IPY_MODEL_8f8a749951384f5a8530aa17ecb0fdb8"
          }
        },
        "b82d533a20f944699f265aad49d97242": {
          "model_module": "@jupyter-widgets/controls",
          "model_name": "HTMLModel",
          "model_module_version": "1.5.0",
          "state": {
            "_dom_classes": [],
            "_model_module": "@jupyter-widgets/controls",
            "_model_module_version": "1.5.0",
            "_model_name": "HTMLModel",
            "_view_count": null,
            "_view_module": "@jupyter-widgets/controls",
            "_view_module_version": "1.5.0",
            "_view_name": "HTMLView",
            "description": "",
            "description_tooltip": null,
            "layout": "IPY_MODEL_ceea13805c69420fbf0698af29ff0573",
            "placeholder": "​",
            "style": "IPY_MODEL_f5bd940444c44bf68c49c47c5d6988c5",
            "value": "Downloading builder script: "
          }
        },
        "a9fe48bc8a474a9fb2a6cb4411738c26": {
          "model_module": "@jupyter-widgets/controls",
          "model_name": "FloatProgressModel",
          "model_module_version": "1.5.0",
          "state": {
            "_dom_classes": [],
            "_model_module": "@jupyter-widgets/controls",
            "_model_module_version": "1.5.0",
            "_model_name": "FloatProgressModel",
            "_view_count": null,
            "_view_module": "@jupyter-widgets/controls",
            "_view_module_version": "1.5.0",
            "_view_name": "ProgressView",
            "bar_style": "success",
            "description": "",
            "description_tooltip": null,
            "layout": "IPY_MODEL_5dedf7b9778945dcbaf3a9cd47b4d493",
            "max": 1715,
            "min": 0,
            "orientation": "horizontal",
            "style": "IPY_MODEL_f9974124ee1049e7b1c9be7dc6782a36",
            "value": 1715
          }
        },
        "11ae73e8805d4614bfcda08e9278a90a": {
          "model_module": "@jupyter-widgets/controls",
          "model_name": "HTMLModel",
          "model_module_version": "1.5.0",
          "state": {
            "_dom_classes": [],
            "_model_module": "@jupyter-widgets/controls",
            "_model_module_version": "1.5.0",
            "_model_name": "HTMLModel",
            "_view_count": null,
            "_view_module": "@jupyter-widgets/controls",
            "_view_module_version": "1.5.0",
            "_view_name": "HTMLView",
            "description": "",
            "description_tooltip": null,
            "layout": "IPY_MODEL_48abfb2dd9684acfa1789ce79807257e",
            "placeholder": "​",
            "style": "IPY_MODEL_e10152f25ebb4110892c28bdf7e42638",
            "value": " 4.50k/? [00:00&lt;00:00, 201kB/s]"
          }
        },
        "8f8a749951384f5a8530aa17ecb0fdb8": {
          "model_module": "@jupyter-widgets/base",
          "model_name": "LayoutModel",
          "model_module_version": "1.2.0",
          "state": {
            "_model_module": "@jupyter-widgets/base",
            "_model_module_version": "1.2.0",
            "_model_name": "LayoutModel",
            "_view_count": null,
            "_view_module": "@jupyter-widgets/base",
            "_view_module_version": "1.2.0",
            "_view_name": "LayoutView",
            "align_content": null,
            "align_items": null,
            "align_self": null,
            "border": null,
            "bottom": null,
            "display": null,
            "flex": null,
            "flex_flow": null,
            "grid_area": null,
            "grid_auto_columns": null,
            "grid_auto_flow": null,
            "grid_auto_rows": null,
            "grid_column": null,
            "grid_gap": null,
            "grid_row": null,
            "grid_template_areas": null,
            "grid_template_columns": null,
            "grid_template_rows": null,
            "height": null,
            "justify_content": null,
            "justify_items": null,
            "left": null,
            "margin": null,
            "max_height": null,
            "max_width": null,
            "min_height": null,
            "min_width": null,
            "object_fit": null,
            "object_position": null,
            "order": null,
            "overflow": null,
            "overflow_x": null,
            "overflow_y": null,
            "padding": null,
            "right": null,
            "top": null,
            "visibility": null,
            "width": null
          }
        },
        "ceea13805c69420fbf0698af29ff0573": {
          "model_module": "@jupyter-widgets/base",
          "model_name": "LayoutModel",
          "model_module_version": "1.2.0",
          "state": {
            "_model_module": "@jupyter-widgets/base",
            "_model_module_version": "1.2.0",
            "_model_name": "LayoutModel",
            "_view_count": null,
            "_view_module": "@jupyter-widgets/base",
            "_view_module_version": "1.2.0",
            "_view_name": "LayoutView",
            "align_content": null,
            "align_items": null,
            "align_self": null,
            "border": null,
            "bottom": null,
            "display": null,
            "flex": null,
            "flex_flow": null,
            "grid_area": null,
            "grid_auto_columns": null,
            "grid_auto_flow": null,
            "grid_auto_rows": null,
            "grid_column": null,
            "grid_gap": null,
            "grid_row": null,
            "grid_template_areas": null,
            "grid_template_columns": null,
            "grid_template_rows": null,
            "height": null,
            "justify_content": null,
            "justify_items": null,
            "left": null,
            "margin": null,
            "max_height": null,
            "max_width": null,
            "min_height": null,
            "min_width": null,
            "object_fit": null,
            "object_position": null,
            "order": null,
            "overflow": null,
            "overflow_x": null,
            "overflow_y": null,
            "padding": null,
            "right": null,
            "top": null,
            "visibility": null,
            "width": null
          }
        },
        "f5bd940444c44bf68c49c47c5d6988c5": {
          "model_module": "@jupyter-widgets/controls",
          "model_name": "DescriptionStyleModel",
          "model_module_version": "1.5.0",
          "state": {
            "_model_module": "@jupyter-widgets/controls",
            "_model_module_version": "1.5.0",
            "_model_name": "DescriptionStyleModel",
            "_view_count": null,
            "_view_module": "@jupyter-widgets/base",
            "_view_module_version": "1.2.0",
            "_view_name": "StyleView",
            "description_width": ""
          }
        },
        "5dedf7b9778945dcbaf3a9cd47b4d493": {
          "model_module": "@jupyter-widgets/base",
          "model_name": "LayoutModel",
          "model_module_version": "1.2.0",
          "state": {
            "_model_module": "@jupyter-widgets/base",
            "_model_module_version": "1.2.0",
            "_model_name": "LayoutModel",
            "_view_count": null,
            "_view_module": "@jupyter-widgets/base",
            "_view_module_version": "1.2.0",
            "_view_name": "LayoutView",
            "align_content": null,
            "align_items": null,
            "align_self": null,
            "border": null,
            "bottom": null,
            "display": null,
            "flex": null,
            "flex_flow": null,
            "grid_area": null,
            "grid_auto_columns": null,
            "grid_auto_flow": null,
            "grid_auto_rows": null,
            "grid_column": null,
            "grid_gap": null,
            "grid_row": null,
            "grid_template_areas": null,
            "grid_template_columns": null,
            "grid_template_rows": null,
            "height": null,
            "justify_content": null,
            "justify_items": null,
            "left": null,
            "margin": null,
            "max_height": null,
            "max_width": null,
            "min_height": null,
            "min_width": null,
            "object_fit": null,
            "object_position": null,
            "order": null,
            "overflow": null,
            "overflow_x": null,
            "overflow_y": null,
            "padding": null,
            "right": null,
            "top": null,
            "visibility": null,
            "width": null
          }
        },
        "f9974124ee1049e7b1c9be7dc6782a36": {
          "model_module": "@jupyter-widgets/controls",
          "model_name": "ProgressStyleModel",
          "model_module_version": "1.5.0",
          "state": {
            "_model_module": "@jupyter-widgets/controls",
            "_model_module_version": "1.5.0",
            "_model_name": "ProgressStyleModel",
            "_view_count": null,
            "_view_module": "@jupyter-widgets/base",
            "_view_module_version": "1.2.0",
            "_view_name": "StyleView",
            "bar_color": null,
            "description_width": ""
          }
        },
        "48abfb2dd9684acfa1789ce79807257e": {
          "model_module": "@jupyter-widgets/base",
          "model_name": "LayoutModel",
          "model_module_version": "1.2.0",
          "state": {
            "_model_module": "@jupyter-widgets/base",
            "_model_module_version": "1.2.0",
            "_model_name": "LayoutModel",
            "_view_count": null,
            "_view_module": "@jupyter-widgets/base",
            "_view_module_version": "1.2.0",
            "_view_name": "LayoutView",
            "align_content": null,
            "align_items": null,
            "align_self": null,
            "border": null,
            "bottom": null,
            "display": null,
            "flex": null,
            "flex_flow": null,
            "grid_area": null,
            "grid_auto_columns": null,
            "grid_auto_flow": null,
            "grid_auto_rows": null,
            "grid_column": null,
            "grid_gap": null,
            "grid_row": null,
            "grid_template_areas": null,
            "grid_template_columns": null,
            "grid_template_rows": null,
            "height": null,
            "justify_content": null,
            "justify_items": null,
            "left": null,
            "margin": null,
            "max_height": null,
            "max_width": null,
            "min_height": null,
            "min_width": null,
            "object_fit": null,
            "object_position": null,
            "order": null,
            "overflow": null,
            "overflow_x": null,
            "overflow_y": null,
            "padding": null,
            "right": null,
            "top": null,
            "visibility": null,
            "width": null
          }
        },
        "e10152f25ebb4110892c28bdf7e42638": {
          "model_module": "@jupyter-widgets/controls",
          "model_name": "DescriptionStyleModel",
          "model_module_version": "1.5.0",
          "state": {
            "_model_module": "@jupyter-widgets/controls",
            "_model_module_version": "1.5.0",
            "_model_name": "DescriptionStyleModel",
            "_view_count": null,
            "_view_module": "@jupyter-widgets/base",
            "_view_module_version": "1.2.0",
            "_view_name": "StyleView",
            "description_width": ""
          }
        },
        "e11e01e0e2934e16b5794fc146c7b571": {
          "model_module": "@jupyter-widgets/controls",
          "model_name": "HBoxModel",
          "model_module_version": "1.5.0",
          "state": {
            "_dom_classes": [],
            "_model_module": "@jupyter-widgets/controls",
            "_model_module_version": "1.5.0",
            "_model_name": "HBoxModel",
            "_view_count": null,
            "_view_module": "@jupyter-widgets/controls",
            "_view_module_version": "1.5.0",
            "_view_name": "HBoxView",
            "box_style": "",
            "children": [
              "IPY_MODEL_485d23af6c054c7ea7359b148f8597b9",
              "IPY_MODEL_9fe6af6427924c11a2487f5817d3cde4",
              "IPY_MODEL_6f90457708c74225a43a4eb8c74eb4eb"
            ],
            "layout": "IPY_MODEL_8e566aa1c1eb4e63ace3b284000bf8cf"
          }
        },
        "485d23af6c054c7ea7359b148f8597b9": {
          "model_module": "@jupyter-widgets/controls",
          "model_name": "HTMLModel",
          "model_module_version": "1.5.0",
          "state": {
            "_dom_classes": [],
            "_model_module": "@jupyter-widgets/controls",
            "_model_module_version": "1.5.0",
            "_model_name": "HTMLModel",
            "_view_count": null,
            "_view_module": "@jupyter-widgets/controls",
            "_view_module_version": "1.5.0",
            "_view_name": "HTMLView",
            "description": "",
            "description_tooltip": null,
            "layout": "IPY_MODEL_558a02242360456c880ddc06837fe425",
            "placeholder": "​",
            "style": "IPY_MODEL_9bc373d2e8f34f65b03b4d2eebc297d0",
            "value": "Downloading extra modules: "
          }
        },
        "9fe6af6427924c11a2487f5817d3cde4": {
          "model_module": "@jupyter-widgets/controls",
          "model_name": "FloatProgressModel",
          "model_module_version": "1.5.0",
          "state": {
            "_dom_classes": [],
            "_model_module": "@jupyter-widgets/controls",
            "_model_module_version": "1.5.0",
            "_model_name": "FloatProgressModel",
            "_view_count": null,
            "_view_module": "@jupyter-widgets/controls",
            "_view_module_version": "1.5.0",
            "_view_name": "ProgressView",
            "bar_style": "success",
            "description": "",
            "description_tooltip": null,
            "layout": "IPY_MODEL_2da77d8bd54144e8a22c86f06fdc0d26",
            "max": 1109,
            "min": 0,
            "orientation": "horizontal",
            "style": "IPY_MODEL_c63a7114ff6047f9a4a4a80127f1d238",
            "value": 1109
          }
        },
        "6f90457708c74225a43a4eb8c74eb4eb": {
          "model_module": "@jupyter-widgets/controls",
          "model_name": "HTMLModel",
          "model_module_version": "1.5.0",
          "state": {
            "_dom_classes": [],
            "_model_module": "@jupyter-widgets/controls",
            "_model_module_version": "1.5.0",
            "_model_name": "HTMLModel",
            "_view_count": null,
            "_view_module": "@jupyter-widgets/controls",
            "_view_module_version": "1.5.0",
            "_view_name": "HTMLView",
            "description": "",
            "description_tooltip": null,
            "layout": "IPY_MODEL_25b3fb98d7234c64b3138bcdc01447d1",
            "placeholder": "​",
            "style": "IPY_MODEL_5aefae9a00fa42208a1a6d19cc4a200b",
            "value": " 3.30k/? [00:00&lt;00:00, 163kB/s]"
          }
        },
        "8e566aa1c1eb4e63ace3b284000bf8cf": {
          "model_module": "@jupyter-widgets/base",
          "model_name": "LayoutModel",
          "model_module_version": "1.2.0",
          "state": {
            "_model_module": "@jupyter-widgets/base",
            "_model_module_version": "1.2.0",
            "_model_name": "LayoutModel",
            "_view_count": null,
            "_view_module": "@jupyter-widgets/base",
            "_view_module_version": "1.2.0",
            "_view_name": "LayoutView",
            "align_content": null,
            "align_items": null,
            "align_self": null,
            "border": null,
            "bottom": null,
            "display": null,
            "flex": null,
            "flex_flow": null,
            "grid_area": null,
            "grid_auto_columns": null,
            "grid_auto_flow": null,
            "grid_auto_rows": null,
            "grid_column": null,
            "grid_gap": null,
            "grid_row": null,
            "grid_template_areas": null,
            "grid_template_columns": null,
            "grid_template_rows": null,
            "height": null,
            "justify_content": null,
            "justify_items": null,
            "left": null,
            "margin": null,
            "max_height": null,
            "max_width": null,
            "min_height": null,
            "min_width": null,
            "object_fit": null,
            "object_position": null,
            "order": null,
            "overflow": null,
            "overflow_x": null,
            "overflow_y": null,
            "padding": null,
            "right": null,
            "top": null,
            "visibility": null,
            "width": null
          }
        },
        "558a02242360456c880ddc06837fe425": {
          "model_module": "@jupyter-widgets/base",
          "model_name": "LayoutModel",
          "model_module_version": "1.2.0",
          "state": {
            "_model_module": "@jupyter-widgets/base",
            "_model_module_version": "1.2.0",
            "_model_name": "LayoutModel",
            "_view_count": null,
            "_view_module": "@jupyter-widgets/base",
            "_view_module_version": "1.2.0",
            "_view_name": "LayoutView",
            "align_content": null,
            "align_items": null,
            "align_self": null,
            "border": null,
            "bottom": null,
            "display": null,
            "flex": null,
            "flex_flow": null,
            "grid_area": null,
            "grid_auto_columns": null,
            "grid_auto_flow": null,
            "grid_auto_rows": null,
            "grid_column": null,
            "grid_gap": null,
            "grid_row": null,
            "grid_template_areas": null,
            "grid_template_columns": null,
            "grid_template_rows": null,
            "height": null,
            "justify_content": null,
            "justify_items": null,
            "left": null,
            "margin": null,
            "max_height": null,
            "max_width": null,
            "min_height": null,
            "min_width": null,
            "object_fit": null,
            "object_position": null,
            "order": null,
            "overflow": null,
            "overflow_x": null,
            "overflow_y": null,
            "padding": null,
            "right": null,
            "top": null,
            "visibility": null,
            "width": null
          }
        },
        "9bc373d2e8f34f65b03b4d2eebc297d0": {
          "model_module": "@jupyter-widgets/controls",
          "model_name": "DescriptionStyleModel",
          "model_module_version": "1.5.0",
          "state": {
            "_model_module": "@jupyter-widgets/controls",
            "_model_module_version": "1.5.0",
            "_model_name": "DescriptionStyleModel",
            "_view_count": null,
            "_view_module": "@jupyter-widgets/base",
            "_view_module_version": "1.2.0",
            "_view_name": "StyleView",
            "description_width": ""
          }
        },
        "2da77d8bd54144e8a22c86f06fdc0d26": {
          "model_module": "@jupyter-widgets/base",
          "model_name": "LayoutModel",
          "model_module_version": "1.2.0",
          "state": {
            "_model_module": "@jupyter-widgets/base",
            "_model_module_version": "1.2.0",
            "_model_name": "LayoutModel",
            "_view_count": null,
            "_view_module": "@jupyter-widgets/base",
            "_view_module_version": "1.2.0",
            "_view_name": "LayoutView",
            "align_content": null,
            "align_items": null,
            "align_self": null,
            "border": null,
            "bottom": null,
            "display": null,
            "flex": null,
            "flex_flow": null,
            "grid_area": null,
            "grid_auto_columns": null,
            "grid_auto_flow": null,
            "grid_auto_rows": null,
            "grid_column": null,
            "grid_gap": null,
            "grid_row": null,
            "grid_template_areas": null,
            "grid_template_columns": null,
            "grid_template_rows": null,
            "height": null,
            "justify_content": null,
            "justify_items": null,
            "left": null,
            "margin": null,
            "max_height": null,
            "max_width": null,
            "min_height": null,
            "min_width": null,
            "object_fit": null,
            "object_position": null,
            "order": null,
            "overflow": null,
            "overflow_x": null,
            "overflow_y": null,
            "padding": null,
            "right": null,
            "top": null,
            "visibility": null,
            "width": null
          }
        },
        "c63a7114ff6047f9a4a4a80127f1d238": {
          "model_module": "@jupyter-widgets/controls",
          "model_name": "ProgressStyleModel",
          "model_module_version": "1.5.0",
          "state": {
            "_model_module": "@jupyter-widgets/controls",
            "_model_module_version": "1.5.0",
            "_model_name": "ProgressStyleModel",
            "_view_count": null,
            "_view_module": "@jupyter-widgets/base",
            "_view_module_version": "1.2.0",
            "_view_name": "StyleView",
            "bar_color": null,
            "description_width": ""
          }
        },
        "25b3fb98d7234c64b3138bcdc01447d1": {
          "model_module": "@jupyter-widgets/base",
          "model_name": "LayoutModel",
          "model_module_version": "1.2.0",
          "state": {
            "_model_module": "@jupyter-widgets/base",
            "_model_module_version": "1.2.0",
            "_model_name": "LayoutModel",
            "_view_count": null,
            "_view_module": "@jupyter-widgets/base",
            "_view_module_version": "1.2.0",
            "_view_name": "LayoutView",
            "align_content": null,
            "align_items": null,
            "align_self": null,
            "border": null,
            "bottom": null,
            "display": null,
            "flex": null,
            "flex_flow": null,
            "grid_area": null,
            "grid_auto_columns": null,
            "grid_auto_flow": null,
            "grid_auto_rows": null,
            "grid_column": null,
            "grid_gap": null,
            "grid_row": null,
            "grid_template_areas": null,
            "grid_template_columns": null,
            "grid_template_rows": null,
            "height": null,
            "justify_content": null,
            "justify_items": null,
            "left": null,
            "margin": null,
            "max_height": null,
            "max_width": null,
            "min_height": null,
            "min_width": null,
            "object_fit": null,
            "object_position": null,
            "order": null,
            "overflow": null,
            "overflow_x": null,
            "overflow_y": null,
            "padding": null,
            "right": null,
            "top": null,
            "visibility": null,
            "width": null
          }
        },
        "5aefae9a00fa42208a1a6d19cc4a200b": {
          "model_module": "@jupyter-widgets/controls",
          "model_name": "DescriptionStyleModel",
          "model_module_version": "1.5.0",
          "state": {
            "_model_module": "@jupyter-widgets/controls",
            "_model_module_version": "1.5.0",
            "_model_name": "DescriptionStyleModel",
            "_view_count": null,
            "_view_module": "@jupyter-widgets/base",
            "_view_module_version": "1.2.0",
            "_view_name": "StyleView",
            "description_width": ""
          }
        },
        "9a47b8731e07476ebf2e720578345900": {
          "model_module": "@jupyter-widgets/controls",
          "model_name": "HBoxModel",
          "model_module_version": "1.5.0",
          "state": {
            "_dom_classes": [],
            "_model_module": "@jupyter-widgets/controls",
            "_model_module_version": "1.5.0",
            "_model_name": "HBoxModel",
            "_view_count": null,
            "_view_module": "@jupyter-widgets/controls",
            "_view_module_version": "1.5.0",
            "_view_name": "HBoxView",
            "box_style": "",
            "children": [
              "IPY_MODEL_f317be8195004ee68ba4cf77a3b49321",
              "IPY_MODEL_93a8159d4cf3443eb3f97ea19892491f",
              "IPY_MODEL_de3881f39a0f422b81b50b2a93365361"
            ],
            "layout": "IPY_MODEL_4b65b15245564575b74d58fc692bad36"
          }
        },
        "f317be8195004ee68ba4cf77a3b49321": {
          "model_module": "@jupyter-widgets/controls",
          "model_name": "HTMLModel",
          "model_module_version": "1.5.0",
          "state": {
            "_dom_classes": [],
            "_model_module": "@jupyter-widgets/controls",
            "_model_module_version": "1.5.0",
            "_model_name": "HTMLModel",
            "_view_count": null,
            "_view_module": "@jupyter-widgets/controls",
            "_view_module_version": "1.5.0",
            "_view_name": "HTMLView",
            "description": "",
            "description_tooltip": null,
            "layout": "IPY_MODEL_a3bb6379460d4ff29e1865d781e0dd68",
            "placeholder": "​",
            "style": "IPY_MODEL_899ba29a94a7479ea96022c61c30fad7",
            "value": "Downloading (…)lve/main/config.json: 100%"
          }
        },
        "93a8159d4cf3443eb3f97ea19892491f": {
          "model_module": "@jupyter-widgets/controls",
          "model_name": "FloatProgressModel",
          "model_module_version": "1.5.0",
          "state": {
            "_dom_classes": [],
            "_model_module": "@jupyter-widgets/controls",
            "_model_module_version": "1.5.0",
            "_model_name": "FloatProgressModel",
            "_view_count": null,
            "_view_module": "@jupyter-widgets/controls",
            "_view_module_version": "1.5.0",
            "_view_name": "ProgressView",
            "bar_style": "success",
            "description": "",
            "description_tooltip": null,
            "layout": "IPY_MODEL_0c4ad399217d4b06abfcc23cfb1767c7",
            "max": 480,
            "min": 0,
            "orientation": "horizontal",
            "style": "IPY_MODEL_0688759a17334622b5de9fa9547e10a9",
            "value": 480
          }
        },
        "de3881f39a0f422b81b50b2a93365361": {
          "model_module": "@jupyter-widgets/controls",
          "model_name": "HTMLModel",
          "model_module_version": "1.5.0",
          "state": {
            "_dom_classes": [],
            "_model_module": "@jupyter-widgets/controls",
            "_model_module_version": "1.5.0",
            "_model_name": "HTMLModel",
            "_view_count": null,
            "_view_module": "@jupyter-widgets/controls",
            "_view_module_version": "1.5.0",
            "_view_name": "HTMLView",
            "description": "",
            "description_tooltip": null,
            "layout": "IPY_MODEL_cbb5eda552e44d5d9442bae0b928235b",
            "placeholder": "​",
            "style": "IPY_MODEL_ea2d0dda2702405b9788a7d9f71e3b71",
            "value": " 480/480 [00:00&lt;00:00, 30.6kB/s]"
          }
        },
        "4b65b15245564575b74d58fc692bad36": {
          "model_module": "@jupyter-widgets/base",
          "model_name": "LayoutModel",
          "model_module_version": "1.2.0",
          "state": {
            "_model_module": "@jupyter-widgets/base",
            "_model_module_version": "1.2.0",
            "_model_name": "LayoutModel",
            "_view_count": null,
            "_view_module": "@jupyter-widgets/base",
            "_view_module_version": "1.2.0",
            "_view_name": "LayoutView",
            "align_content": null,
            "align_items": null,
            "align_self": null,
            "border": null,
            "bottom": null,
            "display": null,
            "flex": null,
            "flex_flow": null,
            "grid_area": null,
            "grid_auto_columns": null,
            "grid_auto_flow": null,
            "grid_auto_rows": null,
            "grid_column": null,
            "grid_gap": null,
            "grid_row": null,
            "grid_template_areas": null,
            "grid_template_columns": null,
            "grid_template_rows": null,
            "height": null,
            "justify_content": null,
            "justify_items": null,
            "left": null,
            "margin": null,
            "max_height": null,
            "max_width": null,
            "min_height": null,
            "min_width": null,
            "object_fit": null,
            "object_position": null,
            "order": null,
            "overflow": null,
            "overflow_x": null,
            "overflow_y": null,
            "padding": null,
            "right": null,
            "top": null,
            "visibility": null,
            "width": null
          }
        },
        "a3bb6379460d4ff29e1865d781e0dd68": {
          "model_module": "@jupyter-widgets/base",
          "model_name": "LayoutModel",
          "model_module_version": "1.2.0",
          "state": {
            "_model_module": "@jupyter-widgets/base",
            "_model_module_version": "1.2.0",
            "_model_name": "LayoutModel",
            "_view_count": null,
            "_view_module": "@jupyter-widgets/base",
            "_view_module_version": "1.2.0",
            "_view_name": "LayoutView",
            "align_content": null,
            "align_items": null,
            "align_self": null,
            "border": null,
            "bottom": null,
            "display": null,
            "flex": null,
            "flex_flow": null,
            "grid_area": null,
            "grid_auto_columns": null,
            "grid_auto_flow": null,
            "grid_auto_rows": null,
            "grid_column": null,
            "grid_gap": null,
            "grid_row": null,
            "grid_template_areas": null,
            "grid_template_columns": null,
            "grid_template_rows": null,
            "height": null,
            "justify_content": null,
            "justify_items": null,
            "left": null,
            "margin": null,
            "max_height": null,
            "max_width": null,
            "min_height": null,
            "min_width": null,
            "object_fit": null,
            "object_position": null,
            "order": null,
            "overflow": null,
            "overflow_x": null,
            "overflow_y": null,
            "padding": null,
            "right": null,
            "top": null,
            "visibility": null,
            "width": null
          }
        },
        "899ba29a94a7479ea96022c61c30fad7": {
          "model_module": "@jupyter-widgets/controls",
          "model_name": "DescriptionStyleModel",
          "model_module_version": "1.5.0",
          "state": {
            "_model_module": "@jupyter-widgets/controls",
            "_model_module_version": "1.5.0",
            "_model_name": "DescriptionStyleModel",
            "_view_count": null,
            "_view_module": "@jupyter-widgets/base",
            "_view_module_version": "1.2.0",
            "_view_name": "StyleView",
            "description_width": ""
          }
        },
        "0c4ad399217d4b06abfcc23cfb1767c7": {
          "model_module": "@jupyter-widgets/base",
          "model_name": "LayoutModel",
          "model_module_version": "1.2.0",
          "state": {
            "_model_module": "@jupyter-widgets/base",
            "_model_module_version": "1.2.0",
            "_model_name": "LayoutModel",
            "_view_count": null,
            "_view_module": "@jupyter-widgets/base",
            "_view_module_version": "1.2.0",
            "_view_name": "LayoutView",
            "align_content": null,
            "align_items": null,
            "align_self": null,
            "border": null,
            "bottom": null,
            "display": null,
            "flex": null,
            "flex_flow": null,
            "grid_area": null,
            "grid_auto_columns": null,
            "grid_auto_flow": null,
            "grid_auto_rows": null,
            "grid_column": null,
            "grid_gap": null,
            "grid_row": null,
            "grid_template_areas": null,
            "grid_template_columns": null,
            "grid_template_rows": null,
            "height": null,
            "justify_content": null,
            "justify_items": null,
            "left": null,
            "margin": null,
            "max_height": null,
            "max_width": null,
            "min_height": null,
            "min_width": null,
            "object_fit": null,
            "object_position": null,
            "order": null,
            "overflow": null,
            "overflow_x": null,
            "overflow_y": null,
            "padding": null,
            "right": null,
            "top": null,
            "visibility": null,
            "width": null
          }
        },
        "0688759a17334622b5de9fa9547e10a9": {
          "model_module": "@jupyter-widgets/controls",
          "model_name": "ProgressStyleModel",
          "model_module_version": "1.5.0",
          "state": {
            "_model_module": "@jupyter-widgets/controls",
            "_model_module_version": "1.5.0",
            "_model_name": "ProgressStyleModel",
            "_view_count": null,
            "_view_module": "@jupyter-widgets/base",
            "_view_module_version": "1.2.0",
            "_view_name": "StyleView",
            "bar_color": null,
            "description_width": ""
          }
        },
        "cbb5eda552e44d5d9442bae0b928235b": {
          "model_module": "@jupyter-widgets/base",
          "model_name": "LayoutModel",
          "model_module_version": "1.2.0",
          "state": {
            "_model_module": "@jupyter-widgets/base",
            "_model_module_version": "1.2.0",
            "_model_name": "LayoutModel",
            "_view_count": null,
            "_view_module": "@jupyter-widgets/base",
            "_view_module_version": "1.2.0",
            "_view_name": "LayoutView",
            "align_content": null,
            "align_items": null,
            "align_self": null,
            "border": null,
            "bottom": null,
            "display": null,
            "flex": null,
            "flex_flow": null,
            "grid_area": null,
            "grid_auto_columns": null,
            "grid_auto_flow": null,
            "grid_auto_rows": null,
            "grid_column": null,
            "grid_gap": null,
            "grid_row": null,
            "grid_template_areas": null,
            "grid_template_columns": null,
            "grid_template_rows": null,
            "height": null,
            "justify_content": null,
            "justify_items": null,
            "left": null,
            "margin": null,
            "max_height": null,
            "max_width": null,
            "min_height": null,
            "min_width": null,
            "object_fit": null,
            "object_position": null,
            "order": null,
            "overflow": null,
            "overflow_x": null,
            "overflow_y": null,
            "padding": null,
            "right": null,
            "top": null,
            "visibility": null,
            "width": null
          }
        },
        "ea2d0dda2702405b9788a7d9f71e3b71": {
          "model_module": "@jupyter-widgets/controls",
          "model_name": "DescriptionStyleModel",
          "model_module_version": "1.5.0",
          "state": {
            "_model_module": "@jupyter-widgets/controls",
            "_model_module_version": "1.5.0",
            "_model_name": "DescriptionStyleModel",
            "_view_count": null,
            "_view_module": "@jupyter-widgets/base",
            "_view_module_version": "1.2.0",
            "_view_name": "StyleView",
            "description_width": ""
          }
        },
        "11432085d85e47fbb16b83571409832a": {
          "model_module": "@jupyter-widgets/controls",
          "model_name": "HBoxModel",
          "model_module_version": "1.5.0",
          "state": {
            "_dom_classes": [],
            "_model_module": "@jupyter-widgets/controls",
            "_model_module_version": "1.5.0",
            "_model_name": "HBoxModel",
            "_view_count": null,
            "_view_module": "@jupyter-widgets/controls",
            "_view_module_version": "1.5.0",
            "_view_name": "HBoxView",
            "box_style": "",
            "children": [
              "IPY_MODEL_113c1fa242794c62ac2143d55cb47e8e",
              "IPY_MODEL_e5b47fe19255499abfdd3ead4fcacc41",
              "IPY_MODEL_f4639bf1bf2842cab08899f3d531e223"
            ],
            "layout": "IPY_MODEL_f93bf7ac5a3b46acba2bc2652f741658"
          }
        },
        "113c1fa242794c62ac2143d55cb47e8e": {
          "model_module": "@jupyter-widgets/controls",
          "model_name": "HTMLModel",
          "model_module_version": "1.5.0",
          "state": {
            "_dom_classes": [],
            "_model_module": "@jupyter-widgets/controls",
            "_model_module_version": "1.5.0",
            "_model_name": "HTMLModel",
            "_view_count": null,
            "_view_module": "@jupyter-widgets/controls",
            "_view_module_version": "1.5.0",
            "_view_name": "HTMLView",
            "description": "",
            "description_tooltip": null,
            "layout": "IPY_MODEL_ae687664be274eaf961189d54429f818",
            "placeholder": "​",
            "style": "IPY_MODEL_1675182baabe47a1a154fa0e9e52ff2b",
            "value": "Downloading (…)olve/main/vocab.json: 100%"
          }
        },
        "e5b47fe19255499abfdd3ead4fcacc41": {
          "model_module": "@jupyter-widgets/controls",
          "model_name": "FloatProgressModel",
          "model_module_version": "1.5.0",
          "state": {
            "_dom_classes": [],
            "_model_module": "@jupyter-widgets/controls",
            "_model_module_version": "1.5.0",
            "_model_name": "FloatProgressModel",
            "_view_count": null,
            "_view_module": "@jupyter-widgets/controls",
            "_view_module_version": "1.5.0",
            "_view_name": "ProgressView",
            "bar_style": "success",
            "description": "",
            "description_tooltip": null,
            "layout": "IPY_MODEL_2f10974bef714d38a8e1d4fe30f12a03",
            "max": 898823,
            "min": 0,
            "orientation": "horizontal",
            "style": "IPY_MODEL_39737abb239d47acadacf8de9863686f",
            "value": 898823
          }
        },
        "f4639bf1bf2842cab08899f3d531e223": {
          "model_module": "@jupyter-widgets/controls",
          "model_name": "HTMLModel",
          "model_module_version": "1.5.0",
          "state": {
            "_dom_classes": [],
            "_model_module": "@jupyter-widgets/controls",
            "_model_module_version": "1.5.0",
            "_model_name": "HTMLModel",
            "_view_count": null,
            "_view_module": "@jupyter-widgets/controls",
            "_view_module_version": "1.5.0",
            "_view_name": "HTMLView",
            "description": "",
            "description_tooltip": null,
            "layout": "IPY_MODEL_06611412c02f43d29687ec5dedacbdac",
            "placeholder": "​",
            "style": "IPY_MODEL_d6c45b9b297749cf9e80e84c4afb2e1e",
            "value": " 899k/899k [00:00&lt;00:00, 6.99MB/s]"
          }
        },
        "f93bf7ac5a3b46acba2bc2652f741658": {
          "model_module": "@jupyter-widgets/base",
          "model_name": "LayoutModel",
          "model_module_version": "1.2.0",
          "state": {
            "_model_module": "@jupyter-widgets/base",
            "_model_module_version": "1.2.0",
            "_model_name": "LayoutModel",
            "_view_count": null,
            "_view_module": "@jupyter-widgets/base",
            "_view_module_version": "1.2.0",
            "_view_name": "LayoutView",
            "align_content": null,
            "align_items": null,
            "align_self": null,
            "border": null,
            "bottom": null,
            "display": null,
            "flex": null,
            "flex_flow": null,
            "grid_area": null,
            "grid_auto_columns": null,
            "grid_auto_flow": null,
            "grid_auto_rows": null,
            "grid_column": null,
            "grid_gap": null,
            "grid_row": null,
            "grid_template_areas": null,
            "grid_template_columns": null,
            "grid_template_rows": null,
            "height": null,
            "justify_content": null,
            "justify_items": null,
            "left": null,
            "margin": null,
            "max_height": null,
            "max_width": null,
            "min_height": null,
            "min_width": null,
            "object_fit": null,
            "object_position": null,
            "order": null,
            "overflow": null,
            "overflow_x": null,
            "overflow_y": null,
            "padding": null,
            "right": null,
            "top": null,
            "visibility": null,
            "width": null
          }
        },
        "ae687664be274eaf961189d54429f818": {
          "model_module": "@jupyter-widgets/base",
          "model_name": "LayoutModel",
          "model_module_version": "1.2.0",
          "state": {
            "_model_module": "@jupyter-widgets/base",
            "_model_module_version": "1.2.0",
            "_model_name": "LayoutModel",
            "_view_count": null,
            "_view_module": "@jupyter-widgets/base",
            "_view_module_version": "1.2.0",
            "_view_name": "LayoutView",
            "align_content": null,
            "align_items": null,
            "align_self": null,
            "border": null,
            "bottom": null,
            "display": null,
            "flex": null,
            "flex_flow": null,
            "grid_area": null,
            "grid_auto_columns": null,
            "grid_auto_flow": null,
            "grid_auto_rows": null,
            "grid_column": null,
            "grid_gap": null,
            "grid_row": null,
            "grid_template_areas": null,
            "grid_template_columns": null,
            "grid_template_rows": null,
            "height": null,
            "justify_content": null,
            "justify_items": null,
            "left": null,
            "margin": null,
            "max_height": null,
            "max_width": null,
            "min_height": null,
            "min_width": null,
            "object_fit": null,
            "object_position": null,
            "order": null,
            "overflow": null,
            "overflow_x": null,
            "overflow_y": null,
            "padding": null,
            "right": null,
            "top": null,
            "visibility": null,
            "width": null
          }
        },
        "1675182baabe47a1a154fa0e9e52ff2b": {
          "model_module": "@jupyter-widgets/controls",
          "model_name": "DescriptionStyleModel",
          "model_module_version": "1.5.0",
          "state": {
            "_model_module": "@jupyter-widgets/controls",
            "_model_module_version": "1.5.0",
            "_model_name": "DescriptionStyleModel",
            "_view_count": null,
            "_view_module": "@jupyter-widgets/base",
            "_view_module_version": "1.2.0",
            "_view_name": "StyleView",
            "description_width": ""
          }
        },
        "2f10974bef714d38a8e1d4fe30f12a03": {
          "model_module": "@jupyter-widgets/base",
          "model_name": "LayoutModel",
          "model_module_version": "1.2.0",
          "state": {
            "_model_module": "@jupyter-widgets/base",
            "_model_module_version": "1.2.0",
            "_model_name": "LayoutModel",
            "_view_count": null,
            "_view_module": "@jupyter-widgets/base",
            "_view_module_version": "1.2.0",
            "_view_name": "LayoutView",
            "align_content": null,
            "align_items": null,
            "align_self": null,
            "border": null,
            "bottom": null,
            "display": null,
            "flex": null,
            "flex_flow": null,
            "grid_area": null,
            "grid_auto_columns": null,
            "grid_auto_flow": null,
            "grid_auto_rows": null,
            "grid_column": null,
            "grid_gap": null,
            "grid_row": null,
            "grid_template_areas": null,
            "grid_template_columns": null,
            "grid_template_rows": null,
            "height": null,
            "justify_content": null,
            "justify_items": null,
            "left": null,
            "margin": null,
            "max_height": null,
            "max_width": null,
            "min_height": null,
            "min_width": null,
            "object_fit": null,
            "object_position": null,
            "order": null,
            "overflow": null,
            "overflow_x": null,
            "overflow_y": null,
            "padding": null,
            "right": null,
            "top": null,
            "visibility": null,
            "width": null
          }
        },
        "39737abb239d47acadacf8de9863686f": {
          "model_module": "@jupyter-widgets/controls",
          "model_name": "ProgressStyleModel",
          "model_module_version": "1.5.0",
          "state": {
            "_model_module": "@jupyter-widgets/controls",
            "_model_module_version": "1.5.0",
            "_model_name": "ProgressStyleModel",
            "_view_count": null,
            "_view_module": "@jupyter-widgets/base",
            "_view_module_version": "1.2.0",
            "_view_name": "StyleView",
            "bar_color": null,
            "description_width": ""
          }
        },
        "06611412c02f43d29687ec5dedacbdac": {
          "model_module": "@jupyter-widgets/base",
          "model_name": "LayoutModel",
          "model_module_version": "1.2.0",
          "state": {
            "_model_module": "@jupyter-widgets/base",
            "_model_module_version": "1.2.0",
            "_model_name": "LayoutModel",
            "_view_count": null,
            "_view_module": "@jupyter-widgets/base",
            "_view_module_version": "1.2.0",
            "_view_name": "LayoutView",
            "align_content": null,
            "align_items": null,
            "align_self": null,
            "border": null,
            "bottom": null,
            "display": null,
            "flex": null,
            "flex_flow": null,
            "grid_area": null,
            "grid_auto_columns": null,
            "grid_auto_flow": null,
            "grid_auto_rows": null,
            "grid_column": null,
            "grid_gap": null,
            "grid_row": null,
            "grid_template_areas": null,
            "grid_template_columns": null,
            "grid_template_rows": null,
            "height": null,
            "justify_content": null,
            "justify_items": null,
            "left": null,
            "margin": null,
            "max_height": null,
            "max_width": null,
            "min_height": null,
            "min_width": null,
            "object_fit": null,
            "object_position": null,
            "order": null,
            "overflow": null,
            "overflow_x": null,
            "overflow_y": null,
            "padding": null,
            "right": null,
            "top": null,
            "visibility": null,
            "width": null
          }
        },
        "d6c45b9b297749cf9e80e84c4afb2e1e": {
          "model_module": "@jupyter-widgets/controls",
          "model_name": "DescriptionStyleModel",
          "model_module_version": "1.5.0",
          "state": {
            "_model_module": "@jupyter-widgets/controls",
            "_model_module_version": "1.5.0",
            "_model_name": "DescriptionStyleModel",
            "_view_count": null,
            "_view_module": "@jupyter-widgets/base",
            "_view_module_version": "1.2.0",
            "_view_name": "StyleView",
            "description_width": ""
          }
        },
        "123bbce2b7ff40439ffac37703a3bf83": {
          "model_module": "@jupyter-widgets/controls",
          "model_name": "HBoxModel",
          "model_module_version": "1.5.0",
          "state": {
            "_dom_classes": [],
            "_model_module": "@jupyter-widgets/controls",
            "_model_module_version": "1.5.0",
            "_model_name": "HBoxModel",
            "_view_count": null,
            "_view_module": "@jupyter-widgets/controls",
            "_view_module_version": "1.5.0",
            "_view_name": "HBoxView",
            "box_style": "",
            "children": [
              "IPY_MODEL_584ff3217dd64fc1a05a32b749aec2f1",
              "IPY_MODEL_bd1c33f916174c2db7a6607c3d911ce7",
              "IPY_MODEL_c826272e17ec4e42ad5ae072f77cc0f6"
            ],
            "layout": "IPY_MODEL_1c60925b7ae64b7a87be18ab9be9f3df"
          }
        },
        "584ff3217dd64fc1a05a32b749aec2f1": {
          "model_module": "@jupyter-widgets/controls",
          "model_name": "HTMLModel",
          "model_module_version": "1.5.0",
          "state": {
            "_dom_classes": [],
            "_model_module": "@jupyter-widgets/controls",
            "_model_module_version": "1.5.0",
            "_model_name": "HTMLModel",
            "_view_count": null,
            "_view_module": "@jupyter-widgets/controls",
            "_view_module_version": "1.5.0",
            "_view_name": "HTMLView",
            "description": "",
            "description_tooltip": null,
            "layout": "IPY_MODEL_a75ff2e05be04d4186767a0431bb14ad",
            "placeholder": "​",
            "style": "IPY_MODEL_bf7d2f3d3de1429ba00dd9642310d6da",
            "value": "Downloading (…)olve/main/merges.txt: 100%"
          }
        },
        "bd1c33f916174c2db7a6607c3d911ce7": {
          "model_module": "@jupyter-widgets/controls",
          "model_name": "FloatProgressModel",
          "model_module_version": "1.5.0",
          "state": {
            "_dom_classes": [],
            "_model_module": "@jupyter-widgets/controls",
            "_model_module_version": "1.5.0",
            "_model_name": "FloatProgressModel",
            "_view_count": null,
            "_view_module": "@jupyter-widgets/controls",
            "_view_module_version": "1.5.0",
            "_view_name": "ProgressView",
            "bar_style": "success",
            "description": "",
            "description_tooltip": null,
            "layout": "IPY_MODEL_63968a9b4a3f4819a87461f411b3b5be",
            "max": 456318,
            "min": 0,
            "orientation": "horizontal",
            "style": "IPY_MODEL_b0e13a4c51594b0fb53fa8a209eeeb4c",
            "value": 456318
          }
        },
        "c826272e17ec4e42ad5ae072f77cc0f6": {
          "model_module": "@jupyter-widgets/controls",
          "model_name": "HTMLModel",
          "model_module_version": "1.5.0",
          "state": {
            "_dom_classes": [],
            "_model_module": "@jupyter-widgets/controls",
            "_model_module_version": "1.5.0",
            "_model_name": "HTMLModel",
            "_view_count": null,
            "_view_module": "@jupyter-widgets/controls",
            "_view_module_version": "1.5.0",
            "_view_name": "HTMLView",
            "description": "",
            "description_tooltip": null,
            "layout": "IPY_MODEL_06b79b1a3abc4a93a1d7a5ff8bf28780",
            "placeholder": "​",
            "style": "IPY_MODEL_46c2b2c9f2e746b8a1e5e7e36702564b",
            "value": " 456k/456k [00:00&lt;00:00, 5.84MB/s]"
          }
        },
        "1c60925b7ae64b7a87be18ab9be9f3df": {
          "model_module": "@jupyter-widgets/base",
          "model_name": "LayoutModel",
          "model_module_version": "1.2.0",
          "state": {
            "_model_module": "@jupyter-widgets/base",
            "_model_module_version": "1.2.0",
            "_model_name": "LayoutModel",
            "_view_count": null,
            "_view_module": "@jupyter-widgets/base",
            "_view_module_version": "1.2.0",
            "_view_name": "LayoutView",
            "align_content": null,
            "align_items": null,
            "align_self": null,
            "border": null,
            "bottom": null,
            "display": null,
            "flex": null,
            "flex_flow": null,
            "grid_area": null,
            "grid_auto_columns": null,
            "grid_auto_flow": null,
            "grid_auto_rows": null,
            "grid_column": null,
            "grid_gap": null,
            "grid_row": null,
            "grid_template_areas": null,
            "grid_template_columns": null,
            "grid_template_rows": null,
            "height": null,
            "justify_content": null,
            "justify_items": null,
            "left": null,
            "margin": null,
            "max_height": null,
            "max_width": null,
            "min_height": null,
            "min_width": null,
            "object_fit": null,
            "object_position": null,
            "order": null,
            "overflow": null,
            "overflow_x": null,
            "overflow_y": null,
            "padding": null,
            "right": null,
            "top": null,
            "visibility": null,
            "width": null
          }
        },
        "a75ff2e05be04d4186767a0431bb14ad": {
          "model_module": "@jupyter-widgets/base",
          "model_name": "LayoutModel",
          "model_module_version": "1.2.0",
          "state": {
            "_model_module": "@jupyter-widgets/base",
            "_model_module_version": "1.2.0",
            "_model_name": "LayoutModel",
            "_view_count": null,
            "_view_module": "@jupyter-widgets/base",
            "_view_module_version": "1.2.0",
            "_view_name": "LayoutView",
            "align_content": null,
            "align_items": null,
            "align_self": null,
            "border": null,
            "bottom": null,
            "display": null,
            "flex": null,
            "flex_flow": null,
            "grid_area": null,
            "grid_auto_columns": null,
            "grid_auto_flow": null,
            "grid_auto_rows": null,
            "grid_column": null,
            "grid_gap": null,
            "grid_row": null,
            "grid_template_areas": null,
            "grid_template_columns": null,
            "grid_template_rows": null,
            "height": null,
            "justify_content": null,
            "justify_items": null,
            "left": null,
            "margin": null,
            "max_height": null,
            "max_width": null,
            "min_height": null,
            "min_width": null,
            "object_fit": null,
            "object_position": null,
            "order": null,
            "overflow": null,
            "overflow_x": null,
            "overflow_y": null,
            "padding": null,
            "right": null,
            "top": null,
            "visibility": null,
            "width": null
          }
        },
        "bf7d2f3d3de1429ba00dd9642310d6da": {
          "model_module": "@jupyter-widgets/controls",
          "model_name": "DescriptionStyleModel",
          "model_module_version": "1.5.0",
          "state": {
            "_model_module": "@jupyter-widgets/controls",
            "_model_module_version": "1.5.0",
            "_model_name": "DescriptionStyleModel",
            "_view_count": null,
            "_view_module": "@jupyter-widgets/base",
            "_view_module_version": "1.2.0",
            "_view_name": "StyleView",
            "description_width": ""
          }
        },
        "63968a9b4a3f4819a87461f411b3b5be": {
          "model_module": "@jupyter-widgets/base",
          "model_name": "LayoutModel",
          "model_module_version": "1.2.0",
          "state": {
            "_model_module": "@jupyter-widgets/base",
            "_model_module_version": "1.2.0",
            "_model_name": "LayoutModel",
            "_view_count": null,
            "_view_module": "@jupyter-widgets/base",
            "_view_module_version": "1.2.0",
            "_view_name": "LayoutView",
            "align_content": null,
            "align_items": null,
            "align_self": null,
            "border": null,
            "bottom": null,
            "display": null,
            "flex": null,
            "flex_flow": null,
            "grid_area": null,
            "grid_auto_columns": null,
            "grid_auto_flow": null,
            "grid_auto_rows": null,
            "grid_column": null,
            "grid_gap": null,
            "grid_row": null,
            "grid_template_areas": null,
            "grid_template_columns": null,
            "grid_template_rows": null,
            "height": null,
            "justify_content": null,
            "justify_items": null,
            "left": null,
            "margin": null,
            "max_height": null,
            "max_width": null,
            "min_height": null,
            "min_width": null,
            "object_fit": null,
            "object_position": null,
            "order": null,
            "overflow": null,
            "overflow_x": null,
            "overflow_y": null,
            "padding": null,
            "right": null,
            "top": null,
            "visibility": null,
            "width": null
          }
        },
        "b0e13a4c51594b0fb53fa8a209eeeb4c": {
          "model_module": "@jupyter-widgets/controls",
          "model_name": "ProgressStyleModel",
          "model_module_version": "1.5.0",
          "state": {
            "_model_module": "@jupyter-widgets/controls",
            "_model_module_version": "1.5.0",
            "_model_name": "ProgressStyleModel",
            "_view_count": null,
            "_view_module": "@jupyter-widgets/base",
            "_view_module_version": "1.2.0",
            "_view_name": "StyleView",
            "bar_color": null,
            "description_width": ""
          }
        },
        "06b79b1a3abc4a93a1d7a5ff8bf28780": {
          "model_module": "@jupyter-widgets/base",
          "model_name": "LayoutModel",
          "model_module_version": "1.2.0",
          "state": {
            "_model_module": "@jupyter-widgets/base",
            "_model_module_version": "1.2.0",
            "_model_name": "LayoutModel",
            "_view_count": null,
            "_view_module": "@jupyter-widgets/base",
            "_view_module_version": "1.2.0",
            "_view_name": "LayoutView",
            "align_content": null,
            "align_items": null,
            "align_self": null,
            "border": null,
            "bottom": null,
            "display": null,
            "flex": null,
            "flex_flow": null,
            "grid_area": null,
            "grid_auto_columns": null,
            "grid_auto_flow": null,
            "grid_auto_rows": null,
            "grid_column": null,
            "grid_gap": null,
            "grid_row": null,
            "grid_template_areas": null,
            "grid_template_columns": null,
            "grid_template_rows": null,
            "height": null,
            "justify_content": null,
            "justify_items": null,
            "left": null,
            "margin": null,
            "max_height": null,
            "max_width": null,
            "min_height": null,
            "min_width": null,
            "object_fit": null,
            "object_position": null,
            "order": null,
            "overflow": null,
            "overflow_x": null,
            "overflow_y": null,
            "padding": null,
            "right": null,
            "top": null,
            "visibility": null,
            "width": null
          }
        },
        "46c2b2c9f2e746b8a1e5e7e36702564b": {
          "model_module": "@jupyter-widgets/controls",
          "model_name": "DescriptionStyleModel",
          "model_module_version": "1.5.0",
          "state": {
            "_model_module": "@jupyter-widgets/controls",
            "_model_module_version": "1.5.0",
            "_model_name": "DescriptionStyleModel",
            "_view_count": null,
            "_view_module": "@jupyter-widgets/base",
            "_view_module_version": "1.2.0",
            "_view_name": "StyleView",
            "description_width": ""
          }
        },
        "97a942f4f308438d80f5b15b154644d6": {
          "model_module": "@jupyter-widgets/controls",
          "model_name": "HBoxModel",
          "model_module_version": "1.5.0",
          "state": {
            "_dom_classes": [],
            "_model_module": "@jupyter-widgets/controls",
            "_model_module_version": "1.5.0",
            "_model_name": "HBoxModel",
            "_view_count": null,
            "_view_module": "@jupyter-widgets/controls",
            "_view_module_version": "1.5.0",
            "_view_name": "HBoxView",
            "box_style": "",
            "children": [
              "IPY_MODEL_b4bef8cec3434d31a8f8bd3f3e302133",
              "IPY_MODEL_7cb0bc022fe04e1c9030d104f60da7e6",
              "IPY_MODEL_0ef3de1a69ff46f682cab20b3d302582"
            ],
            "layout": "IPY_MODEL_532d1b2058094998951828eed061e9f0"
          }
        },
        "b4bef8cec3434d31a8f8bd3f3e302133": {
          "model_module": "@jupyter-widgets/controls",
          "model_name": "HTMLModel",
          "model_module_version": "1.5.0",
          "state": {
            "_dom_classes": [],
            "_model_module": "@jupyter-widgets/controls",
            "_model_module_version": "1.5.0",
            "_model_name": "HTMLModel",
            "_view_count": null,
            "_view_module": "@jupyter-widgets/controls",
            "_view_module_version": "1.5.0",
            "_view_name": "HTMLView",
            "description": "",
            "description_tooltip": null,
            "layout": "IPY_MODEL_e610bc4af6c34a8aa2faf13a2dd119ee",
            "placeholder": "​",
            "style": "IPY_MODEL_fbc074fbfa7448b1abbca8ec0b43637f",
            "value": "Downloading (…)/main/tokenizer.json: 100%"
          }
        },
        "7cb0bc022fe04e1c9030d104f60da7e6": {
          "model_module": "@jupyter-widgets/controls",
          "model_name": "FloatProgressModel",
          "model_module_version": "1.5.0",
          "state": {
            "_dom_classes": [],
            "_model_module": "@jupyter-widgets/controls",
            "_model_module_version": "1.5.0",
            "_model_name": "FloatProgressModel",
            "_view_count": null,
            "_view_module": "@jupyter-widgets/controls",
            "_view_module_version": "1.5.0",
            "_view_name": "ProgressView",
            "bar_style": "success",
            "description": "",
            "description_tooltip": null,
            "layout": "IPY_MODEL_e8411b6698d94e4b8f60c6f5b99b68a9",
            "max": 1355863,
            "min": 0,
            "orientation": "horizontal",
            "style": "IPY_MODEL_55372c4f76104100acca3598ef05ded9",
            "value": 1355863
          }
        },
        "0ef3de1a69ff46f682cab20b3d302582": {
          "model_module": "@jupyter-widgets/controls",
          "model_name": "HTMLModel",
          "model_module_version": "1.5.0",
          "state": {
            "_dom_classes": [],
            "_model_module": "@jupyter-widgets/controls",
            "_model_module_version": "1.5.0",
            "_model_name": "HTMLModel",
            "_view_count": null,
            "_view_module": "@jupyter-widgets/controls",
            "_view_module_version": "1.5.0",
            "_view_name": "HTMLView",
            "description": "",
            "description_tooltip": null,
            "layout": "IPY_MODEL_2ad4e0cb50d34eeda75300235c9a75ed",
            "placeholder": "​",
            "style": "IPY_MODEL_4aa31626fd174edbaabd0cee870de9d3",
            "value": " 1.36M/1.36M [00:00&lt;00:00, 23.8MB/s]"
          }
        },
        "532d1b2058094998951828eed061e9f0": {
          "model_module": "@jupyter-widgets/base",
          "model_name": "LayoutModel",
          "model_module_version": "1.2.0",
          "state": {
            "_model_module": "@jupyter-widgets/base",
            "_model_module_version": "1.2.0",
            "_model_name": "LayoutModel",
            "_view_count": null,
            "_view_module": "@jupyter-widgets/base",
            "_view_module_version": "1.2.0",
            "_view_name": "LayoutView",
            "align_content": null,
            "align_items": null,
            "align_self": null,
            "border": null,
            "bottom": null,
            "display": null,
            "flex": null,
            "flex_flow": null,
            "grid_area": null,
            "grid_auto_columns": null,
            "grid_auto_flow": null,
            "grid_auto_rows": null,
            "grid_column": null,
            "grid_gap": null,
            "grid_row": null,
            "grid_template_areas": null,
            "grid_template_columns": null,
            "grid_template_rows": null,
            "height": null,
            "justify_content": null,
            "justify_items": null,
            "left": null,
            "margin": null,
            "max_height": null,
            "max_width": null,
            "min_height": null,
            "min_width": null,
            "object_fit": null,
            "object_position": null,
            "order": null,
            "overflow": null,
            "overflow_x": null,
            "overflow_y": null,
            "padding": null,
            "right": null,
            "top": null,
            "visibility": null,
            "width": null
          }
        },
        "e610bc4af6c34a8aa2faf13a2dd119ee": {
          "model_module": "@jupyter-widgets/base",
          "model_name": "LayoutModel",
          "model_module_version": "1.2.0",
          "state": {
            "_model_module": "@jupyter-widgets/base",
            "_model_module_version": "1.2.0",
            "_model_name": "LayoutModel",
            "_view_count": null,
            "_view_module": "@jupyter-widgets/base",
            "_view_module_version": "1.2.0",
            "_view_name": "LayoutView",
            "align_content": null,
            "align_items": null,
            "align_self": null,
            "border": null,
            "bottom": null,
            "display": null,
            "flex": null,
            "flex_flow": null,
            "grid_area": null,
            "grid_auto_columns": null,
            "grid_auto_flow": null,
            "grid_auto_rows": null,
            "grid_column": null,
            "grid_gap": null,
            "grid_row": null,
            "grid_template_areas": null,
            "grid_template_columns": null,
            "grid_template_rows": null,
            "height": null,
            "justify_content": null,
            "justify_items": null,
            "left": null,
            "margin": null,
            "max_height": null,
            "max_width": null,
            "min_height": null,
            "min_width": null,
            "object_fit": null,
            "object_position": null,
            "order": null,
            "overflow": null,
            "overflow_x": null,
            "overflow_y": null,
            "padding": null,
            "right": null,
            "top": null,
            "visibility": null,
            "width": null
          }
        },
        "fbc074fbfa7448b1abbca8ec0b43637f": {
          "model_module": "@jupyter-widgets/controls",
          "model_name": "DescriptionStyleModel",
          "model_module_version": "1.5.0",
          "state": {
            "_model_module": "@jupyter-widgets/controls",
            "_model_module_version": "1.5.0",
            "_model_name": "DescriptionStyleModel",
            "_view_count": null,
            "_view_module": "@jupyter-widgets/base",
            "_view_module_version": "1.2.0",
            "_view_name": "StyleView",
            "description_width": ""
          }
        },
        "e8411b6698d94e4b8f60c6f5b99b68a9": {
          "model_module": "@jupyter-widgets/base",
          "model_name": "LayoutModel",
          "model_module_version": "1.2.0",
          "state": {
            "_model_module": "@jupyter-widgets/base",
            "_model_module_version": "1.2.0",
            "_model_name": "LayoutModel",
            "_view_count": null,
            "_view_module": "@jupyter-widgets/base",
            "_view_module_version": "1.2.0",
            "_view_name": "LayoutView",
            "align_content": null,
            "align_items": null,
            "align_self": null,
            "border": null,
            "bottom": null,
            "display": null,
            "flex": null,
            "flex_flow": null,
            "grid_area": null,
            "grid_auto_columns": null,
            "grid_auto_flow": null,
            "grid_auto_rows": null,
            "grid_column": null,
            "grid_gap": null,
            "grid_row": null,
            "grid_template_areas": null,
            "grid_template_columns": null,
            "grid_template_rows": null,
            "height": null,
            "justify_content": null,
            "justify_items": null,
            "left": null,
            "margin": null,
            "max_height": null,
            "max_width": null,
            "min_height": null,
            "min_width": null,
            "object_fit": null,
            "object_position": null,
            "order": null,
            "overflow": null,
            "overflow_x": null,
            "overflow_y": null,
            "padding": null,
            "right": null,
            "top": null,
            "visibility": null,
            "width": null
          }
        },
        "55372c4f76104100acca3598ef05ded9": {
          "model_module": "@jupyter-widgets/controls",
          "model_name": "ProgressStyleModel",
          "model_module_version": "1.5.0",
          "state": {
            "_model_module": "@jupyter-widgets/controls",
            "_model_module_version": "1.5.0",
            "_model_name": "ProgressStyleModel",
            "_view_count": null,
            "_view_module": "@jupyter-widgets/base",
            "_view_module_version": "1.2.0",
            "_view_name": "StyleView",
            "bar_color": null,
            "description_width": ""
          }
        },
        "2ad4e0cb50d34eeda75300235c9a75ed": {
          "model_module": "@jupyter-widgets/base",
          "model_name": "LayoutModel",
          "model_module_version": "1.2.0",
          "state": {
            "_model_module": "@jupyter-widgets/base",
            "_model_module_version": "1.2.0",
            "_model_name": "LayoutModel",
            "_view_count": null,
            "_view_module": "@jupyter-widgets/base",
            "_view_module_version": "1.2.0",
            "_view_name": "LayoutView",
            "align_content": null,
            "align_items": null,
            "align_self": null,
            "border": null,
            "bottom": null,
            "display": null,
            "flex": null,
            "flex_flow": null,
            "grid_area": null,
            "grid_auto_columns": null,
            "grid_auto_flow": null,
            "grid_auto_rows": null,
            "grid_column": null,
            "grid_gap": null,
            "grid_row": null,
            "grid_template_areas": null,
            "grid_template_columns": null,
            "grid_template_rows": null,
            "height": null,
            "justify_content": null,
            "justify_items": null,
            "left": null,
            "margin": null,
            "max_height": null,
            "max_width": null,
            "min_height": null,
            "min_width": null,
            "object_fit": null,
            "object_position": null,
            "order": null,
            "overflow": null,
            "overflow_x": null,
            "overflow_y": null,
            "padding": null,
            "right": null,
            "top": null,
            "visibility": null,
            "width": null
          }
        },
        "4aa31626fd174edbaabd0cee870de9d3": {
          "model_module": "@jupyter-widgets/controls",
          "model_name": "DescriptionStyleModel",
          "model_module_version": "1.5.0",
          "state": {
            "_model_module": "@jupyter-widgets/controls",
            "_model_module_version": "1.5.0",
            "_model_name": "DescriptionStyleModel",
            "_view_count": null,
            "_view_module": "@jupyter-widgets/base",
            "_view_module_version": "1.2.0",
            "_view_name": "StyleView",
            "description_width": ""
          }
        },
        "5537a457747944159f9548e454ee4225": {
          "model_module": "@jupyter-widgets/controls",
          "model_name": "HBoxModel",
          "model_module_version": "1.5.0",
          "state": {
            "_dom_classes": [],
            "_model_module": "@jupyter-widgets/controls",
            "_model_module_version": "1.5.0",
            "_model_name": "HBoxModel",
            "_view_count": null,
            "_view_module": "@jupyter-widgets/controls",
            "_view_module_version": "1.5.0",
            "_view_name": "HBoxView",
            "box_style": "",
            "children": [
              "IPY_MODEL_8b73bce4e1624159b4f0ab2739679930",
              "IPY_MODEL_d28287333a3144b5a999fd5c57de5531",
              "IPY_MODEL_7cbd990e8f98414c877bcbb46ffc7db1"
            ],
            "layout": "IPY_MODEL_e176ff04b88a42bcaad16c2e59df2229"
          }
        },
        "8b73bce4e1624159b4f0ab2739679930": {
          "model_module": "@jupyter-widgets/controls",
          "model_name": "HTMLModel",
          "model_module_version": "1.5.0",
          "state": {
            "_dom_classes": [],
            "_model_module": "@jupyter-widgets/controls",
            "_model_module_version": "1.5.0",
            "_model_name": "HTMLModel",
            "_view_count": null,
            "_view_module": "@jupyter-widgets/controls",
            "_view_module_version": "1.5.0",
            "_view_name": "HTMLView",
            "description": "",
            "description_tooltip": null,
            "layout": "IPY_MODEL_6417c30faf3241dea643954092d7a14e",
            "placeholder": "​",
            "style": "IPY_MODEL_2ee3bce5abe64344869d920a121e7246",
            "value": "Downloading model.safetensors: 100%"
          }
        },
        "d28287333a3144b5a999fd5c57de5531": {
          "model_module": "@jupyter-widgets/controls",
          "model_name": "FloatProgressModel",
          "model_module_version": "1.5.0",
          "state": {
            "_dom_classes": [],
            "_model_module": "@jupyter-widgets/controls",
            "_model_module_version": "1.5.0",
            "_model_name": "FloatProgressModel",
            "_view_count": null,
            "_view_module": "@jupyter-widgets/controls",
            "_view_module_version": "1.5.0",
            "_view_name": "ProgressView",
            "bar_style": "success",
            "description": "",
            "description_tooltip": null,
            "layout": "IPY_MODEL_2cc8128547c3454f81390490b67fa6fa",
            "max": 331055963,
            "min": 0,
            "orientation": "horizontal",
            "style": "IPY_MODEL_85f87a65a29e46c683b10cb814fe569a",
            "value": 331055963
          }
        },
        "7cbd990e8f98414c877bcbb46ffc7db1": {
          "model_module": "@jupyter-widgets/controls",
          "model_name": "HTMLModel",
          "model_module_version": "1.5.0",
          "state": {
            "_dom_classes": [],
            "_model_module": "@jupyter-widgets/controls",
            "_model_module_version": "1.5.0",
            "_model_name": "HTMLModel",
            "_view_count": null,
            "_view_module": "@jupyter-widgets/controls",
            "_view_module_version": "1.5.0",
            "_view_name": "HTMLView",
            "description": "",
            "description_tooltip": null,
            "layout": "IPY_MODEL_38346e8d5ac04b0e912cb5887b607eba",
            "placeholder": "​",
            "style": "IPY_MODEL_483bddec2de64e57845ec32b78e250f4",
            "value": " 331M/331M [00:06&lt;00:00, 28.2MB/s]"
          }
        },
        "e176ff04b88a42bcaad16c2e59df2229": {
          "model_module": "@jupyter-widgets/base",
          "model_name": "LayoutModel",
          "model_module_version": "1.2.0",
          "state": {
            "_model_module": "@jupyter-widgets/base",
            "_model_module_version": "1.2.0",
            "_model_name": "LayoutModel",
            "_view_count": null,
            "_view_module": "@jupyter-widgets/base",
            "_view_module_version": "1.2.0",
            "_view_name": "LayoutView",
            "align_content": null,
            "align_items": null,
            "align_self": null,
            "border": null,
            "bottom": null,
            "display": null,
            "flex": null,
            "flex_flow": null,
            "grid_area": null,
            "grid_auto_columns": null,
            "grid_auto_flow": null,
            "grid_auto_rows": null,
            "grid_column": null,
            "grid_gap": null,
            "grid_row": null,
            "grid_template_areas": null,
            "grid_template_columns": null,
            "grid_template_rows": null,
            "height": null,
            "justify_content": null,
            "justify_items": null,
            "left": null,
            "margin": null,
            "max_height": null,
            "max_width": null,
            "min_height": null,
            "min_width": null,
            "object_fit": null,
            "object_position": null,
            "order": null,
            "overflow": null,
            "overflow_x": null,
            "overflow_y": null,
            "padding": null,
            "right": null,
            "top": null,
            "visibility": null,
            "width": null
          }
        },
        "6417c30faf3241dea643954092d7a14e": {
          "model_module": "@jupyter-widgets/base",
          "model_name": "LayoutModel",
          "model_module_version": "1.2.0",
          "state": {
            "_model_module": "@jupyter-widgets/base",
            "_model_module_version": "1.2.0",
            "_model_name": "LayoutModel",
            "_view_count": null,
            "_view_module": "@jupyter-widgets/base",
            "_view_module_version": "1.2.0",
            "_view_name": "LayoutView",
            "align_content": null,
            "align_items": null,
            "align_self": null,
            "border": null,
            "bottom": null,
            "display": null,
            "flex": null,
            "flex_flow": null,
            "grid_area": null,
            "grid_auto_columns": null,
            "grid_auto_flow": null,
            "grid_auto_rows": null,
            "grid_column": null,
            "grid_gap": null,
            "grid_row": null,
            "grid_template_areas": null,
            "grid_template_columns": null,
            "grid_template_rows": null,
            "height": null,
            "justify_content": null,
            "justify_items": null,
            "left": null,
            "margin": null,
            "max_height": null,
            "max_width": null,
            "min_height": null,
            "min_width": null,
            "object_fit": null,
            "object_position": null,
            "order": null,
            "overflow": null,
            "overflow_x": null,
            "overflow_y": null,
            "padding": null,
            "right": null,
            "top": null,
            "visibility": null,
            "width": null
          }
        },
        "2ee3bce5abe64344869d920a121e7246": {
          "model_module": "@jupyter-widgets/controls",
          "model_name": "DescriptionStyleModel",
          "model_module_version": "1.5.0",
          "state": {
            "_model_module": "@jupyter-widgets/controls",
            "_model_module_version": "1.5.0",
            "_model_name": "DescriptionStyleModel",
            "_view_count": null,
            "_view_module": "@jupyter-widgets/base",
            "_view_module_version": "1.2.0",
            "_view_name": "StyleView",
            "description_width": ""
          }
        },
        "2cc8128547c3454f81390490b67fa6fa": {
          "model_module": "@jupyter-widgets/base",
          "model_name": "LayoutModel",
          "model_module_version": "1.2.0",
          "state": {
            "_model_module": "@jupyter-widgets/base",
            "_model_module_version": "1.2.0",
            "_model_name": "LayoutModel",
            "_view_count": null,
            "_view_module": "@jupyter-widgets/base",
            "_view_module_version": "1.2.0",
            "_view_name": "LayoutView",
            "align_content": null,
            "align_items": null,
            "align_self": null,
            "border": null,
            "bottom": null,
            "display": null,
            "flex": null,
            "flex_flow": null,
            "grid_area": null,
            "grid_auto_columns": null,
            "grid_auto_flow": null,
            "grid_auto_rows": null,
            "grid_column": null,
            "grid_gap": null,
            "grid_row": null,
            "grid_template_areas": null,
            "grid_template_columns": null,
            "grid_template_rows": null,
            "height": null,
            "justify_content": null,
            "justify_items": null,
            "left": null,
            "margin": null,
            "max_height": null,
            "max_width": null,
            "min_height": null,
            "min_width": null,
            "object_fit": null,
            "object_position": null,
            "order": null,
            "overflow": null,
            "overflow_x": null,
            "overflow_y": null,
            "padding": null,
            "right": null,
            "top": null,
            "visibility": null,
            "width": null
          }
        },
        "85f87a65a29e46c683b10cb814fe569a": {
          "model_module": "@jupyter-widgets/controls",
          "model_name": "ProgressStyleModel",
          "model_module_version": "1.5.0",
          "state": {
            "_model_module": "@jupyter-widgets/controls",
            "_model_module_version": "1.5.0",
            "_model_name": "ProgressStyleModel",
            "_view_count": null,
            "_view_module": "@jupyter-widgets/base",
            "_view_module_version": "1.2.0",
            "_view_name": "StyleView",
            "bar_color": null,
            "description_width": ""
          }
        },
        "38346e8d5ac04b0e912cb5887b607eba": {
          "model_module": "@jupyter-widgets/base",
          "model_name": "LayoutModel",
          "model_module_version": "1.2.0",
          "state": {
            "_model_module": "@jupyter-widgets/base",
            "_model_module_version": "1.2.0",
            "_model_name": "LayoutModel",
            "_view_count": null,
            "_view_module": "@jupyter-widgets/base",
            "_view_module_version": "1.2.0",
            "_view_name": "LayoutView",
            "align_content": null,
            "align_items": null,
            "align_self": null,
            "border": null,
            "bottom": null,
            "display": null,
            "flex": null,
            "flex_flow": null,
            "grid_area": null,
            "grid_auto_columns": null,
            "grid_auto_flow": null,
            "grid_auto_rows": null,
            "grid_column": null,
            "grid_gap": null,
            "grid_row": null,
            "grid_template_areas": null,
            "grid_template_columns": null,
            "grid_template_rows": null,
            "height": null,
            "justify_content": null,
            "justify_items": null,
            "left": null,
            "margin": null,
            "max_height": null,
            "max_width": null,
            "min_height": null,
            "min_width": null,
            "object_fit": null,
            "object_position": null,
            "order": null,
            "overflow": null,
            "overflow_x": null,
            "overflow_y": null,
            "padding": null,
            "right": null,
            "top": null,
            "visibility": null,
            "width": null
          }
        },
        "483bddec2de64e57845ec32b78e250f4": {
          "model_module": "@jupyter-widgets/controls",
          "model_name": "DescriptionStyleModel",
          "model_module_version": "1.5.0",
          "state": {
            "_model_module": "@jupyter-widgets/controls",
            "_model_module_version": "1.5.0",
            "_model_name": "DescriptionStyleModel",
            "_view_count": null,
            "_view_module": "@jupyter-widgets/base",
            "_view_module_version": "1.2.0",
            "_view_name": "StyleView",
            "description_width": ""
          }
        }
      }
    }
  },
  "cells": [
    {
      "cell_type": "markdown",
      "source": [
        "# Multilabel Classification"
      ],
      "metadata": {
        "id": "tr_Pwjbd8kI8"
      }
    },
    {
      "cell_type": "markdown",
      "source": [
        "In multi-label classification, each sample can have multiple labels associated with it, as opposed to the traditional single-label classification where each sample can have only one label associated with it. <br/>\n",
        "\n",
        "This means that the output of a multi-label classifier is an array of probabilities, one for each label, indicating the probability of the input sample belonging to each label."
      ],
      "metadata": {
        "id": "mnNEuA7d8pXL"
      }
    },
    {
      "cell_type": "markdown",
      "source": [
        "# Setting Up"
      ],
      "metadata": {
        "id": "BMEIDP938McA"
      }
    },
    {
      "cell_type": "code",
      "execution_count": 1,
      "metadata": {
        "id": "RaqQI47Lp3Vx",
        "colab": {
          "base_uri": "https://localhost:8080/"
        },
        "outputId": "5dc7013f-c5df-4067-a858-80650c657613"
      },
      "outputs": [
        {
          "output_type": "stream",
          "name": "stdout",
          "text": [
            "Sun Sep  3 16:33:10 2023       \n",
            "+-----------------------------------------------------------------------------+\n",
            "| NVIDIA-SMI 525.105.17   Driver Version: 525.105.17   CUDA Version: 12.0     |\n",
            "|-------------------------------+----------------------+----------------------+\n",
            "| GPU  Name        Persistence-M| Bus-Id        Disp.A | Volatile Uncorr. ECC |\n",
            "| Fan  Temp  Perf  Pwr:Usage/Cap|         Memory-Usage | GPU-Util  Compute M. |\n",
            "|                               |                      |               MIG M. |\n",
            "|===============================+======================+======================|\n",
            "|   0  Tesla T4            Off  | 00000000:00:04.0 Off |                    0 |\n",
            "| N/A   63C    P8    11W /  70W |      0MiB / 15360MiB |      0%      Default |\n",
            "|                               |                      |                  N/A |\n",
            "+-------------------------------+----------------------+----------------------+\n",
            "                                                                               \n",
            "+-----------------------------------------------------------------------------+\n",
            "| Processes:                                                                  |\n",
            "|  GPU   GI   CI        PID   Type   Process name                  GPU Memory |\n",
            "|        ID   ID                                                   Usage      |\n",
            "|=============================================================================|\n",
            "|  No running processes found                                                 |\n",
            "+-----------------------------------------------------------------------------+\n"
          ]
        }
      ],
      "source": [
        "!nvidia-smi"
      ]
    },
    {
      "cell_type": "code",
      "source": [
        "%reload_ext autoreload\n",
        "%autoreload 2\n",
        "%matplotlib inline"
      ],
      "metadata": {
        "id": "nJGVEr878Rrs"
      },
      "execution_count": 2,
      "outputs": []
    },
    {
      "cell_type": "code",
      "source": [
        "! pip install -q transformers[sentencepiece] fastbook fastai ohmeow-blurr nbdev"
      ],
      "metadata": {
        "id": "7C5qa-RD88iD",
        "colab": {
          "base_uri": "https://localhost:8080/"
        },
        "outputId": "32094711-f4d1-4d8c-c61a-1de63787a13c"
      },
      "execution_count": 3,
      "outputs": [
        {
          "output_type": "stream",
          "name": "stdout",
          "text": [
            "\u001b[2K     \u001b[90m━━━━━━━━━━━━━━━━━━━━━━━━━━━━━━━━━━━━━━━━\u001b[0m \u001b[32m7.5/7.5 MB\u001b[0m \u001b[31m14.6 MB/s\u001b[0m eta \u001b[36m0:00:00\u001b[0m\n",
            "\u001b[2K     \u001b[90m━━━━━━━━━━━━━━━━━━━━━━━━━━━━━━━━━━━━━━\u001b[0m \u001b[32m719.8/719.8 kB\u001b[0m \u001b[31m24.9 MB/s\u001b[0m eta \u001b[36m0:00:00\u001b[0m\n",
            "\u001b[2K     \u001b[90m━━━━━━━━━━━━━━━━━━━━━━━━━━━━━━━━━━━━━━━━\u001b[0m \u001b[32m81.1/81.1 kB\u001b[0m \u001b[31m7.7 MB/s\u001b[0m eta \u001b[36m0:00:00\u001b[0m\n",
            "\u001b[2K     \u001b[90m━━━━━━━━━━━━━━━━━━━━━━━━━━━━━━━━━━━━━━━━\u001b[0m \u001b[32m64.8/64.8 kB\u001b[0m \u001b[31m6.3 MB/s\u001b[0m eta \u001b[36m0:00:00\u001b[0m\n",
            "\u001b[2K     \u001b[90m━━━━━━━━━━━━━━━━━━━━━━━━━━━━━━━━━━━━━━\u001b[0m \u001b[32m268.8/268.8 kB\u001b[0m \u001b[31m24.8 MB/s\u001b[0m eta \u001b[36m0:00:00\u001b[0m\n",
            "\u001b[2K     \u001b[90m━━━━━━━━━━━━━━━━━━━━━━━━━━━━━━━━━━━━━━━━\u001b[0m \u001b[32m7.8/7.8 MB\u001b[0m \u001b[31m28.2 MB/s\u001b[0m eta \u001b[36m0:00:00\u001b[0m\n",
            "\u001b[2K     \u001b[90m━━━━━━━━━━━━━━━━━━━━━━━━━━━━━━━━━━━━━━━━\u001b[0m \u001b[32m1.3/1.3 MB\u001b[0m \u001b[31m23.7 MB/s\u001b[0m eta \u001b[36m0:00:00\u001b[0m\n",
            "\u001b[2K     \u001b[90m━━━━━━━━━━━━━━━━━━━━━━━━━━━━━━━━━━━━━━━━\u001b[0m \u001b[32m1.3/1.3 MB\u001b[0m \u001b[31m35.3 MB/s\u001b[0m eta \u001b[36m0:00:00\u001b[0m\n",
            "\u001b[2K     \u001b[90m━━━━━━━━━━━━━━━━━━━━━━━━━━━━━━━━━━━━━━\u001b[0m \u001b[32m519.3/519.3 kB\u001b[0m \u001b[31m41.4 MB/s\u001b[0m eta \u001b[36m0:00:00\u001b[0m\n",
            "\u001b[2K     \u001b[90m━━━━━━━━━━━━━━━━━━━━━━━━━━━━━━━━━━━━━━━\u001b[0m \u001b[32m887.5/887.5 MB\u001b[0m \u001b[31m1.3 MB/s\u001b[0m eta \u001b[36m0:00:00\u001b[0m\n",
            "\u001b[2K     \u001b[90m━━━━━━━━━━━━━━━━━━━━━━━━━━━━━━━━━━━━━━━━\u001b[0m \u001b[32m43.6/43.6 kB\u001b[0m \u001b[31m4.5 MB/s\u001b[0m eta \u001b[36m0:00:00\u001b[0m\n",
            "\u001b[?25h  Preparing metadata (setup.py) ... \u001b[?25l\u001b[?25hdone\n",
            "  Preparing metadata (setup.py) ... \u001b[?25l\u001b[?25hdone\n",
            "\u001b[2K     \u001b[90m━━━━━━━━━━━━━━━━━━━━━━━━━━━━━━━━━━━━━━━━\u001b[0m \u001b[32m58.7/58.7 kB\u001b[0m \u001b[31m7.6 MB/s\u001b[0m eta \u001b[36m0:00:00\u001b[0m\n",
            "\u001b[2K     \u001b[90m━━━━━━━━━━━━━━━━━━━━━━━━━━━━━━━━━━━━━━━━\u001b[0m \u001b[32m82.1/82.1 kB\u001b[0m \u001b[31m9.8 MB/s\u001b[0m eta \u001b[36m0:00:00\u001b[0m\n",
            "\u001b[2K     \u001b[90m━━━━━━━━━━━━━━━━━━━━━━━━━━━━━━━━━━━━━━\u001b[0m \u001b[32m849.3/849.3 kB\u001b[0m \u001b[31m63.5 MB/s\u001b[0m eta \u001b[36m0:00:00\u001b[0m\n",
            "\u001b[2K     \u001b[90m━━━━━━━━━━━━━━━━━━━━━━━━━━━━━━━━━━━━━━━\u001b[0m \u001b[32m557.1/557.1 MB\u001b[0m \u001b[31m3.0 MB/s\u001b[0m eta \u001b[36m0:00:00\u001b[0m\n",
            "\u001b[2K     \u001b[90m━━━━━━━━━━━━━━━━━━━━━━━━━━━━━━━━━━━━━━━\u001b[0m \u001b[32m317.1/317.1 MB\u001b[0m \u001b[31m2.8 MB/s\u001b[0m eta \u001b[36m0:00:00\u001b[0m\n",
            "\u001b[2K     \u001b[90m━━━━━━━━━━━━━━━━━━━━━━━━━━━━━━━━━━━━━━━━\u001b[0m \u001b[32m21.0/21.0 MB\u001b[0m \u001b[31m74.6 MB/s\u001b[0m eta \u001b[36m0:00:00\u001b[0m\n",
            "\u001b[2K     \u001b[90m━━━━━━━━━━━━━━━━━━━━━━━━━━━━━━━━━━━━━━━━\u001b[0m \u001b[32m6.0/6.0 MB\u001b[0m \u001b[31m100.9 MB/s\u001b[0m eta \u001b[36m0:00:00\u001b[0m\n",
            "\u001b[2K     \u001b[90m━━━━━━━━━━━━━━━━━━━━━━━━━━━━━━━━━━━━━━━━\u001b[0m \u001b[32m6.0/6.0 MB\u001b[0m \u001b[31m101.7 MB/s\u001b[0m eta \u001b[36m0:00:00\u001b[0m\n",
            "\u001b[2K     \u001b[90m━━━━━━━━━━━━━━━━━━━━━━━━━━━━━━━━━━━━━━━━\u001b[0m \u001b[32m24.2/24.2 MB\u001b[0m \u001b[31m67.8 MB/s\u001b[0m eta \u001b[36m0:00:00\u001b[0m\n",
            "\u001b[2K     \u001b[90m━━━━━━━━━━━━━━━━━━━━━━━━━━━━━━━━━━━━━━\u001b[0m \u001b[32m115.3/115.3 kB\u001b[0m \u001b[31m14.3 MB/s\u001b[0m eta \u001b[36m0:00:00\u001b[0m\n",
            "\u001b[2K     \u001b[90m━━━━━━━━━━━━━━━━━━━━━━━━━━━━━━━━━━━━━━\u001b[0m \u001b[32m194.1/194.1 kB\u001b[0m \u001b[31m20.5 MB/s\u001b[0m eta \u001b[36m0:00:00\u001b[0m\n",
            "\u001b[2K     \u001b[90m━━━━━━━━━━━━━━━━━━━━━━━━━━━━━━━━━━━━━━\u001b[0m \u001b[32m134.8/134.8 kB\u001b[0m \u001b[31m16.3 MB/s\u001b[0m eta \u001b[36m0:00:00\u001b[0m\n",
            "\u001b[2K     \u001b[90m━━━━━━━━━━━━━━━━━━━━━━━━━━━━━━━━━━━━━━━━\u001b[0m \u001b[32m1.6/1.6 MB\u001b[0m \u001b[31m68.1 MB/s\u001b[0m eta \u001b[36m0:00:00\u001b[0m\n",
            "\u001b[?25h  Building wheel for rouge-score (setup.py) ... \u001b[?25l\u001b[?25hdone\n",
            "  Building wheel for seqeval (setup.py) ... \u001b[?25l\u001b[?25hdone\n",
            "\u001b[31mERROR: pip's dependency resolver does not currently take into account all the packages that are installed. This behaviour is the source of the following dependency conflicts.\n",
            "torchaudio 2.0.2+cu118 requires torch==2.0.1, but you have torch 1.13.1 which is incompatible.\n",
            "torchdata 0.6.1 requires torch==2.0.1, but you have torch 1.13.1 which is incompatible.\n",
            "torchtext 0.15.2 requires torch==2.0.1, but you have torch 1.13.1 which is incompatible.\u001b[0m\u001b[31m\n",
            "\u001b[0m"
          ]
        }
      ]
    },
    {
      "cell_type": "code",
      "source": [
        "import torch\n",
        "from transformers import AutoModelForSequenceClassification, AutoConfig\n",
        "from fastai.text.all import *\n",
        "from blurr.text.data.all import *\n",
        "from blurr.text.modeling.all import *"
      ],
      "metadata": {
        "id": "IE1vSUJf9Fxb",
        "colab": {
          "base_uri": "https://localhost:8080/",
          "height": 136,
          "referenced_widgets": [
            "af7c77222b9f4131a14b737957a207f2",
            "b82d533a20f944699f265aad49d97242",
            "a9fe48bc8a474a9fb2a6cb4411738c26",
            "11ae73e8805d4614bfcda08e9278a90a",
            "8f8a749951384f5a8530aa17ecb0fdb8",
            "ceea13805c69420fbf0698af29ff0573",
            "f5bd940444c44bf68c49c47c5d6988c5",
            "5dedf7b9778945dcbaf3a9cd47b4d493",
            "f9974124ee1049e7b1c9be7dc6782a36",
            "48abfb2dd9684acfa1789ce79807257e",
            "e10152f25ebb4110892c28bdf7e42638",
            "e11e01e0e2934e16b5794fc146c7b571",
            "485d23af6c054c7ea7359b148f8597b9",
            "9fe6af6427924c11a2487f5817d3cde4",
            "6f90457708c74225a43a4eb8c74eb4eb",
            "8e566aa1c1eb4e63ace3b284000bf8cf",
            "558a02242360456c880ddc06837fe425",
            "9bc373d2e8f34f65b03b4d2eebc297d0",
            "2da77d8bd54144e8a22c86f06fdc0d26",
            "c63a7114ff6047f9a4a4a80127f1d238",
            "25b3fb98d7234c64b3138bcdc01447d1",
            "5aefae9a00fa42208a1a6d19cc4a200b"
          ]
        },
        "outputId": "3e0366fc-5e17-4cbf-acc5-eaced49beda0"
      },
      "execution_count": 4,
      "outputs": [
        {
          "output_type": "stream",
          "name": "stderr",
          "text": [
            "/usr/local/lib/python3.10/dist-packages/blurr/text/modeling/question_answering.py:31: FutureWarning: load_metric is deprecated and will be removed in the next major version of datasets. Use 'evaluate.load' instead, from the new library 🤗 Evaluate: https://huggingface.co/docs/evaluate\n",
            "  squad_metric = load_metric(\"squad\")\n"
          ]
        },
        {
          "output_type": "display_data",
          "data": {
            "text/plain": [
              "Downloading builder script:   0%|          | 0.00/1.72k [00:00<?, ?B/s]"
            ],
            "application/vnd.jupyter.widget-view+json": {
              "version_major": 2,
              "version_minor": 0,
              "model_id": "af7c77222b9f4131a14b737957a207f2"
            }
          },
          "metadata": {}
        },
        {
          "output_type": "display_data",
          "data": {
            "text/plain": [
              "Downloading extra modules:   0%|          | 0.00/1.11k [00:00<?, ?B/s]"
            ],
            "application/vnd.jupyter.widget-view+json": {
              "version_major": 2,
              "version_minor": 0,
              "model_id": "e11e01e0e2934e16b5794fc146c7b571"
            }
          },
          "metadata": {}
        }
      ]
    },
    {
      "cell_type": "code",
      "source": [
        "from google.colab import drive\n",
        "drive.mount('/content/drive')"
      ],
      "metadata": {
        "colab": {
          "base_uri": "https://localhost:8080/"
        },
        "id": "HhA3IF-c9G7y",
        "outputId": "a2f5430d-4cfa-4bcf-a019-1df3498a2439"
      },
      "execution_count": 5,
      "outputs": [
        {
          "output_type": "stream",
          "name": "stdout",
          "text": [
            "Mounted at /content/drive\n"
          ]
        }
      ]
    },
    {
      "cell_type": "code",
      "source": [
        "%cd /content/drive/MyDrive/text-classifier"
      ],
      "metadata": {
        "colab": {
          "base_uri": "https://localhost:8080/"
        },
        "id": "9Y7NuszD9Iby",
        "outputId": "6c412dff-2a19-4018-c79f-04a7c22bbe70"
      },
      "execution_count": 6,
      "outputs": [
        {
          "output_type": "stream",
          "name": "stdout",
          "text": [
            "/content/drive/MyDrive/text-classifier\n"
          ]
        }
      ]
    },
    {
      "cell_type": "markdown",
      "source": [
        "# Data"
      ],
      "metadata": {
        "id": "2BdMKFKo_NBc"
      }
    },
    {
      "cell_type": "code",
      "source": [
        "df = pd.read_csv(\"book_details.csv\")\n",
        "df.head()"
      ],
      "metadata": {
        "colab": {
          "base_uri": "https://localhost:8080/",
          "height": 866
        },
        "id": "EYyD3GF5_Na8",
        "outputId": "127e4743-8301-4483-856a-b1347367b13f"
      },
      "execution_count": 7,
      "outputs": [
        {
          "output_type": "execute_result",
          "data": {
            "text/plain": [
              "                                                                   title  \\\n",
              "0  Awakening Your Money Chakras Secrets to Attracting Wealth and Success   \n",
              "1                                                        Emotions A to Z   \n",
              "2                             The Art of Raise Capital for a New Venture   \n",
              "3                                                  райдуга навколо сонця   \n",
              "4                                      Sibiloi: The Genesis of Humanity?   \n",
              "\n",
              "                                                                                                                                                                                                                                                                                                                                                                                                                                                                                                                                                                                                               description  \\\n",
              "0  Welcome to our enlightening guide on \"Awakening Your Money Chakras: Secrets to Attracting Wealth and Success.\" If you've ever wondered how some people effortlessly attract abundance into their lives while others struggle, this book has the answers you seek!\\n\\nIn this empowering read, we delve into the fascinating world of chakras, the energy centers within us that influence our financial well-being. From the Root Chakra to the Crown Chakra, we explore how each one impacts our money mindset and ability to manifest prosperity.\\n\\nLearn how to identify blockages and imbalances that may have ...   \n",
              "1  \"The Empathy Weave: Embracing Emotional Intelligence for Meaningful Connections\" is a captivating and transformative exploration of emotional intelligence and empathy—a tapestry of understanding and compassion that weaves hearts together with profound human connections. In this enlightening book, readers embark on a journey of self-discovery and growth, unlocking the power of emotional intelligence to enhance personal relationships, professional success, and overall well-being.\\n\\nDrawing upon the rich tapestry of emotional intelligence, this book delves deep into the intricacies of self-a...   \n",
              "2  \"The Art of Raise Capital for Your New Venture\" is a practical and insightful guide that equips entrepreneurs with the knowledge and strategies needed to secure capital for their startup ventures. Authored with the understanding of the challenges faced by startup founders, this book serves as a valuable resource for aspiring entrepreneurs and seasoned founders alike.\\n\\nAt the core of successful fundraising lies the art of visionary storytelling. The book emphasizes the importance of articulating a powerful vision that resonates with potential investors. Through effective communication, en...   \n",
              "3                                                                                                                                                       Життя заможного бізнесмена Марка можна побачити лише у казках: квартири, дорогі автомобілі, красива дівчина. Проте одна подія змінює Марка: врятувавши дівчинку з полум'я та сам ледь не загинувши, він полишає все та вирішує піти у паломництво до Єрусалиму у пошуках відповідей на свої запитання. Шлях далекий та складний, сповнений пригод та небезпек. Але Марк впевнений, що там, біля Гробу Господнього, на нього чекає відповідь на найбільшу таємницю.   \n",
              "4                           ONE Mysterious belt in an antique shop in London is a compass to secret caves of the Amalek tribe in Sibiloi, Northern Kenya.\\n\\nFOUR Researchers want to unravel the truth: biologist Dr Martha Watkins, anthropologist Jim Trevor, and archeologists Dr Paul Brando from California, US, and Professor Simiyu from Kenya.\\n\\nTWO Extremist organisations want the truth buried forever: a religious sect and a terror organisation.\\n\\nDeep in the caves of Sibiloi in Turkana, Kenya, is the answer that has evaded researchers for ages: Sibiloi holds secrets of the genesis of humanity.   \n",
              "\n",
              "                                                                                                                                                                                                                                                                                                                                                                                                                                                                                                                                                                                                                    genres  \n",
              "0  ['Nonfiction', 'Business & Economics', 'Nonfiction', 'New Age', 'Meditation', 'Nonfiction', 'Business & Economics', 'Personal finance / money management', 'Nonfiction', 'Religion & Spirituality', 'Body, mind, & spirit', 'Inspiration & personal growth', 'Nonfiction', 'Self-improvement', 'Personal Growth / Success', 'Nonfiction', 'Business & Economics', 'Nonfiction', 'Business & Economics', 'Nonfiction', 'New Age', 'Meditation', 'Nonfiction', 'New Age', 'Meditation', 'Nonfiction', 'Business & Economics', 'Personal finance / money management', 'Nonfiction', 'Business & Economics', 'Personal f...  \n",
              "1                                                                                                                                                                                                                                                                                        ['Nonfiction', 'Inspiration', 'General self-help', 'Nonfiction', 'Self-improvement', 'Anxieties & Phobias', 'Nonfiction', 'Inspiration', 'General self-help', 'Nonfiction', 'Inspiration', 'General self-help', 'Nonfiction', 'Self-improvement', 'Anxieties & Phobias', 'Nonfiction', 'Self-improvement', 'Anxieties & Phobias']  \n",
              "2                                                                                                                                                                               ['Nonfiction', 'Business & Economics', 'Nonfiction', 'Business & Economics', 'Starting up', 'Nonfiction', 'Business & Economics', 'Budgeting', 'Nonfiction', 'Business & Economics', 'Nonfiction', 'Business & Economics', 'Nonfiction', 'Business & Economics', 'Starting up', 'Nonfiction', 'Business & Economics', 'Starting up', 'Nonfiction', 'Business & Economics', 'Budgeting', 'Nonfiction', 'Business & Economics', 'Budgeting']  \n",
              "3                                                                                                                                                                                                                                                                                                                                                                                                          ['Fiction', 'Adventure', 'General', 'Fiction', 'Adventure', 'Travel', 'Fiction', 'Adventure', 'General', 'Fiction', 'Adventure', 'General', 'Fiction', 'Adventure', 'Travel', 'Fiction', 'Adventure', 'Travel']  \n",
              "4                                                                                                                                                                                                                                              ['Fiction', 'Fiction', 'Adventure', 'Fiction', 'Science fiction', 'Adventure', 'Fiction', 'Science fiction', 'High tech', 'Fiction', 'Fiction', 'Fiction', 'Adventure', 'Fiction', 'Adventure', 'Fiction', 'Science fiction', 'Adventure', 'Fiction', 'Science fiction', 'Adventure', 'Fiction', 'Science fiction', 'High tech', 'Fiction', 'Science fiction', 'High tech']  "
            ],
            "text/html": [
              "\n",
              "  <div id=\"df-c38f15ec-6aba-4418-817e-b5fcb9e43d40\" class=\"colab-df-container\">\n",
              "    <div>\n",
              "<style scoped>\n",
              "    .dataframe tbody tr th:only-of-type {\n",
              "        vertical-align: middle;\n",
              "    }\n",
              "\n",
              "    .dataframe tbody tr th {\n",
              "        vertical-align: top;\n",
              "    }\n",
              "\n",
              "    .dataframe thead th {\n",
              "        text-align: right;\n",
              "    }\n",
              "</style>\n",
              "<table border=\"1\" class=\"dataframe\">\n",
              "  <thead>\n",
              "    <tr style=\"text-align: right;\">\n",
              "      <th></th>\n",
              "      <th>title</th>\n",
              "      <th>description</th>\n",
              "      <th>genres</th>\n",
              "    </tr>\n",
              "  </thead>\n",
              "  <tbody>\n",
              "    <tr>\n",
              "      <th>0</th>\n",
              "      <td>Awakening Your Money Chakras Secrets to Attracting Wealth and Success</td>\n",
              "      <td>Welcome to our enlightening guide on \"Awakening Your Money Chakras: Secrets to Attracting Wealth and Success.\" If you've ever wondered how some people effortlessly attract abundance into their lives while others struggle, this book has the answers you seek!\\n\\nIn this empowering read, we delve into the fascinating world of chakras, the energy centers within us that influence our financial well-being. From the Root Chakra to the Crown Chakra, we explore how each one impacts our money mindset and ability to manifest prosperity.\\n\\nLearn how to identify blockages and imbalances that may have ...</td>\n",
              "      <td>['Nonfiction', 'Business &amp; Economics', 'Nonfiction', 'New Age', 'Meditation', 'Nonfiction', 'Business &amp; Economics', 'Personal finance / money management', 'Nonfiction', 'Religion &amp; Spirituality', 'Body, mind, &amp; spirit', 'Inspiration &amp; personal growth', 'Nonfiction', 'Self-improvement', 'Personal Growth / Success', 'Nonfiction', 'Business &amp; Economics', 'Nonfiction', 'Business &amp; Economics', 'Nonfiction', 'New Age', 'Meditation', 'Nonfiction', 'New Age', 'Meditation', 'Nonfiction', 'Business &amp; Economics', 'Personal finance / money management', 'Nonfiction', 'Business &amp; Economics', 'Personal f...</td>\n",
              "    </tr>\n",
              "    <tr>\n",
              "      <th>1</th>\n",
              "      <td>Emotions A to Z</td>\n",
              "      <td>\"The Empathy Weave: Embracing Emotional Intelligence for Meaningful Connections\" is a captivating and transformative exploration of emotional intelligence and empathy—a tapestry of understanding and compassion that weaves hearts together with profound human connections. In this enlightening book, readers embark on a journey of self-discovery and growth, unlocking the power of emotional intelligence to enhance personal relationships, professional success, and overall well-being.\\n\\nDrawing upon the rich tapestry of emotional intelligence, this book delves deep into the intricacies of self-a...</td>\n",
              "      <td>['Nonfiction', 'Inspiration', 'General self-help', 'Nonfiction', 'Self-improvement', 'Anxieties &amp; Phobias', 'Nonfiction', 'Inspiration', 'General self-help', 'Nonfiction', 'Inspiration', 'General self-help', 'Nonfiction', 'Self-improvement', 'Anxieties &amp; Phobias', 'Nonfiction', 'Self-improvement', 'Anxieties &amp; Phobias']</td>\n",
              "    </tr>\n",
              "    <tr>\n",
              "      <th>2</th>\n",
              "      <td>The Art of Raise Capital for a New Venture</td>\n",
              "      <td>\"The Art of Raise Capital for Your New Venture\" is a practical and insightful guide that equips entrepreneurs with the knowledge and strategies needed to secure capital for their startup ventures. Authored with the understanding of the challenges faced by startup founders, this book serves as a valuable resource for aspiring entrepreneurs and seasoned founders alike.\\n\\nAt the core of successful fundraising lies the art of visionary storytelling. The book emphasizes the importance of articulating a powerful vision that resonates with potential investors. Through effective communication, en...</td>\n",
              "      <td>['Nonfiction', 'Business &amp; Economics', 'Nonfiction', 'Business &amp; Economics', 'Starting up', 'Nonfiction', 'Business &amp; Economics', 'Budgeting', 'Nonfiction', 'Business &amp; Economics', 'Nonfiction', 'Business &amp; Economics', 'Nonfiction', 'Business &amp; Economics', 'Starting up', 'Nonfiction', 'Business &amp; Economics', 'Starting up', 'Nonfiction', 'Business &amp; Economics', 'Budgeting', 'Nonfiction', 'Business &amp; Economics', 'Budgeting']</td>\n",
              "    </tr>\n",
              "    <tr>\n",
              "      <th>3</th>\n",
              "      <td>райдуга навколо сонця</td>\n",
              "      <td>Життя заможного бізнесмена Марка можна побачити лише у казках: квартири, дорогі автомобілі, красива дівчина. Проте одна подія змінює Марка: врятувавши дівчинку з полум'я та сам ледь не загинувши, він полишає все та вирішує піти у паломництво до Єрусалиму у пошуках відповідей на свої запитання. Шлях далекий та складний, сповнений пригод та небезпек. Але Марк впевнений, що там, біля Гробу Господнього, на нього чекає відповідь на найбільшу таємницю.</td>\n",
              "      <td>['Fiction', 'Adventure', 'General', 'Fiction', 'Adventure', 'Travel', 'Fiction', 'Adventure', 'General', 'Fiction', 'Adventure', 'General', 'Fiction', 'Adventure', 'Travel', 'Fiction', 'Adventure', 'Travel']</td>\n",
              "    </tr>\n",
              "    <tr>\n",
              "      <th>4</th>\n",
              "      <td>Sibiloi: The Genesis of Humanity?</td>\n",
              "      <td>ONE Mysterious belt in an antique shop in London is a compass to secret caves of the Amalek tribe in Sibiloi, Northern Kenya.\\n\\nFOUR Researchers want to unravel the truth: biologist Dr Martha Watkins, anthropologist Jim Trevor, and archeologists Dr Paul Brando from California, US, and Professor Simiyu from Kenya.\\n\\nTWO Extremist organisations want the truth buried forever: a religious sect and a terror organisation.\\n\\nDeep in the caves of Sibiloi in Turkana, Kenya, is the answer that has evaded researchers for ages: Sibiloi holds secrets of the genesis of humanity.</td>\n",
              "      <td>['Fiction', 'Fiction', 'Adventure', 'Fiction', 'Science fiction', 'Adventure', 'Fiction', 'Science fiction', 'High tech', 'Fiction', 'Fiction', 'Fiction', 'Adventure', 'Fiction', 'Adventure', 'Fiction', 'Science fiction', 'Adventure', 'Fiction', 'Science fiction', 'Adventure', 'Fiction', 'Science fiction', 'High tech', 'Fiction', 'Science fiction', 'High tech']</td>\n",
              "    </tr>\n",
              "  </tbody>\n",
              "</table>\n",
              "</div>\n",
              "    <div class=\"colab-df-buttons\">\n",
              "\n",
              "  <div class=\"colab-df-container\">\n",
              "    <button class=\"colab-df-convert\" onclick=\"convertToInteractive('df-c38f15ec-6aba-4418-817e-b5fcb9e43d40')\"\n",
              "            title=\"Convert this dataframe to an interactive table.\"\n",
              "            style=\"display:none;\">\n",
              "\n",
              "  <svg xmlns=\"http://www.w3.org/2000/svg\" height=\"24px\" viewBox=\"0 -960 960 960\">\n",
              "    <path d=\"M120-120v-720h720v720H120Zm60-500h600v-160H180v160Zm220 220h160v-160H400v160Zm0 220h160v-160H400v160ZM180-400h160v-160H180v160Zm440 0h160v-160H620v160ZM180-180h160v-160H180v160Zm440 0h160v-160H620v160Z\"/>\n",
              "  </svg>\n",
              "    </button>\n",
              "\n",
              "  <style>\n",
              "    .colab-df-container {\n",
              "      display:flex;\n",
              "      gap: 12px;\n",
              "    }\n",
              "\n",
              "    .colab-df-convert {\n",
              "      background-color: #E8F0FE;\n",
              "      border: none;\n",
              "      border-radius: 50%;\n",
              "      cursor: pointer;\n",
              "      display: none;\n",
              "      fill: #1967D2;\n",
              "      height: 32px;\n",
              "      padding: 0 0 0 0;\n",
              "      width: 32px;\n",
              "    }\n",
              "\n",
              "    .colab-df-convert:hover {\n",
              "      background-color: #E2EBFA;\n",
              "      box-shadow: 0px 1px 2px rgba(60, 64, 67, 0.3), 0px 1px 3px 1px rgba(60, 64, 67, 0.15);\n",
              "      fill: #174EA6;\n",
              "    }\n",
              "\n",
              "    .colab-df-buttons div {\n",
              "      margin-bottom: 4px;\n",
              "    }\n",
              "\n",
              "    [theme=dark] .colab-df-convert {\n",
              "      background-color: #3B4455;\n",
              "      fill: #D2E3FC;\n",
              "    }\n",
              "\n",
              "    [theme=dark] .colab-df-convert:hover {\n",
              "      background-color: #434B5C;\n",
              "      box-shadow: 0px 1px 3px 1px rgba(0, 0, 0, 0.15);\n",
              "      filter: drop-shadow(0px 1px 2px rgba(0, 0, 0, 0.3));\n",
              "      fill: #FFFFFF;\n",
              "    }\n",
              "  </style>\n",
              "\n",
              "    <script>\n",
              "      const buttonEl =\n",
              "        document.querySelector('#df-c38f15ec-6aba-4418-817e-b5fcb9e43d40 button.colab-df-convert');\n",
              "      buttonEl.style.display =\n",
              "        google.colab.kernel.accessAllowed ? 'block' : 'none';\n",
              "\n",
              "      async function convertToInteractive(key) {\n",
              "        const element = document.querySelector('#df-c38f15ec-6aba-4418-817e-b5fcb9e43d40');\n",
              "        const dataTable =\n",
              "          await google.colab.kernel.invokeFunction('convertToInteractive',\n",
              "                                                    [key], {});\n",
              "        if (!dataTable) return;\n",
              "\n",
              "        const docLinkHtml = 'Like what you see? Visit the ' +\n",
              "          '<a target=\"_blank\" href=https://colab.research.google.com/notebooks/data_table.ipynb>data table notebook</a>'\n",
              "          + ' to learn more about interactive tables.';\n",
              "        element.innerHTML = '';\n",
              "        dataTable['output_type'] = 'display_data';\n",
              "        await google.colab.output.renderOutput(dataTable, element);\n",
              "        const docLink = document.createElement('div');\n",
              "        docLink.innerHTML = docLinkHtml;\n",
              "        element.appendChild(docLink);\n",
              "      }\n",
              "    </script>\n",
              "  </div>\n",
              "\n",
              "\n",
              "<div id=\"df-3c7feef2-3cb2-449e-b614-421e927e687a\">\n",
              "  <button class=\"colab-df-quickchart\" onclick=\"quickchart('df-3c7feef2-3cb2-449e-b614-421e927e687a')\"\n",
              "            title=\"Suggest charts.\"\n",
              "            style=\"display:none;\">\n",
              "\n",
              "<svg xmlns=\"http://www.w3.org/2000/svg\" height=\"24px\"viewBox=\"0 0 24 24\"\n",
              "     width=\"24px\">\n",
              "    <g>\n",
              "        <path d=\"M19 3H5c-1.1 0-2 .9-2 2v14c0 1.1.9 2 2 2h14c1.1 0 2-.9 2-2V5c0-1.1-.9-2-2-2zM9 17H7v-7h2v7zm4 0h-2V7h2v10zm4 0h-2v-4h2v4z\"/>\n",
              "    </g>\n",
              "</svg>\n",
              "  </button>\n",
              "\n",
              "<style>\n",
              "  .colab-df-quickchart {\n",
              "      --bg-color: #E8F0FE;\n",
              "      --fill-color: #1967D2;\n",
              "      --hover-bg-color: #E2EBFA;\n",
              "      --hover-fill-color: #174EA6;\n",
              "      --disabled-fill-color: #AAA;\n",
              "      --disabled-bg-color: #DDD;\n",
              "  }\n",
              "\n",
              "  [theme=dark] .colab-df-quickchart {\n",
              "      --bg-color: #3B4455;\n",
              "      --fill-color: #D2E3FC;\n",
              "      --hover-bg-color: #434B5C;\n",
              "      --hover-fill-color: #FFFFFF;\n",
              "      --disabled-bg-color: #3B4455;\n",
              "      --disabled-fill-color: #666;\n",
              "  }\n",
              "\n",
              "  .colab-df-quickchart {\n",
              "    background-color: var(--bg-color);\n",
              "    border: none;\n",
              "    border-radius: 50%;\n",
              "    cursor: pointer;\n",
              "    display: none;\n",
              "    fill: var(--fill-color);\n",
              "    height: 32px;\n",
              "    padding: 0;\n",
              "    width: 32px;\n",
              "  }\n",
              "\n",
              "  .colab-df-quickchart:hover {\n",
              "    background-color: var(--hover-bg-color);\n",
              "    box-shadow: 0 1px 2px rgba(60, 64, 67, 0.3), 0 1px 3px 1px rgba(60, 64, 67, 0.15);\n",
              "    fill: var(--button-hover-fill-color);\n",
              "  }\n",
              "\n",
              "  .colab-df-quickchart-complete:disabled,\n",
              "  .colab-df-quickchart-complete:disabled:hover {\n",
              "    background-color: var(--disabled-bg-color);\n",
              "    fill: var(--disabled-fill-color);\n",
              "    box-shadow: none;\n",
              "  }\n",
              "\n",
              "  .colab-df-spinner {\n",
              "    border: 2px solid var(--fill-color);\n",
              "    border-color: transparent;\n",
              "    border-bottom-color: var(--fill-color);\n",
              "    animation:\n",
              "      spin 1s steps(1) infinite;\n",
              "  }\n",
              "\n",
              "  @keyframes spin {\n",
              "    0% {\n",
              "      border-color: transparent;\n",
              "      border-bottom-color: var(--fill-color);\n",
              "      border-left-color: var(--fill-color);\n",
              "    }\n",
              "    20% {\n",
              "      border-color: transparent;\n",
              "      border-left-color: var(--fill-color);\n",
              "      border-top-color: var(--fill-color);\n",
              "    }\n",
              "    30% {\n",
              "      border-color: transparent;\n",
              "      border-left-color: var(--fill-color);\n",
              "      border-top-color: var(--fill-color);\n",
              "      border-right-color: var(--fill-color);\n",
              "    }\n",
              "    40% {\n",
              "      border-color: transparent;\n",
              "      border-right-color: var(--fill-color);\n",
              "      border-top-color: var(--fill-color);\n",
              "    }\n",
              "    60% {\n",
              "      border-color: transparent;\n",
              "      border-right-color: var(--fill-color);\n",
              "    }\n",
              "    80% {\n",
              "      border-color: transparent;\n",
              "      border-right-color: var(--fill-color);\n",
              "      border-bottom-color: var(--fill-color);\n",
              "    }\n",
              "    90% {\n",
              "      border-color: transparent;\n",
              "      border-bottom-color: var(--fill-color);\n",
              "    }\n",
              "  }\n",
              "</style>\n",
              "\n",
              "  <script>\n",
              "    async function quickchart(key) {\n",
              "      const quickchartButtonEl =\n",
              "        document.querySelector('#' + key + ' button');\n",
              "      quickchartButtonEl.disabled = true;  // To prevent multiple clicks.\n",
              "      quickchartButtonEl.classList.add('colab-df-spinner');\n",
              "      try {\n",
              "        const charts = await google.colab.kernel.invokeFunction(\n",
              "            'suggestCharts', [key], {});\n",
              "      } catch (error) {\n",
              "        console.error('Error during call to suggestCharts:', error);\n",
              "      }\n",
              "      quickchartButtonEl.classList.remove('colab-df-spinner');\n",
              "      quickchartButtonEl.classList.add('colab-df-quickchart-complete');\n",
              "    }\n",
              "    (() => {\n",
              "      let quickchartButtonEl =\n",
              "        document.querySelector('#df-3c7feef2-3cb2-449e-b614-421e927e687a button');\n",
              "      quickchartButtonEl.style.display =\n",
              "        google.colab.kernel.accessAllowed ? 'block' : 'none';\n",
              "    })();\n",
              "  </script>\n",
              "</div>\n",
              "    </div>\n",
              "  </div>\n"
            ]
          },
          "metadata": {},
          "execution_count": 7
        }
      ]
    },
    {
      "cell_type": "code",
      "source": [
        "df. shape\n"
      ],
      "metadata": {
        "colab": {
          "base_uri": "https://localhost:8080/"
        },
        "id": "-0P6N_lyc8rH",
        "outputId": "76aff5b5-823b-4343-f114-e677e6f0c932"
      },
      "execution_count": 8,
      "outputs": [
        {
          "output_type": "execute_result",
          "data": {
            "text/plain": [
              "(27478, 3)"
            ]
          },
          "metadata": {},
          "execution_count": 8
        }
      ]
    },
    {
      "cell_type": "code",
      "source": [
        "df = df.dropna().reset_index(drop=True)\n",
        "df.shape"
      ],
      "metadata": {
        "colab": {
          "base_uri": "https://localhost:8080/"
        },
        "id": "pjYVobSMARF7",
        "outputId": "a5fc468d-7e1c-4d03-ef9e-9334eaef52f5"
      },
      "execution_count": 10,
      "outputs": [
        {
          "output_type": "execute_result",
          "data": {
            "text/plain": [
              "(27478, 3)"
            ]
          },
          "metadata": {},
          "execution_count": 10
        }
      ]
    },
    {
      "cell_type": "code",
      "source": [
        "genres_list = df.genres.to_list()\n",
        "genre_count = {}\n",
        "for genres in genres_list:\n",
        "  genre_list = eval(genres)\n",
        "  for genre in genre_list:\n",
        "    if genre in genre_count.keys():\n",
        "      genre_count[genre] += 1\n",
        "    else:\n",
        "      genre_count[genre] = 1\n",
        "print(f\"Total number of genres in the genres column: {len(genre_count)}\")\n",
        "print(genre_count)"
      ],
      "metadata": {
        "colab": {
          "base_uri": "https://localhost:8080/"
        },
        "id": "iPvxwr4__VYt",
        "outputId": "f980594e-ab9a-4286-bfbf-4dc95dbfc7bd"
      },
      "execution_count": 11,
      "outputs": [
        {
          "output_type": "stream",
          "name": "stdout",
          "text": [
            "Total number of genres in the genres column: 5807\n",
            "{'Nonfiction': 167590, 'Business & Economics': 22209, 'New Age': 2647, 'Meditation': 498, 'Personal finance / money management': 423, 'Religion & Spirituality': 10584, 'Body, mind, & spirit': 2553, 'Inspiration & personal growth': 546, 'Self-improvement': 3900, 'Personal Growth / Success': 402, 'Inspiration': 1926, 'General self-help': 1401, 'Anxieties & Phobias': 159, 'Starting up': 915, 'Budgeting': 255, 'Fiction': 26263, 'Adventure': 2569, 'General': 8661, 'Travel': 9870, 'Science fiction': 1438, 'High tech': 134, 'Health, wellbeing, & medicine': 9969, 'Safety & first aid': 99, 'Physical impairments': 93, 'Education & Study Guides': 6189, 'Driver education': 48, 'Medicine': 1713, 'Critical care': 30, 'Surgery / neurosurgery': 24, 'Education': 630, 'Computers & technology': 165, 'Computers & Internet': 4947, 'Educational software': 57, 'Business administration': 330, 'Business ethics': 264, 'Essay': 834, 'Literature': 1918, 'Reference': 4360, 'Consumer guides': 90, 'Marketing': 516, 'Business writing': 180, 'Mentoring & coaching': 156, 'Social Science': 5690, 'Psychology': 3273, 'Stress': 90, 'Mental health': 471, 'Personal Growth / General': 327, 'History': 9956, 'American': 714, 'Social history': 267, 'North America': 1944, 'Canada': 741, 'USA': 987, 'Art, Architecture, Photography': 12090, 'Fine art': 3261, 'Canadian': 99, 'Architecture': 4434, 'Project management': 264, 'Software development & engineering / general': 39, 'Software development & engineering / project management': 99, 'Engineering, trades, & technology': 1281, 'Project Management': 108, 'Industries / service': 81, 'Desktop applications / project management software': 69, 'Screenplays': 960, 'Action Adventure': 54, 'Romance': 4107, 'Comedy': 255, 'eldridge': 10, 'Biographical': 175, 'Death & Dying': 45, 'Drama': 621, 'Fantasy': 2798, 'Epic': 217, 'Western': 249, 'Playwriting': 105, 'Performing arts': 528, 'Theater / stagecraft': 18, 'Biography': 7766, 'Literary biography': 90, 'War': 514, 'Sci-Fi': 72, 'Author profile': 111, 'LGBTQ+': 1544, 'Dating & relationships': 60, 'Christian': 1108, 'Suspense': 745, 'Horror': 1597, 'Occult': 282, 'Anthologies': 1097, 'Short stories - single author': 351, 'Literary': 706, 'Visionary & metaphysical': 189, 'Space opera': 81, 'Contemporary': 1831, 'Holiday': 495, 'Multicultural & Interracial': 108, 'Sports': 255, 'Religious': 521, 'Ancient & Classical': 81, 'Study & teaching': 450, 'Professional practice': 222, 'Applied psychology': 150, 'Cognitive psychology': 120, 'Creative ability': 18, 'Cooking, Food, Wine, Spirits': 7032, 'American / General': 27, 'American / Middle Western States': 6, 'American / Northwestern States': 6, 'American / Western States': 6, 'Motivation & inspiration': 645, 'Screenwriting': 91, 'Film & video / general': 87, 'Film & video': 146, 'Business aspects': 39, 'Entertainment': 2433, 'Christian Ministry / Counseling & Recovery': 12, 'Individual director': 48, 'Criminals & outlaws': 270, 'Plays': 329, 'Monologues & Scenes': 6, 'Storytelling': 84, 'Television': 96, 'Television / screenwriting': 21, 'Film & video / direction & production': 30, 'Documentary': 39, 'Mystery & detective': 713, 'International crime': 27, 'angels': 1, 'hell': 1, 'ancient': 1, 'gods': 1, 'demons': 1, 'war': 2, 'darkness': 1, 'purgatory': 1, 'lords': 1, 'fear and anger': 1, 'Mashups': 48, 'Thriller & suspense': 930, 'Action & suspense': 219, 'aventura': 3, 'mujer': 1, 'solidaridad': 1, 'riesgo': 1, 'Thriller': 940, 'Supernatural': 517, 'Police Procedural': 78, 'Crime': 895, 'Educational': 66, \"Women's fiction\": 465, 'Mystery': 1182, 'thriller': 7, 'detective': 1, 'detectiv': 2, 'thrilleraction': 1, 'Short': 39, 'Humor & comedy': 540, 'Satire': 135, 'stonehenge': 1, 'sciencefiction': 1, 'fantastique': 1, 'surnaturel': 1, 'egypte': 1, 'nouvelle': 1, 'ovnis': 1, 'nazca': 1, 'apocalipse': 1, 'un autre monde': 1, 'mystery': 7, 'short story': 6, 'sonfather': 2, 'marathi books': 2, 'hollywood': 1, 'screenplays': 1, 'japanese': 1, 'life stories': 1, 'modern fiction': 1, 'life path': 1, 'funny story': 1, 'humor and life': 2, 'japanese crime': 1, 'cultural hero': 1, 'story telling': 2, 'mystery story': 2, 'storybook': 2, 'mysterymurder': 2, 'mystery ebooks': 2, 'mysteryromance': 2, 'mystery short': 2, 'suspense story': 2, 'Flash fiction': 48, 'Women Authors': 51, 'scifi': 4, 'coming of age': 1, 'action': 3, 'military': 3, 'magic': 3, 'dark fantasy': 2, 'witches': 1, 'fae': 1, 'moon': 1, 'space force': 1, 'Utopias & dystopias': 102, 'Dark': 190, 'horror': 7, 'adventure': 7, 'apocalypse': 1, 'science fiction': 1, 'girl': 3, 'cat': 1, 'witch': 1, 'ghost': 1, 'adventures': 1, 'boy': 3, 'fantacy': 1, 'Hard sci-fi': 33, 'Erotic': 69, 'Short stories': 504, 'European / Spanish & Portuguese': 33, 'romance': 9, 'life': 5, 'sex': 11, 'travelling': 4, 'sex addict': 2, 'timetravelling': 2, 'trulovestories': 2, 'life adventure': 2, 'lovestories': 2, 'love': 17, 'king': 1, 'forever': 1, 'familia': 2, 'padres': 2, 'divorcio': 1, 'hijos': 2, 'bienestar': 1, 'madres': 2, 'esposo': 1, 'esposa': 1, 'separacion': 1, 'convivir': 1, 'Relationships & Family': 4428, 'Dysfunctional relationships': 150, 'Courtroom': 45, 'novel': 4, 'philosophy': 7, 'puzzle': 1, 'ambiguity': 1, 'Musical': 33, 'American / African American': 90, 'spirituality': 1, 'clean living': 1, 'british poets': 1, 'black british writers': 1, 'african best selling writers': 1, 'black and british': 1, 'god and other faiths': 1, 'jesus christ poetry': 1, 'jesus poems': 1, 'piousness': 1, 'medicine': 1, 'gym': 1, 'spa': 2, 'sexo': 7, 'deporte': 1, 'ciruga': 1, 'dermatologa': 1, 'piel blanca': 1, 'music production': 1, 'beat thang': 1, 'how to make a beat': 1, 'make beats': 1, 'robotics': 1, 'music': 2, 'movie': 1, 'music and culture': 1, 'breakdance': 1, 'dance beats': 1, 'httpwwwimdbcomtitlett0086946reffnaltt1': 1, 'mia': 1, 'Action/adventure': 123, 'comedy': 3, 'demon': 2, 'cult': 1, 'supernatural': 4, 'devil': 2, 'writer': 2, 'satanic': 1, 'darkhumor': 1, 'acult': 1, 'funny': 4, 'demonic': 1, 'screenplay': 3, 'crazy': 1, 'script': 1, 'femalemaincharacter': 1, 'horror story ghost house': 1, 'Ghost': 165, 'creature': 1, 'racconto': 1, 'splatter': 1, 'gvanessasata': 1, 'ioleggohorror': 1, 'racconti di paura': 1, 'storie dellorrore': 1, 'trasformazioni': 1, 'Political': 327, 'african women': 1, 'warrior women': 1, '1929': 1, 'historical fic': 2, 'women heroines': 1, 'aba riots 1929': 1, 'nigerian play': 1, 'akwa ibom': 1, 'ibibio': 1, 'algeria': 1, 'football': 2, 'sport': 1, 'riyad mahrez': 1, 'football ebook': 1, 'algerian national team': 1, 'algerian national team football': 1, 'djamel belmadi': 1, 'best poetry': 1, 'indian poetry': 1, 'hindi poetry': 1, 'rishabh kumar': 1, 'satta aur rog': 1, 'Politics & Current Affairs': 2340, 'US Constitution': 81, 'china': 5, 'usa': 2, 'eeuu': 2, 'coronavirus': 2, 'covid19': 3, 'cesar savion': 2, 'Historical': 2282, 'Ancient': 496, 'Medieval': 430, 'Film-Noir': 27, 'Entertainment industry': 123, 'street': 1, 'street acrobat': 1, 'hour glass': 1, 'rush hour': 1, 'rusher': 1, 'Philosophy': 2347, 'Movements / Empiricism': 3, 'murder': 2, 'adult': 4, 'Action': 246, 'Hard-Boiled': 93, 'Plays & Screenplays': 462, 'African': 210, 'Parenting': 2866, 'Pregnancy & Child Birth': 201, 'Gay': 180, 'sports': 3, 'sports fiction': 1, 'sports fantasy': 2, 'sports drama': 1, 'sports facts': 1, 'drama': 5, 'story': 3, 'denmohor': 1, 'md roknujjaman rony': 1, 'manali': 1, 'manali tourism': 1, 'manali escort': 1, 'call girls service in manali': 1, 'Modern / 21st Century': 18, 'kashmir': 1, 'amarnath yatra': 1, 'crpf': 1, 'Sociology': 485, 'Democracy': 106, 'Transportation': 883, 'Railroads': 48, 'Classics': 2020, 'jual rumah murah premier estate 2': 1, 'jual rumah premier estate 2': 1, 'perumahan murah premier estate 2': 1, 'perumahan premier estate 2': 1, 'rumah cantik premier estate 2': 1, 'rumah dijual premier estate 2': 1, 'rumah idaman premier estate 2': 1, 'rumah mewah premier estate 2': 1, 'rumah minimalis premier estate 2': 1, 'rumah modern premier estate 2': 1, 'Legal': 129, 'European / English, Irish, Scottish, Welsh': 21, 'Lesbian': 180, 'Psychological thriller': 180, 'Black comedy': 183, 'Inventions': 33, 'time travel': 1, 'idiocracy': 1, 'Diseases / Alzheimer’s & dementia': 60, 'Caregiving': 3, 'Healthcare issues': 291, 'Elder care': 84, 'boisar girl': 1, 'Young adult or teen': 1875, 'Thriller & Suspense': 93, 'eldridge7': 1, 'electricity': 2, 'matter': 2, 'Animation': 15, 'childrens fairy tales childrens poems poems about animals fairy tales in verse': 1, \"Children's Books\": 2070, 'Animals / Animal Welfare': 9, 'Graphic novels & comics': 375, 'adventure scifi': 2, 'family drama': 2, 'psychodrama': 1, 'drama action': 2, 'drama story': 1, 'gerilim': 1, 'drama crime': 1, 'tiyatro': 1, 'uyusturucu': 1, 'yesilay': 1, 'zararli madde': 1, 'Language Instruction': 1173, 'Arabic': 63, 'Poetry': 3281, 'South Asian & Indian poetry': 108, 'Middle Eastern poetry': 132, 'Literary criticism': 393, 'Literacy': 927, 'Translating & interpreting': 105, 'Music': 5018, 'Spiritual': 156, 'Instruction & Study - Songwriting': 81, 'Contemporary Poetry': 483, 'Themes & motifs': 1158, 'Death': 147, 'Middle East': 104, 'African Poetry': 156, 'Composition & creative writing': 193, 'Love': 128, 'Female authors': 249, 'American poetry': 210, 'African American': 128, 'Poetry - multi-author': 87, 'Humor & satire': 612, 'Political science': 1813, 'New adult': 69, 'Cultural & ethnic themes': 351, 'Hispanic & Latino': 105, 'Undead': 54, 'African American fiction': 1164, 'Fairy tales': 81, 'Comics (nonfictional)': 45, 'Comics': 147, 'Contemporary women': 11, 'Historical fiction': 9, 'Manga': 69, 'Clean & wholesome': 108, 'Paranormal': 798, 'Vampires': 131, 'United States / 20th Century': 123, 'Russian': 210, 'Adventurers & explorers': 342, 'Philosophy & social aspects': 64, 'True crime': 294, 'True Crime': 1129, 'White-collar crime': 90, 'Hoaxes & deceptions': 105, 'European': 1113, 'Theater / general': 24, 'Asian': 975, 'China': 238, 'self awareness': 2, 'emotional intelligence': 1, 'personal development': 1, 'kindness': 1, 'compassion': 1, 'empathy': 1, 'books for kids': 1, 'Children’s books': 1251, 'Historical / Africa': 3, 'Historical / Ancient Civilizations': 9, 'Historical / Asia': 3, 'Historical / Medieval': 3, 'Historical / Other': 6, 'Imagination & Play': 60, 'Interactive Adventures': 21, 'Bedtime stories': 126, 'Fairy tales & fables': 126, 'Holidays & Celebrations / Christmas & Advent': 30, 'Short Stories': 393, 'Readers / Beginner': 15, 'Readers / Intermediate': 12, 'Activity Books': 66, 'Social Issues / Emotions & Feelings': 33, 'Social Issues / Values & Virtues': 18, 'Social Issues / Self-Esteem & Self-Reliance': 24, 'Urban': 187, 'Weddings': 321, 'Wedding planning & checklists': 138, 'Budget': 141, 'Dating': 441, 'Groom preparation': 36, 'Wedding': 48, 'Marriage': 312, 'Christian Life / Love & Marriage': 30, 'Strategic planning': 114, 'Family activities': 102, 'Friendship': 114, 'Learning disabilities': 24, 'Study guides - Public Speaking': 84, 'Speech': 48, 'Literary collections': 314, 'Speeches': 6, 'Home & Garden': 5793, 'Pets & livestock': 2691, 'Dogs': 1014, 'Topic / animals': 42, 'Honeymoon planning': 24, 'By region': 4824, 'Australia': 130, 'Specialties & interests': 2016, 'Essays & Travelogues': 366, 'Africa': 1064, 'Madagascar': 36, 'Europe': 1657, 'Spain': 187, 'Spanish': 228, 'Study guides - Literature': 183, 'Spelling': 126, 'National Parks': 171, 'Outdoor activities': 105, 'Sustainable living': 180, 'Personal & Practical Guides': 162, 'Non-formal education': 33, 'Italy': 527, 'The Paranormal': 150, 'Oceania': 154, 'South Pacific Islands': 78, 'Language experience approach': 216, 'Aliens & UFOs': 90, 'Mexico': 97, 'Asia': 1215, 'India': 204, 'Buddhism': 216, 'Rituals & Practice': 24, 'Central America': 93, 'France': 307, 'Antiques & Collectibles': 1890, 'Crafts & Hobbies': 639, 'Decorating': 123, 'Seasonal': 117, 'Pets': 51, 'Science & Nature': 4302, 'Life Sciences / Zoology / Ichthyology & Herpetology': 24, 'Aviation / History': 24, 'Business communication / general': 192, 'Automotive / Trucks': 30, 'Aircraft': 72, 'Free will & determinism': 45, 'Mystery & Detective': 120, 'Motorcycles': 57, 'Bibles': 2718, 'Devotional': 78, 'Southeast': 81, 'Public Transportation': 60, 'Ship building industry': 21, 'Construction / Heating, Ventilation & Air Conditioning': 15, 'Decision-making & problem solving': 273, 'Multicultural education': 132, 'Counseling / career development': 69, 'Leadership': 308, 'Automobiles': 75, 'Careers': 492, 'Sales': 315, 'Sales & selling / management': 192, 'Automotive': 48, 'Aviation / Piloting & Flight Instruction': 18, 'Green living': 228, 'Navigation': 21, 'Adult & continuing education': 99, 'Automotive / Repair & Maintenance': 27, 'Aeronautics & Astronautics': 12, 'Investments & securities / options': 108, 'Automotive / Antique & Classic': 24, 'Automotive / Buyer’s Guides': 36, 'Transportation planning': 63, 'Social services': 87, 'Human rights': 105, 'Commentary & opinion': 60, 'Sports & outdoor recreation': 7611, 'Cricket': 75, 'Weightlifting': 210, 'Vegetarian & Vegan': 297, 'Sports nutrition': 546, 'Confidence & self-esteem': 267, 'Stretching': 129, 'Childhood obesity': 567, 'Nutrition': 266, 'Dieting': 489, 'Diet therapy': 66, 'Health & Healing / Weight Control': 216, 'Health & Healing / Low Fat': 72, 'Food-content guides': 234, \"Women's health\": 459, 'Healing': 276, 'Martial arts': 87, 'Spiritual awakening': 264, 'Diseases / nervous system (incl. brain)': 48, 'Sports training': 213, 'Sports coaching': 189, 'Specific ingredients / seafood': 51, 'Sports safety': 246, 'Vision': 69, 'Time management': 60, 'Time Management': 66, 'Sports Psychology': 96, 'Emotional healing': 303, 'Vitamins': 168, 'healthy living': 537, 'Macrobiotics': 42, 'Golf': 90, 'Bicycling': 138, 'World': 129, 'Historical Geography': 84, 'Human Geography': 60, 'Mythology, folklore, & legend': 120, 'Christian studies': 78, 'Comparative Religion': 63, 'Ethnic & Tribal': 60, 'Ethnic Studies / Native American Studies': 87, 'Religious philosophy': 264, 'Rome': 48, 'Egypt': 147, 'Freemasonry & Secret Societies': 78, 'Disease & health issues': 30, 'Health policy': 21, 'Public health': 33, 'Human Services': 18, 'Parapsychology / esp (clairvoyance, precognition, telepathy)': 21, 'Political economy': 84, 'Interpersonal relations': 93, 'Hypnotism': 33, 'Propaganda': 36, 'Terrorism': 150, 'Intelligence & espionage': 18, 'Security (National & International)': 21, 'Political ideologies / nationalism & patriotism': 30, 'Political freedom': 75, 'Political process / political advocacy': 66, 'Atheistic & Agnostic studies': 87, 'Ancient mysteries & controversial knowledge': 198, 'Sex & Relationships': 1185, \"Men's sexuality\": 249, 'Sleep & sleep disorders': 87, 'Stress Management': 207, 'Personal Growth / Memory Improvement': 30, 'Exercise': 267, 'Body cleansing & detoxification': 285, 'Running & jogging': 162, \"Women's sexuality\": 111, 'Sexual behavior': 138, 'Alternative therapies': 384, 'Psychotherapy / counseling': 45, 'Sexuality': 144, 'Cosmetics': 171, 'Aging well': 159, 'Biographies': 159, 'Emotions': 339, 'Personal success': 381, 'Time': 30, 'Religion & self-improvement': 348, 'Spiritualism': 297, 'Creativity': 123, 'Mood Disorders': 42, 'Security / cryptography': 48, 'Mind & Body': 63, 'Hinduism': 164, 'Eastern': 106, 'Environment': 165, 'Development / sustainable development': 63, 'Green business': 57, 'Amateur naturalist': 804, 'Ecosystems & Habitats / General': 45, 'Global Warming & Climate Change': 84, 'Recording & reproduction': 123, 'Speech & audio processing': 18, 'Acoustics & Sound': 48, 'biotech': 2, 'Physics': 104, 'Intelligence (AI) & semantics': 150, 'Data processing': 48, 'Database management / data mining': 30, 'Programming': 491, 'Algorithms': 60, 'Mathematics': 218, 'Probability & Statistics / General': 30, 'Philosophy of Science': 126, 'History of Science': 72, 'History & Philosophy': 18, 'Mathematical Analysis': 12, 'Waves & Wave Mechanics': 15, 'Medical science': 198, 'Study guides - Medicine': 75, 'Anatomy': 48, 'Dictionaries & terminology': 42, 'Physiology': 24, 'Applied Sciences': 42, 'Space Science': 60, 'Cognitive Science': 30, 'Ethics': 30, 'Nursing / general': 24, 'Ethics & moral philosophy': 106, 'Physician & Patient': 18, 'Diagnostic imaging': 9, 'Radiology & nuclear medicine': 9, 'Radiology': 9, 'Research & Methodology': 45, 'Agricultural science': 63, 'Agriculture & food': 114, 'Experiments & Projects': 33, 'Motivational': 258, 'Christian Life / Spiritual Growth': 57, 'Christian Ministry / Evangelism': 21, 'Law': 1867, 'Islamic law': 144, 'Islam / History': 63, 'Islam / Rituals & Practice': 69, 'Christian Ministry / Discipleship': 18, 'Christian Ministry / Pastoral Resources': 15, 'Christian Ministry / Preaching': 6, 'Witchcraft & wicca': 171, 'Magic': 561, 'Beverages - Coffee & Tea': 90, 'Healing / general': 102, 'Occultism': 222, 'Christianity': 322, 'Christian Life / General': 105, 'Christian Life / Inspirational': 69, 'Christian Church / General': 27, 'Childhood development': 348, 'Motherhood': 386, 'Fatherhood': 213, 'Teens': 117, 'Life stages / adolescence': 60, 'Divorce & children': 153, 'Personal memoir': 1122, 'Daily affirmations': 135, 'Parenting / parent & adult child': 156, 'Dreams': 45, 'Biblical Studies / Bible Study Guides': 69, 'General reference': 231, 'Curiosities & wonders': 40, 'Conflict resolution': 135, 'Family tragedy': 135, 'Anger management': 18, 'Woman biographies': 435, 'Physicians & medical professionals': 102, 'Foreign languages': 96, 'Learning styles': 48, 'Study guides -- General': 93, 'Study guides': 156, 'Angels & Fairies': 93, 'Teaching methods & materials / science & technology': 54, 'Buyer’s guides': 87, 'Information technology': 147, 'Study guides -- Book Notes': 81, 'Publishing & books': 105, 'Documentation & technical writing': 21, 'Technical Writing': 15, 'Blogging': 120, 'Home-based businesses': 294, 'Interactive & multimedia': 51, 'Writing skills': 135, 'Careers / job hunting': 288, 'Education & training': 96, 'Abuse': 141, 'Developmental / lifespan development': 30, 'Clinical psychology': 54, 'Assessment, testing, & measurement': 33, 'Depression': 177, 'Child Abuse': 105, 'Codependency': 18, 'Life stages / general': 57, 'Psychotherapy / couples & family': 27, 'ADHD': 90, 'Attention deficit disorder (ADD-ADHD)': 99, 'Abuse / domestic partner abuse': 57, 'Sexual abuse & harassment': 18, 'Adult Children of Substance Abusers': 24, 'Cleaning & caretaking': 120, 'Personality': 57, 'International relations / general': 51, 'Environmental politics': 72, 'Courts & trial practice': 75, 'Alternative Dispute Resolution': 27, 'Communism & socialism': 114, 'Colonialism & post-colonialism': 60, 'World / Asian': 30, 'Editors, journalists, & publishers': 93, 'Public affairs': 84, 'Current affairs': 84, 'Ethnic studies': 96, 'Government': 142, 'Middle East / Israel': 30, 'Comparative politics': 66, 'Peace': 39, 'World politics': 72, 'Law enforcement': 246, 'Recreations & Games': 18, 'Neuro-Linguistic Programming (NLP)': 24, 'Utopias': 21, 'Other biographies': 249, 'Dream interpretation': 120, 'Yoga': 222, 'New thought': 87, 'Methodology': 18, 'Social': 50, 'Gnosticism': 75, 'Greece': 96, 'Hermeneutics': 27, 'Essays': 773, 'Environmental economics': 33, 'Good & evil': 39, 'Logic': 21, 'Epistemology': 30, 'Criticism': 69, 'Metaphysics': 111, 'Zen': 94, 'Buddhist': 30, 'Alternative medicine': 222, 'Nursing / maternity, perinatal, women’s health': 54, 'Special needs': 6, 'Social Issues / Sexual Abuse': 9, 'Health & Daily Living / General': 12, 'Business, Careers, Occupations': 21, 'Concepts / Money': 15, 'Health risk assessment': 15, 'Mysticism': 187, 'Fortune telling': 132, 'Massage': 96, 'Healing / energy (qigong, reiki, polarity)': 96, 'Reincarnation': 135, 'Parapsychology / out-of-body experience': 15, 'Holism': 45, 'Spirituality / paganism & neo-paganism': 75, 'Hermetism & rosicrucianism': 12, 'Spiritual inspiration': 96, 'Individual Composer & Musician': 186, 'Form / jokes & riddles': 45, 'Music business': 120, 'Advertising': 273, 'Taxation / small business': 99, 'Music theory & composition': 69, 'Choral': 15, 'Lyrics': 39, 'Sheet music & song books': 396, 'Mixed collections': 39, 'Inspirational': 360, 'Rock music': 168, \"Soul & R 'n B\": 42, 'Pop Vocal': 69, 'History & Criticism': 210, 'Heavy Metal': 78, 'World music': 72, 'Musical instruments': 84, 'Folk': 141, 'Instrument - Strings': 177, 'Personal finance': 324, 'Personal finance / budgeting': 261, 'Finance': 173, 'Bankruptcy & insolvency': 36, 'Small business & entrepreneurship': 441, 'Insurance / risk assessment & management': 240, 'Inclusive education': 33, 'Government / Federal': 18, 'Educational Law & Legislation': 33, 'Immigration & Emigration': 159, 'Emigration & Immigration': 42, 'Public policy / general': 123, 'General law': 51, 'Environmental law': 66, 'New business enterprises': 189, 'Corporate governance': 66, 'Corporate': 12, 'Social psychology': 186, 'Computer & Internet': 9, 'Civil rights': 136, 'Business communication / meetings & presentations': 114, 'Communication studies': 99, 'Communications': 30, 'Islam / Theology': 21, 'English as a second language': 234, 'Teaching methods & materials / language arts': 42, 'Professional development': 90, 'Distance & online education': 42, 'French': 147, 'Reading skills': 120, 'Interior decorating': 342, 'Renaissance': 264, 'Decoration & ornament': 243, 'Candle & soap making': 30, 'Home design': 123, 'Do-it-yourself / general': 93, 'Civilization': 297, 'Gardening': 330, 'Greenhouses': 27, 'Training': 735, 'Breeds': 300, 'Home remodeling': 129, 'Western region': 99, 'Alphabets & writing systems': 12, 'South American': 66, 'Military': 763, 'Military biography': 171, 'Confucianism': 12, 'Work-related health': 120, 'Cancer': 84, 'Health & healing / cancer': 42, 'Diseases / heart': 54, 'Diseases / respiratory': 33, 'Diseases': 228, 'Oncology': 18, 'Nursing school study guides': 66, 'Hospital administration & care': 9, 'Nursing / management & leadership': 27, 'Nursing / nurse & patient': 18, 'Clinical medicine': 18, 'Laboratory medicine': 33, 'Microbiology': 15, 'Autobiographies & Memoirs': 255, 'Transgender': 69, 'Christian Life / Personal Growth': 36, 'Faith': 189, 'Religious Intolerance, Persecution, & Conflict': 57, 'Social scientists & psychologists': 147, 'Cultural heritage': 264, 'publishing': 6, 'music business': 4, 'recording artist': 4, 'Games, puzzles, & brain twisters': 522, 'Role Playing & Fantasy': 33, 'Celebrity culture': 180, 'Jewish & Kosher': 3, 'Sheet music': 81, 'Form / essays': 45, 'Teaching': 109, 'Computer vision & pattern recognition': 33, 'Expert systems': 39, 'Rhetoric': 27, 'Polish': 39, 'Mediterranean': 123, 'Specific Ingredients / Meat': 36, 'Specific Ingredients / Poultry': 18, 'Methods / Professional': 51, 'Church member cookbooks': 120, 'International': 104, 'Baby food': 24, 'Middle Eastern': 121, 'Entertaining': 270, 'Baking': 95, 'Courses & Dishes / Cakes': 120, 'Scandinavian': 51, 'Health & Healing / General': 87, 'Outdoor cooking': 69, 'Methods / Quick & Easy': 201, 'Turkish': 28, 'Salads': 66, 'Courses & Dishes / Appetizers': 39, 'Specific Ingredients / Natural Foods': 66, 'Specific ingredients / vegetables': 60, 'Courses & dishes / sauces & dressings': 51, 'Cajun & Creole': 6, 'Caribbean & West Indian': 18, 'Organizations & institutions': 6, 'E-commerce / internet marketing': 504, 'Digital publishing': 105, 'Publishing': 198, 'Self-publishing': 135, 'Computer science': 96, 'Industrial Engineering': 27, 'Poetry / Humorous': 12, 'Body, Mind, & Spirit': 9, 'Curiosities & Wonders': 45, 'Games & Activities / Questions & Answers': 21, 'Readers / Chapter Books': 9, 'Action & Adventure / Survival Stories': 36, 'Health & Daily Living / First Aid': 3, 'Career Guides': 1014, 'Arts': 74, 'Business Management': 66, 'Business': 522, 'Behavioral management': 60, 'Business finance': 249, 'Marketing / direct': 189, 'Commerce': 186, 'Stock market investing': 423, 'Economics': 347, 'Investments & securities / stocks': 159, 'Non-profit business': 207, 'Marketing / telemarketing': 171, 'Religious biography': 159, 'Teachers & educators': 102, 'Christian Ministry / Missions': 27, 'Christian Life / Women’s Issues': 30, 'Art - how to': 1599, 'Applied arts': 702, 'Photography': 473, 'Techniques / equipment': 57, 'Techniques / cinematography & videography': 24, 'Security design': 30, 'Industries / computer industry': 93, 'Security / viruses': 42, 'Nature': 363, 'Crafts - General': 207, 'Subjects & themes / fashion': 6, 'Paper ephemera': 15, 'Rugs': 15, 'Glass & glassware': 36, 'Bottles': 15, 'Books': 87, 'Americana': 111, 'Care & restoration': 75, 'Jewelry': 141, 'Silver, gold, & other metals': 108, 'Investments & securities / mutual funds': 33, 'Coins & stamps': 111, 'Presidents & heads of state': 72, 'Pottery & ceramics': 54, 'Asia / Korea': 33, 'Wedding customs': 54, 'Bride preparation': 66, 'event planning': 2, 'cost savings': 2, 'cocktail parties': 2, 'wedding receptions': 2, 'holiday parties': 2, 'bridal cocktails': 2, 'liquor festivals': 2, 'liquor savings': 2, 'short cuts and tricks': 2, 'signature cocktails': 2, 'Customs & Traditions': 96, 'best man toast wedding friendship speeches storytelling roger cox': 1, 'Judaism': 68, 'Locations': 3, 'Applique': 6, 'travel': 6, 'honeymoon': 1, 'romance travel': 1, 'honeymoon planning': 1, 'Travel - Reference': 234, 'fashion': 2, 'style': 1, 'suits': 1, 'mens fashion': 1, 'mens style': 1, 'fashion and style tips': 1, 'fashion consultant': 1, 'fashion trends': 1, 'formal wear': 1, 'Spirituality / general': 15, 'wedding': 2, 'wedding tips': 1, 'wedding photographer': 1, 'wedding planning advice': 1, 'wedding ebook': 1, 'wedding advice': 3, 'wedding book': 1, 'wedding advice and guidance': 2, 'wedding advice from a photographer': 1, 'wedding planning books': 1, 'Vietnam': 39, 'Trip Journals': 93, 'Museums of the World': 279, 'United Kingdom': 231, 'Europe / Great Britain': 126, 'Western Europe': 66, 'Ireland': 91, 'Restaurants': 234, 'Football & rugby': 438, 'Soccer (association football)': 144, 'Bed & Breakfast': 114, 'Hotels, inns, & hostels': 159, 'Camping & RVing': 219, 'Outdoor Skills': 204, 'Dictionaries': 174, 'Phrasebooks': 27, 'Grammar & punctuation': 96, 'Scotland': 77, 'Midwest': 48, 'East North Central (IL, IN, MI, OH, & WI)': 18, 'West North Central (IA, KS, MN, MO, ND, NE, & SD)': 9, 'Northeast': 45, 'Western (continental)': 51, 'California': 30, 'Future Studies': 30, 'South': 48, 'West South Central (AR, LA, OK, & TX)': 9, 'Middle Atlantic (NJ, NY, & PA)': 12, 'Pictorials': 111, 'Mountain states (AZ, CO, ID, MT, NM, UT, & WY)': 21, 'United States / 19th Century': 72, 'United States / 21st Century': 12, 'Turkey': 24, 'Asian / General': 9, 'Road travel': 300, 'Travel photography': 66, 'Photography - Photo books': 132, 'Collections, catalogs, exhibitions / permanent collections': 42, 'Photoessays & documentaries': 15, 'Photojournalism': 15, 'Subjects & themes / landscapes': 33, 'Japan': 289, 'Travel Games': 42, 'Industries / hospitality, travel & tourism': 42, 'Individual photographers / general': 6, 'Individual photographers / artists’ books': 18, 'Subjects & themes / lifestyles': 9, 'American / general': 48, 'Carving': 9, 'Amusement & theme parks': 63, 'Trivia': 54, 'Questions & answers': 66, 'Board': 12, 'Logic & Brain Teasers': 39, 'Computer gaming': 72, 'Fantasy Sports': 30, 'Quizzes': 9, 'Chess': 15, 'Thailand': 51, 'Asia / Southeast Asia': 42, 'Tanzania': 15, 'Switzerland': 66, 'Europe / France': 48, 'Sweden': 77, 'Luxembourg': 51, 'Iceland': 42, 'Denmark': 47, 'Railroads / Pictorial': 12, 'Snow sports': 243, 'Austria': 9, 'Seasons': 12, 'Tennis': 111, 'Germany': 119, 'Swedish': 9, 'Scandinavian Languages (Other)': 6, 'Europe / Scandinavia': 12, 'European / Scandinavian': 6, 'Norwegian': 9, 'Europe / Spain & Portugal': 51, 'Senior': 54, 'Iran': 77, 'Hikes & walks': 63, 'South America': 103, 'Argentina': 28, 'Brazil': 46, 'Maps': 114, 'Peru': 18, 'Art history': 534, 'Cuba': 132, 'South Korea': 99, 'Southwest': 15, 'Judaism / Rituals & Practice': 9, 'Judaism / Conservative': 9, 'Mongolia': 51, 'Study guides - Sciences': 57, 'Study guides -- TOEFL (Test of English as a Foreign Language)': 105, 'Russia': 190, 'Polar regions': 138, 'Hong Kong': 60, 'Water sports': 84, 'Scuba & Snorkeling': 27, 'Popular culture': 201, 'Organized crime': 129, 'Topic / adult': 12, 'Prints': 177, 'Asia / Japan': 246, 'South Africa': 85, 'Social classes': 114, 'Anthropology / Cultural': 123, 'Developing & Emerging Countries': 18, 'Portuguese': 117, 'Multi-Language Dictionaries': 42, 'Ecuador (including Galapagos Islands)': 15, 'Expeditions & Discoveries': 81, 'Ecosystems & habitats / coastal regions & shorelines': 9, 'Dance / general': 6, 'Dance / folk': 15, 'Dance / modern': 6, 'Dance / popular': 12, 'Ocean life': 39, 'Animals / dinosaurs & prehistoric creatures': 6, 'Chile (including Easter Island)': 3, 'Kenya': 77, 'Morocco': 60, 'Motorcycles / Pictorial': 6, 'Subjects & themes / aerial': 9, 'Christian Life / Devotional': 39, 'Animals': 498, 'Israel': 107, 'Singapore': 9, 'Family': 298, 'Modern / 19th Century': 9, 'Activism': 68, 'Saudi Arabia': 9, 'danger': 1, 'water': 1, 'christians': 1, 'islam': 4, 'desert': 1, 'storytelling': 1, 'arabia': 1, 'oman': 1, 'bedouin': 1, 'hospitality': 1, 'maps': 1, 'tours': 1, 'empty quarter': 1, 'wilfrid thesiger': 1, 'ibn saud': 1, 'Former Soviet Republics': 87, 'Czech Republic': 54, 'Celebrity biography': 162, 'Exports & imports': 129, 'World / Russian & Former Soviet Union': 18, 'Russian & Former Soviet Union': 72, 'Portugal (including Azores)': 21, 'Cruises': 45, 'Ecotourism': 84, 'Alaska': 6, 'Lifestyles / City & Town Life': 3, 'Poland': 27, 'Norway': 9, 'North Korea': 6, 'Media studies': 29, 'smuggling': 1, 'drugs': 3, 'russia': 1, 'siberia': 1, 'korea': 1, 'trafficking': 1, 'manchuria': 1, 'dprk': 1, 'kim il sung': 1, 'Sociology / Urban': 15, 'Demography': 19, 'New Zealand': 45, 'Hiking': 88, 'Family relationships': 39, 'United States / State & Local / West (AK, CA, CO, HI, ID, MT, NV, UT, WY)': 27, 'Knowledge capital': 75, 'Crafts for children': 45, \"Children's Studies\": 39, 'Skills': 198, 'Northern Africa': 51, 'Latin America / Central America': 27, 'Latin America / General': 51, 'Latin America / Mexico': 39, 'Legal Services': 9, 'Contracts': 12, 'Surfing': 57, \"Men's Studies\": 21, 'Eastern region': 90, 'World / African': 18, 'World / European': 18, 'Dutch': 15, 'Rocks & minerals': 3, 'Jordan': 9, 'Japanese': 90, 'Parapsychology / general': 36, 'Asian / Japanese': 30, 'Earthquakes & volcanoes': 12, 'Industries / general': 144, 'Industries / agribusiness': 99, 'Subjects & themes / landscapes & seascapes': 87, 'Intellectual property': 30, 'Copyright': 27, 'Resorts & spas': 96, 'Individual artists / artists’ books': 132, 'Color theory': 90, 'Italian': 129, 'Artists, architects, & photographers': 138, 'Ecosystems & habitats / forests & rainforests': 18, 'Natural resources': 60, 'Regional': 156, 'Buildings': 789, 'Landmarks & monuments': 333, 'Healing / prayer & spiritual': 45, 'Hebrew': 15, 'Spirituality / celtic': 24, 'U.K. Poetry': 84, 'Irish': 12, 'Europe / Ireland': 3, 'Equestrian': 747, 'Riding': 153, 'English': 27, 'Hunt seat & jumper': 15, 'Persian': 3, 'Middle East & Turkey': 6, 'European poetry': 51, 'iran': 1, 'Islamic militancy': 60, 'India & southern Asia': 135, 'Atlases': 24, 'Tibetan': 36, 'Europe / Western': 27, 'Porcelain & china': 21, 'Mountaineering': 71, 'Thai': 39, 'Mandarin': 27, 'German': 57, 'Europe / Germany': 84, 'College Guides': 102, 'Study guides -- College Entrance': 15, 'Real estate / buying & selling homes': 198, 'Miscellaneous': 9, 'Slavic Languages (Other)': 9, 'Serbian & Croatian': 3, 'europe': 2, 'photos': 2, 'malta': 3, 'travelogue': 2, 'nature photos': 2, 'short trip': 2, 'Middle East / Egypt': 9, 'Theater / broadway & musical revue': 12, 'Backpacking': 36, 'Danish': 11, 'Birdwatching guides': 27, 'Animals / wildlife': 39, 'Developmental / general': 36, 'Bilingual education': 165, 'Romance Languages (Other)': 27, 'European / Eastern Russian & Former Soviet Union': 12, 'Holocaust': 179, 'Europe / Eastern': 36, 'Autism spectrum disorders': 30, 'Caribbean & West Indies / General': 21, 'Drawing': 337, 'Urban & land use planning': 84, 'Caribbean & West Indies': 24, 'Bahamas': 24, 'Boating & sailing': 69, 'Rowing': 78, 'Knots, Macrame, & Rope Work': 18, 'Sailing': 36, 'Security': 117, 'Natural disasters': 36, 'Methods / Barbecue & Grilling': 15, 'Industries / energy': 60, 'Energy': 21, 'Cambodia': 6, 'Belgium': 12, 'Courses & Dishes / Breakfast': 33, 'Health & Healing / Diabetic & Sugar-Free': 63, 'Industries / food industry': 102, 'Management & human resources': 183, 'Development / business development': 165, 'Forecasting': 51, 'Vocational': 18, 'Australia & New Zealand': 144, 'Handicapped': 54, 'Albania': 12, 'Middle East / Turkey & Ottoman Empire': 39, 'Western Africa': 39, 'Northern region': 72, 'Places': 21, 'Economic policy': 129, 'Commercial policy': 102, 'Evaluation & assessment': 54, 'Arbitration, Negotiation, Mediation': 78, 'Social policy': 145, 'Public policy / regional planning': 15, 'Environmental / Waste Management': 6, 'Machinery': 18, 'governo': 1, 'cidades': 1, 'transporte': 1, 'planejamento': 1, 'pblico': 1, 'gps': 3, 'payroll': 1, 'time and attendance': 1, 'fleet management': 1, 'finland': 1, 'helsinki': 1, 'travel guide': 2, 'taxi driver': 1, 'taxi cabs': 1, 'travel book': 1, 'finlandia': 1, 'taxi story': 1, 'taxi services': 1, 'finland ebook': 1, 'Military / Aviation': 24, 'Ships & Shipbuilding / Repair & Maintenance': 15, 'Naval Science': 27, 'Engineering (General)': 39, 'Ships & Shipbuilding / History': 6, 'United States / State & Local / Midwest (IA, IL, IN, KS, MI, MN, MO, ND, NE, OH, SD, WI)': 9, 'Computer aided design': 84, 'Railroads / History': 3, 'Model railroading': 3, 'Ocean transport': 42, 'cargo ship': 1, 'military cargo ship': 1, 'philadelphia navy yard': 1, 'sea cargo': 1, 'ship yard': 1, 'Automotive / Customizing': 12, 'Motor sports': 96, 'Automotive / History': 15, 'Home buying': 156, 'Environmental / Pollution Control': 18, 'Power Resources / Alternative & Renewable': 45, 'Aviation / Commercial': 15, 'Skydiving': 66, 'Wrestling': 27, 'Eating disorders': 69, 'Eating Disorders': 117, 'Equipment & Supplies': 48, 'Fishing': 114, 'Animals / fish': 27, 'Swimming & Diving': 12, 'Southern Africa': 42, 'Christian Life / Prayer': 30, 'People with Disabilities': 24, 'Skiing': 87, 'Olympics': 111, 'United States / Revolutionary Period (1775-1800)': 30, 'Racquetball': 45, 'Racquet sports': 114, 'Rackets': 87, 'Squash': 24, 'South Atlantic (DC, DE, FL, GA, MD, NC, SC, VA, & WV)': 9, 'Coaching / Soccer': 27, 'Basketball': 120, 'Coaching / Basketball': 123, 'Track & field': 69, 'Criminology': 92, 'Violence in Society': 75, 'Gymnastics': 78, 'Pain management': 165, 'Hearing & speech': 75, 'Psychiatry / general': 24, 'Health & healing / heart': 36, 'Physical fitness': 156, 'Breast Feeding': 90, 'Sports for physically disabled': 39, 'Extreme sports': 114, 'Kayaking': 36, 'American football': 153, 'Aerobics': 54, 'Sports business': 48, 'Quotations': 81, 'Volleyball': 36, 'Horseracing': 207, 'Natural language processing': 42, 'Coaching / Football': 21, 'Money & monetary policy': 192, 'Sports statistics': 21, 'baseball': 1, 'minor league baseball': 1, 'sports business': 1, 'sports marketing': 1, 'sports promotions': 1, 'desenvolvimento': 1, 'eventos': 1, 'talento': 1, 'desporto': 1, 'gestao desportiva': 1, 'olimpismo': 1, 'planeamento estrategico': 1, 'Hockey': 86, 'Ice & figure skating': 30, 'Roller & In-Line Skating': 9, 'Shooting': 84, 'Snowboarding': 36, 'Boxing': 30, 'Canoeing': 69, 'Rugby': 129, 'Rugby union': 78, 'Topic / sports': 42, 'Rugby league': 18, 'rugby': 2, 'm stefan strozier': 2, 'rugby world cup': 2, 'world audience publishers': 2, 'union rugby': 2, 'Archery': 63, 'Fisheries & Aquaculture': 18, 'Parasailing & hang gliding': 6, 'Hunting': 141, 'Disasters & Disaster Relief': 69, 'Motorcycling': 39, 'Motorcycles / History': 12, 'Environmentalists & naturalists': 84, 'Ecosystems & habitats / wilderness': 3, 'Animals / horses': 168, 'Animal husbandry': 87, 'Agriculture / Sustainable Agriculture': 96, 'Gambling / Lotteries': 15, 'Gambling / Track Betting': 30, 'Gambling / Sports': 42, 'Dog racing': 75, 'Business biography': 177, 'Fencing': 15, 'Baseball / Essays & Writings': 30, 'Post-Confederation (1867–)': 69, 'canada': 1, 'hockey': 1, 'parenting': 1, 'arena': 1, 'ontario': 1, 'goalie': 1, 'hockey mom': 1, 'ohl': 1, 'hockey dad': 1, 'hockey life': 1, '12-step programs': 66, 'cricket book': 1, 'Sports biography': 72, 'Nunavut, Yukon, & Northwest Territories': 21, 'Military / United States': 102, 'short stories': 4, 'sports humor': 1, 'comedy drama': 1, 'web literature': 1, 'humor ebooks': 1, 'humor essays': 1, 'sailing yachts': 1, 'women sailing': 1, 'Murder': 219, 'Serial killers': 105, 'Topic / relationships': 21, 'Triathalon': 66, 'Baseball': 90, 'Baseball / History': 18, 'Baseball / Statistics': 12, 'Softball': 18, 'Student life': 63, 'Secondary': 15, 'Diseases / musculoskeletal': 30, 'Subjects & themes / celebrity': 9, 'Coaching / Baseball': 69, 'Ballooning': 3, 'Ecology': 90, 'Topic / religion': 15, 'Cue sports': 114, 'Snooker': 78, \"Women's studies\": 96, 'Black studies (global)': 39, 'Prostitution & sex trade': 12, 'Women in business': 138, 'Women in politics': 27, 'Feminism & Feminist Theory': 39, 'Absentee parents': 171, 'Sociology / Marriage & Family': 30, 'Islamic studies': 96, 'Discrimination & Race Relations': 63, 'Sacred sexuality': 39, 'Modern / 20th Century': 72, 'Forensic psychology': 6, 'Rap & hip hop': 48, 'International business': 87, 'Teaching methods & materials / library skills': 21, 'Birds': 148, 'Editing & proofreading': 24, 'Style manuals': 18, 'Holidays': 66, 'Religious / Christian / Bedtime & Dreams': 6, 'Economic history': 132, 'Telecommunications': 15, 'Research': 161, 'Psychological disorders': 84, 'Special education / learning disabilities': 15, 'Anthropology': 145, 'Evolution': 148, 'Personal finance / investing': 387, 'Movements / Critical theory': 3, 'Addiction & recovery': 120, 'Management': 372, 'Religious history': 87, 'Christian Church / Leadership': 18, 'Linguistics / Psycholinguistics': 6, 'Physiological psychology': 12, 'Theory': 106, 'Economic conditions': 121, 'Free enterprise': 84, 'Labor': 76, 'Gender studies': 72, 'LGBTQ+ Studies': 87, 'Civil Law': 39, 'Consumer': 3, 'Censorship': 9, 'Caribbean & Latin American': 80, 'Political ideologies / general': 51, 'Regional studies': 9, 'Historiography': 81, 'Native American': 159, 'Native Americans': 67, 'Woodwork': 9, 'Ethnic': 24, 'Latin America studies': 36, 'Minority Studies': 24, 'Constitutional law': 72, 'Linguistics / Pragmatics': 3, 'Jewish studies': 48, 'Jewish': 197, 'Religion & Science': 84, 'Messianic Judaism': 30, 'Political ideologies / radicalism': 3, 'Biblical Studies / Jesus, the Gospels & Acts': 45, 'Assassinations & Conspiracies': 45, 'Comparative': 6, 'Islam': 130, 'Prayerbooks': 42, 'Eastern mysticism': 123, 'Islam / Sufi': 9, 'Islam / Sunni': 24, 'Religious - Muslim': 21, 'Biblical Commentary / General': 39, 'Prayerbooks / Islamic': 57, 'Study guides - Citizenship test': 63, 'Volunteer Work': 9, 'Alternative family': 51, 'Family law': 21, 'Global society studies': 81, 'Imperialism': 15, 'Lesbian Studies': 24, 'Sex & religion': 81, 'Gender & the Law': 12, 'Child Advocacy': 15, 'Feminist': 81, 'Topic / political': 18, 'Africana': 51, 'Clergy': 9, 'Television / history & criticism': 6, 'Children with special needs': 78, 'Healthy aging': 102, 'Personal finance / retirement planning': 201, 'Military / World War II': 123, 'Shintoism': 24, 'American government / state': 18, 'Statistics': 84, 'Poverty & Homelessness': 12, 'Development / economic development': 111, 'Africa / South / Republic of South Africa': 33, 'Penology': 15, 'Violence & harassment': 15, 'Gambling': 84, 'Religion & politics': 93, 'Criminal': 90, 'Criminal procedure': 30, 'Topic / business & professional': 33, 'Emergency medicine': 33, 'Pediatric emergencies': 6, 'Pediatrics': 21, 'Christian Theology / General': 42, 'Christian Education / Adult': 30, 'Mormonism': 66, 'Christianity / Christian Science': 6, 'Theology': 164, 'Religious cults': 87, 'Biblical Studies / New Testament': 15, 'Unitarian Universalism': 9, 'Biblical Criticism & Interpretation / General': 24, 'Christianity / Jehovah’s Witnesses': 3, 'Biblical Meditations / General': 30, 'Biblical Reference / Handbooks': 12, 'Catholicism': 129, 'Biblical Biography / General': 30, 'Blasphemy, Heresy, & Apostasy': 15, 'Biblical Reference / General': 39, 'Christianity / Baptist': 12, 'Demonology & Satanism': 36, 'Christian Life / Death, Grief, Bereavement': 30, 'Archaeology': 94, 'Biblical Studies / History & Culture': 9, 'Juggling': 21, 'Circus': 27, 'Instrument - Percussion': 60, 'Teaching methods & materials / health & sexuality': 21, 'Meditations': 21, 'Developmental / adulthood & aging': 39, 'Death, Grief, Bereavement': 72, 'Rheumatology': 12, 'Gerontology': 21, 'Movements / psychoanalysis': 15, 'Substance Abuse & Addictions / Alcoholism': 42, 'Addiction': 81, 'Abuse / general': 24, 'Substance Abuse & Addictions / Drug Dependence': 48, 'Neuroscience': 50, 'Suicide': 21, 'Hardware / handheld devices': 60, 'Substance Abuse & Addictions / Tobacco': 15, 'Physics / Quantum Theory': 90, 'Physics / Electricity': 12, 'Physics / Optics & Light': 6, 'Scientific Instruments': 6, 'Chemistry': 52, 'Physics / Electromagnetism': 3, 'Physics / Relativity': 21, 'universe': 1, 'energy': 2, 'space': 2, 'time': 2, 'gravity': 1, 'magnetism': 1, 'particles': 1, 'electromagnetism': 1, 'Cosmos': 75, 'Technology': 126, 'Physics / Astrophysics': 33, 'Movements / General': 15, 'Social Aspects': 27, 'Animals / mammals': 15, 'Life Sciences / Marine Biology': 6, 'Animals / Birds': 39, 'Film & video / guides & reviews': 15, 'Animals / insects & spiders': 21, 'Animals / reptiles & amphibians': 30, 'Automation': 15, 'Electronics / General': 15, 'Electronics / Circuits / General': 12, 'Military / Naval': 36, 'Military Science': 60, 'Weather': 36, 'Endangered species': 12, 'Military / Weapons': 54, 'Microwaves': 3, 'Biotechnology': 18, 'Economics / comparative': 75, 'Meteorology & Climate': 57, 'Geography': 26, 'Earth Sciences / Oceanography': 6, 'Ecosystems & habitats / oceans & seas': 3, 'Ecosystems & habitats / polar regions': 6, 'Chaotic Behavior in Systems': 9, 'Earth Sciences / Seismology & Volcanism': 6, 'Fire Science': 9, 'Mechanics / Thermodynamics': 3, 'Health care delivery': 24, 'Nursing home care': 21, 'Naturopathy': 111, 'Holistic medicine': 42, 'Produc designt': 12, 'Diagnosis': 36, 'Drug guides': 18, 'Bibliographies & indices': 24, 'Calculus': 6, 'Number Theory': 9, 'Probability & Statistics / Time Series': 3, 'Number Systems': 6, 'Physics / Mathematical & Computational': 6, 'Arithmetic': 15, 'Open source': 57, 'Games': 120, 'Microsoft programming': 30, 'Linear & Nonlinear Programming': 12, 'Programming languages / General': 36, 'Home schooling': 90, 'Preschool & kindergarten': 63, 'Counting & Numeration': 12, 'engineering': 1, 'malaysia': 1, 'civil engineering': 1, 'mechanical engineering': 1, 'engineering mathematics': 1, 'dbm20023': 1, 'politeknik malaysia': 1, 'dbm10013': 1, 'engineering mathematics 1': 1, 'Christian Theology / History': 9, 'Digital': 195, 'Image processing': 9, 'Topology': 6, 'Management science': 72, 'Political ideologies / fascism & totalitarianism': 21, 'Geology': 31, 'Astronomy': 100, 'Mining': 9, 'Petroleum': 6, 'Earth Sciences / Sedimentology & Stratigraphy': 3, 'Earth Sciences / Mineralogy': 3, 'free ebook': 1, 'tourism': 1, 'national park': 1, 'travel and tourism': 1, 'geology books': 1, 'geotourism': 1, 'geopark': 1, 'gold': 2, 'history': 5, 'australia': 2, 'miner': 1, 'mining': 1, 'metal': 1, 'nuggets': 1, 'detecting': 2, 'detector': 2, 'nugget': 1, 'diamond': 1, 'gemstones': 1, 'garnet': 1, 'climate change': 2, 'climate': 1, 'geography': 2, 'atmosphere': 1, 'climatalogy': 1, 'Genetics': 58, 'Chemotherapy': 12, 'Life Sciences / Genetics & Genomics': 21, 'Evidence-based medicine': 9, 'Embryology': 3, 'Medical history & records': 9, 'Endocrinology & metabolism': 12, 'Psychopathology / autism spectrum disorders': 6, 'Family history': 123, 'Diseases / genetic': 9, 'Life Sciences / Biochemistry': 21, 'Forestry': 72, 'Farming': 108, 'Techniques': 24, 'Trees': 6, 'Plants / general': 33, 'Botany': 78, 'Flowers / Wildflowers': 6, 'Fruit': 19, 'Plants / trees': 9, 'Ecosystems & Habitats / Deserts': 6, 'Ecology & Environment': 72, 'Agriculture / Agronomy / Crop Science': 3, 'Agricultural': 9, 'General cookbooks': 129, 'Beverages - General': 186, 'Container': 15, 'Climatic / Tropical': 3, 'Farming, Fishing, & Forestry': 27, 'Agriculture': 52, 'Agriculture / Organic': 51, 'Organic': 12, 'Vegetables': 30, 'Herbs': 33, 'Paleontology': 21, 'Earth sciences': 49, 'Biochemistry': 3, 'Hindu': 33, 'Life Sciences / Molecular Biology': 15, 'Biology': 136, 'Life Sciences / Cell Biology': 12, 'Life Sciences / Developmental Biology': 6, 'Life Sciences / Taxonomy': 21, 'Life Sciences / Biological Diversity': 15, 'Neurology': 18, 'Life Sciences / Neuroscience': 9, 'Experimental methods': 30, 'Life Sciences / General': 21, 'Agriculture / Agronomy / General': 21, 'Theosophy': 3, 'Scientists, Inventors': 54, 'Sexual physiology': 54, 'Environmental / General': 24, 'Eschatology': 21, 'Computer simulation': 18, 'Numerology': 78, 'Chemistry / Organic': 6, 'Chemistry / Computational & Molecular Modeling': 3, 'Radiation': 6, 'Spectroscopy & Spectrum Analysis': 3, 'Nanoscience': 3, 'herbal medications': 174, 'Diseases / immune system': 36, 'Life Sciences / Horticulture': 6, 'Elementary': 18, 'Life Sciences / Zoology / Mammals': 6, 'Life Sciences / Biophysics': 6, 'armageddon': 1, 'solar system': 1, 'planetary destruction': 1, 'lgbt history': 1, 'great flood': 1, 'cuneiform': 1, 'phaeton': 1, 'creation of solar system': 1, 'Reina Valera / Study': 36, 'dating': 2, 'archaeology': 1, 'carbon': 1, 'santorini': 1, 'libby': 1, 'radiocarbon': 1, 'carbon 14': 1, 'c14': 1, 'frank libby': 1, 'tel rehov': 1, 'chauvet': 1, 'gas counting': 1, 'liquid scintillation counting': 1, 'accelerator mass spectometry': 1, 'Political process / leadership': 3, 'Animal rights': 27, 'Animals / Big Cats': 9, 'Reptiles': 60, 'Fish': 42, 'Neuropsychology': 18, 'Life Sciences / Anatomy & Physiology Life Sciences / Human Anatomy & Physiology': 18, 'Subjects & themes / human figure': 66, 'Sexual enhancement': 57, 'Sexual pathology': 60, 'Diseases / contagious': 9, 'Diseases / skin': 39, 'Health & Healing / Low Salt': 33, 'Aromatherapy': 99, 'Infectious diseases': 21, 'Pharmacology': 3, 'Allergies': 48, 'Fertility & Conception': 141, 'Urology': 9, 'Sexual health': 84, 'Reproductive medicine & technology': 3, 'fitness': 7, 'health': 6, 'masturbation': 3, 'sexual ability': 1, 'sexual acts': 1, 'Sex guides & how tos': 84, 'bacterial vaginosis treatment': 1, 'feminine wash': 1, 'kegel balls for women': 1, 'kegel exercise products': 1, 'pelvic floor strengthening device women': 1, 'tightening cream vigina for sex': 1, 'vaginal wash': 1, 'vaginal wipes': 1, 'vaginial tightening products': 1, 'yeast infection treatment for women': 1, 'seo': 1, 'tour': 1, 'seo tips': 1, 'business ebook': 1, 'blogger tips': 1, 'cryptocurrency': 3, 'marketing jobs': 2, 'adsense money': 1, 'last longer during sex': 1, 'sex meditation': 1, 'sex meditation for men': 1, 'weight loss': 4, 'strength': 1, 'pain relief': 1, 'physical therapy': 1, 'sex enhancement': 1, 'bdsm': 3, 'domination': 3, 'Christian Life / Family': 18, 'Sexual alternatives': 66, 'Sex & culture': 60, 'Sexual psychology': 54, 'Sex & health': 42, 'Sex research': 36, 'Sex education': 60, 'cuckold': 1, 'cuckold anal': 1, 'cuckold adult': 1, 'cuckold book': 1, 'cuckold men': 1, 'cuckold bbc': 1, 'cuckold milf': 1, 'cuckold man': 1, 'cuckold ebook': 1, 'cuckold erotic': 1, 'amor': 7, 'matrimonio': 2, 'genero': 2, 'pareja': 3, 'autoayuda': 3, 'seduccion': 2, 'atraccion': 2, 'educations': 1, 'hindi ebooks': 1, 'mistress': 2, 'fetish': 2, 'femdom': 2, 'submissive man': 2, 'flr': 2, 'men': 2, 'recipes': 1, 'libido': 2, 'boosting': 1, 'rejection': 1, 'women': 3, 'relationship': 5, 'seduction': 1, 'girls': 2, 'pua': 1, 'Christian Life / Social Issues': 12, 'Institutions & Organizations': 12, 'Psychology of Religion': 36, 'Counseling': 6, 'Christian Theology / Ecclesiology': 3, 'Monasticism': 3, 'Christian Theology / Apologetics': 21, 'Judaism / Theology': 3, 'Christian Theology / Pneumatology': 3, 'Biblical Studies / Prophecy': 6, 'Biblical Studies / Prophets': 6, 'Biblical Biography / New Testament': 27, 'Biblical Criticism & Interpretation / New Testament': 6, 'Christian Ministry / Youth': 9, 'Sex & politics': 24, 'politics': 6, 'tales': 1, 'punk': 1, 'gratitude': 1, 'love relationships': 1, 'true tales': 1, 'anarchist scene': 1, 'Prostitution': 82, 'Topic / marriage & family': 15, 'Philosopher biography': 45, 'Sex trade': 48, 'History of sex': 42, 'Gynecology & obstetrics': 27, 'narcissistic': 1, 'narcissist': 1, 'loss': 3, 'suspense': 2, 'relationships': 2, 'virginia': 1, 'virginia dare': 1, 'virginia beach': 1, 'virginia city': 1, 'virginia slade': 1, 'virginia brown': 1, 'virginia aird': 1, 'virginia exam': 1, 'virginia cuff': 1, 'a girl of virginia': 1, 'oral sex': 1, 'blow jobs': 1, 'blowjobs': 1, 'how to give a blowjob': 1, 'how to give head': 1, 'how to give a blow job': 1, 'Form / anecdotes & quotations': 39, 'Science Fiction & Fantasy': 12, 'Words lists': 81, 'Thesauri': 102, 'Directories': 129, 'Study guides -- Professional': 60, 'wedding ceremony ideas': 1, 'wedding dress': 1, 'wedding bride wedding book wedding planner': 1, 'wedding cake': 1, 'wedding checklists': 1, 'wedding ceremony decorations': 1, 'wedding centrepieces': 1, 'groom speech': 1, 'groom wedding speech': 1, 'wedding speech groom': 1, 'groom speech guide': 1, 'Test preparation': 48, 'Encyclopedias': 54, 'Cats': 368, 'generator': 1, 'translate': 1, 'manual book': 1, 'diesel engine': 1, 'arabic book': 1, 'Handbooks & Manuals': 75, 'Purchasing & buying': 54, 'how to': 6, 'video games': 1, 'game making': 1, 'all new game': 1, 'game making bible': 1, 'game making ideas': 1, 'good game making': 1, 'ideas for game': 1, 'making a game': 1, 'making new games': 1, 'Book design': 12, 'Vietnamese': 6, 'Teaching methods & materials / arts & humanities': 75, 'Readers': 6, 'Higher': 24, 'Korean': 12, 'Foreign language study': 39, 'Finnish': 3, 'Etymology': 57, 'Almanac': 27, 'Linguistics': 40, 'Linguistics / Historical & Comparative': 15, 'Baby names': 54, 'Parent participation': 18, 'Etiquette': 42, 'Business etiquette': 150, 'Organizational behavior': 39, 'Restaurant management': 36, 'complaints': 1, 'Tax law': 54, 'Banking': 25, 'Commercial / International Trade': 12, 'Conflict of Laws': 12, 'Form / trivia': 9, 'Biblical Reference / Dictionaries & Encyclopedias': 3, 'nigeria': 2, 'ndoki': 2, 'ndoki culture': 2, 'ndoki history': 2, 'niger delta history': 2, 'nwankwo nwankwo': 2, 'umu okobo': 2, 'umuagbai': 2, 'Conspiracy theories': 30, 'Ngos (non-governmental organizations)': 3, 'American government / legislative branch': 9, 'Desktop publishing': 81, 'Hardware / peripherals': 18, 'Operating systems': 201, 'Careers / internships': 111, 'Infrastructure': 57, 'E-commerce / auctions & small business': 84, 'E-commerce / general': 75, 'Government & business': 126, 'Corporate finance': 93, 'Workplace culture': 114, 'Insurance / automobile': 9, 'Astrology / eastern': 27, 'Feng shui': 42, 'Television / reference': 6, 'Yearbooks & annuals': 3, 'Developmental / adolescent': 21, 'Educational psychology': 54, 'Movements / humanism': 6, 'Practice Management': 12, 'Self-Hypnosis': 15, 'World / Middle Eastern': 21, 'hogwords': 1, 'auto ayuda': 1, 'emotion': 1, 'communication skill': 1, 'emotional manipulation': 1, 'psicologa': 1, 'superacion': 1, 'desarrollo personal': 1, 'autoconocimiento': 1, 'gnosticismo': 1, 'sociologa': 1, 'antropologa': 1, 'gnostica': 1, 'Child abuse': 54, 'Experimental psychology': 6, 'Dermatology': 15, 'Anger': 51, 'Psychiatric disorders': 63, 'OCD': 72, 'Anxiety': 81, 'Geriatrics': 6, 'Christianity / Lutheran': 6, 'Psychopathology / schizophrenia': 3, 'Psychopathology / bipolar disorder': 6, 'Movements / general': 24, 'Movements / behaviorism': 3, 'Optical Illusions': 3, 'Journalism': 62, 'Graphic design -- general': 45, 'Books & Reading': 15, 'Ancient philosophy': 63, 'Ethnopsychology': 3, 'Nursing / psychiatric': 15, 'Parenting / stepparenting': 12, 'Twins, Triplets, & More': 63, 'Adolescent psychology': 66, 'Psychotherapy / general': 9, 'Psychotherapy / Group': 3, 'Family / General': 24, 'Social networking': 144, 'Video production': 99, 'Counseling / crisis management': 6, 'Nursing / assessment & diagnosis': 12, 'Military / Strategy': 54, 'International relations / diplomacy': 21, 'World leaders': 36, 'Political biography': 60, 'White house': 72, 'Congress': 72, 'Contemporary political': 60, 'law': 4, 'cannabis': 1, 'trump': 2, 'law enforcment': 1, 'law and courts': 1, 'trump 2020': 1, 'Arms control': 84, 'Revolutionary': 126, 'American government / national': 24, 'Labor rights': 54, 'Political ideologies / conservatism & liberalism': 21, 'Ecumenism': 6, 'Tort & liability': 36, 'International law': 54, 'Banks & banking': 192, 'Social security & pensions': 63, 'Public policy / cultural policy': 9, 'Disability': 29, 'Movements / Humanism': 15, 'Administrative Law & Regulatory Practice': 57, 'leadership': 1, 'prototype': 1, 'effective leadership': 1, 'transformational leadership': 1, 'great leaders': 1, 'great leadership': 1, 'transformational leader': 1, 'gift gugu mona books': 1, 'gift gugu mona philosophy': 1, 'modern day leader': 1, 'Intergovernmental organizations': 12, 'Royalty biography': 57, 'International relations / treaties': 6, 'Political Process / Political Parties': 9, 'Christian Theology / Ethics': 15, 'Legal systems': 45, 'Legal Profession': 12, 'Government / State, Provincial & Municipal': 6, 'social media': 4, 'retirement': 2, 'immigration': 2, 'courts': 2, 'migration': 3, 'fake news': 2, 'id system': 2, 'truth decay': 2, 'water conflict': 2, 'American government / local': 3, 'Accounting': 168, 'Labor & Employment': 12, 'Industries / transportation': 75, 'islamisme': 1, 'terrorisme': 1, 'coran': 1, 'soul': 2, 'sun': 1, 'rock and roll': 1, 'paz': 1, 'afghan taliban': 1, 'ataque al wtc': 1, 'Military / Afghan War (2001-)': 9, 'Econometrics': 75, 'Political process / elections': 18, 'World / Canadian': 3, 'nature': 1, 'peace': 2, 'indigenous': 1, 'balance': 1, 'united nations': 1, 'harmony': 1, 'sustainability': 2, 'diversity': 1, 'stability': 1, 'Commercial / General': 9, 'Economics / macroeconomics': 153, 'pandemic': 1, 'policy': 2, 'taiwan': 1, 'administration': 1, 'public opinion': 1, 'covid 19': 1, 'covid': 1, 'covid lockdown': 1, 'covid pandemic': 1, 'Historical biography': 72, 'Military / Nuclear Warfare': 21, 'Civil & human rights': 66, 'Rituals & practice': 12, 'City planning': 42, 'Modern / 17th Century': 6, 'Land Use': 3, 'Adoption': 171, 'Educational policy & reform / general': 12, 'Social Activism & Volunteering': 3, 'Renaissance philosophy': 45, 'Auras & colors': 69, 'religion': 2, 'christianity': 1, 'jesus': 6, 'theology': 2, 'purpose': 1, 'worldview': 1, 'the bible': 1, 'History & surveys / renaissance': 3, 'renaissance': 4, 'litterature': 1, 'sarkozy': 1, 'philosophie': 1, 'force': 1, 'flaubert': 1, 'moyen age': 1, 'capitalisme': 2, 'homme': 1, 'monastere': 1, 'yourcenar': 1, 'mai 68': 1, 'bourgeois': 1, 'Movements / Rationalism': 9, 'Movements / Realism': 9, 'infinity': 2, 'egalitarian': 1, 'infinitism': 1, 'New age philosophy': 51, 'Near-death experiences': 63, 'realidades paralelas': 1, 'crear la realidad': 1, 'el hombre crea su universo': 1, 'el hombre y el universo': 1, 'origen del hombre': 1, 'African Languages': 6, 'Phonetics & phonology': 3, 'Linguistics / Sociolinguistics': 3, 'European philosophy': 57, 'aestetics': 1, 'giorgio agamben': 1, 'Contemporary philosophy': 39, 'European / General': 6, 'historia': 1, 'filosofia': 1, 'erotismo': 1, 'historia real': 1, 'filosofos': 1, 'lujuria': 1, 'pecado': 1, 'Asian philosophy': 48, 'wellbeing': 1, 'feng shui book': 1, 'career advancement': 1, 'chinese art': 1, 'feng shui 2021': 1, 'feng shui for beginner': 1, 'art': 9, 'Prayer': 31, 'History & surveys / general': 15, 'History & Surveys / Medieval': 12, 'History & Surveys / Modern': 6, 'Study guides - Philosophy': 51, 'Aesthetics': 12, 'American philosophy': 33, 'Women Sleuths': 36, 'Family health': 117, 'Verbal skills': 54, 'Childhood psychology': 57, 'Counseling / academic development': 6, 'Toilet training': 42, 'Peer pressure': 27, 'Christian Life / Spiritual Warfare': 12, 'Life stages / school age': 21, 'Children': 6, 'Parenting / child rearing': 6, 'discipline': 2, 'guidelines': 2, 'parenting help': 2, 'children': 1, 'babies': 1, 'kindergarten': 1, 'nios': 1, 'bebes': 1, 'decor': 1, 'Preventive medicine': 21, 'Psychiatry / psychopharmacology': 6, 'Diseases / diabetes': 24, 'Physical Medicine & Rehabilitation': 15, 'Oral health': 96, 'Life stages / infants & toddlers': 42, 'Health & healing / low carbohydrate': 66, 'Health & healing / gluten-free': 24, 'Motor skills': 6, 'Math skills': 36, 'Study guides - GMAT': 30, 'Counseling / general': 18, 'math': 3, 'multiplication': 1, 'skill': 1, 'primary school': 1, 'Teaching methods & materials / reading & phonics': 6, 'Business mathematics': 42, 'Python': 21, 'Data modeling & design': 21, 'Probability & Statistics / Regression Analysis': 3, 'Algebra / Intermediate': 3, 'counting 1 to 10': 1, 'math activity book': 1, 'learning activities for elementary and home school': 1, 'math education': 1, 'counting and numbers for beginner': 1, 'counting beginner ebook': 1, 'math ebooks': 1, 'counting books for children': 1, 'counting books for kids toddler books ages 25 kids rhyming toddler short stories preschoolers books rhyming books for kids counting books for toddlers': 1, 'math books': 1, 'Mathematics / Fractions': 3, 'Abortion & Birth Control': 6, 'Juvenile offenders': 12, 'Crystals': 12, 'Grandparenting': 108, 'Child nutrition': 54, 'baby': 2, 'baby food': 2, 'breast milk': 2, 'baby feeding': 2, 'baby formulas': 2, 'baby meal': 2, 'baby milk': 2, 'mother baby': 2, 'mother care': 2, 'mother feed': 2, 'Children’s health': 63, 'children health': 1, 'child nutrition': 1, 'kid health': 1, 'children food habits': 1, 'children weight loss': 1, 'picky eater': 1, 'children and baby food': 1, 'children nutrition': 1, 'nutrition and children': 1, 'picky eating': 1, 'Social Issues / New Experience': 15, 'Spirituality / divine mother, the goddess, quan yin': 33, 'Divination': 115, 'Tarot': 105, 'Palm reading': 96, 'Astrology': 137, 'Astrology / horoscopes': 51, 'Channeling & mediumship': 54, 'Furniture': 30, 'Christian Theology / Angelology & Demonology': 6, 'Geometry / General': 3, 'Gaia & earth energies': 18, 'Entheogens & visionary substances': 9, 'Prophecy': 18, 'I ching': 3, 'Christian Theology / Eschatology': 3, 'Special education / social disabilities': 12, 'Family & general practice': 3, 'Gastroenterology': 3, 'Spirituality / shamanism': 24, 'Gravity': 3, 'Television / guides & reviews': 3, 'Musicals': 40, 'Ballet': 6, 'Voice': 33, 'Musicals, film, & TV': 33, 'Opera & classical scores': 24, 'Piano & keyboard repertoire': 45, 'Piano-vocal-guitar': 30, 'Band & orchestra': 24, 'Blues': 27, 'Instrument - Guitar': 228, 'Guitar & fretted instruments': 141, 'Instrument - Piano & Keyboard': 84, 'Performance': 96, 'Country': 78, 'Artist specific': 9, 'Vocal': 39, 'Punk': 79, 'Instruction & Study - Techniques': 162, 'Instruction & Study - Exercises': 123, 'Instruction & Study - Appreciation': 75, 'Religious & spiritual music': 84, 'Religious - Hymns': 72, 'Religious - Contemporary Christian': 111, 'Religious - Christian': 81, 'Instruments - General': 60, 'Religious - Gospel': 33, 'Instruction & Study - General': 87, 'Electronica': 69, 'Opera': 54, 'Homeopathy': 81, 'Music / Classical': 3, 'wagner': 1, 'operatic': 1, 'verdi': 1, 'operas': 1, 'arias': 1, 'Ethnomusicology': 9, 'Percussion': 9, 'Music reference': 54, 'Business Aspects': 48, 'Distribution': 30, 'Jazz': 12, 'Latin': 57, 'Dance': 37, 'Digital media / audio': 12, 'Criticism & theory': 99, 'Signals & Signal Processing': 3, 'Theater / direction & production': 9, 'Instruction & Study - Composition': 27, 'Dance music': 18, 'Australian & Oceanian': 51, 'Classical': 57, 'Chamber': 9, 'Bluegrass': 3, 'Reggae': 15, 'Alternative': 42, 'Police & Law Enforcement': 3, 'clubbing techno electro': 1, 'rock roll': 1, 'Personal Injury': 3, 'Property': 9, 'Tax planning': 87, 'International / taxation': 75, 'taxes': 1, 'tax planning': 1, 'tax': 1, 'tax guide': 1, 'tax treaty': 1, 'tax refund': 1, 'income taxes': 1, 'tax book': 1, 'irs tax help': 1, 'american taxes': 1, 'imposto propriedade iptu property tax brazil brazilian taxation': 1, 'Taxation / corporate': 75, 'Business & commercial law': 63, 'Securities': 12, 'Practical Guides': 9, 'Witnesses': 3, 'Real estate & property law': 93, 'Real estate': 90, 'Investments & securities / real estate': 150, 'Real estate / commercial': 69, 'Study guides -- Tests': 18, 'Legal theory': 15, 'Jurisprudence': 9, 'Religion / Islam': 9, 'Islam / Koran & Sacred Writings': 18, 'Discrimination': 12, 'Elder Law': 12, 'Sentencing': 6, 'Government / General': 3, 'Remedies & Damages': 9, 'Civil Procedure': 9, 'Legal History': 21, 'Library & information science / general': 6, 'Christianity / Pentecostal & Charismatic': 24, 'Legal Education': 21, 'Natural Resources': 6, 'Public': 6, 'Sustainability & green design': 171, 'Adaptive reuse & renovation': 159, 'Ethics & Professional Responsibility': 15, 'Wills': 3, 'Common': 3, 'Court Rules': 3, 'court': 1, 'judicial': 1, 'child support': 1, 'opioid crisis': 1, 'alternative sanctions': 1, 'court employees': 1, 'court managment': 1, 'court technology': 1, 'online dispute resolution': 1, 'state courts': 1, 'Election Law': 3, 'Indigenous Peoples': 3, 'Evidence': 3, 'United States / Colonial Period (1600-1775)': 21, 'United States / State & Local / Middle Atlantic (DC, DE, MD, NJ, NY, PA)': 15, 'United States / State & Local / South (AL, AR, FL, GA, KY, LA, MS, NC, SC, TN, VA, WV)': 12, 'Web / user generated content': 30, 'Accounting / financial': 189, 'Study guides -- Financial Aid': 21, 'Public finance': 96, 'Landlord & Tenant': 3, 'Business Law': 111, 'Electronics / Digital': 21, 'Materials Science': 9, 'The Message / Study': 45, 'Urdu': 3, 'language': 1, 'spanish': 1, 'english': 3, 'italian': 1, 'slang': 1, 'dictionary': 1, 'spoken': 1, 'colloquial': 1, 'turist': 1, 'idiom': 1, 'viaggi': 1, 'dizionario': 1, 'argot': 1, 'modismo': 1, 'neologism': 1, 'neologismo': 1, 'nonscholasic': 1, 'turista': 1, 'Swahili': 27, 'Rodents': 87, 'Malay': 3, 'Kannada': 6, 'Hindi': 21, 'Spices': 123, 'Indian': 105, 'European / French': 3, 'Czech': 15, 'Cantonese': 18, 'Personal inspiration': 75, 'Study guides - Religion': 54, 'Self-realization': 63, 'Spiritual & metaphysical': 51, 'entertaining': 1, 'inspirational': 1, 'real life': 1, 'informational': 1, 'shocking': 1, 'intriguing': 1, 'healthy life': 1, 'Nutritional supplements': 66, 'Lighting': 36, 'Landscape': 102, 'Methods & materials': 147, 'Residential': 96, 'Design, drafting, drawing, & presentation': 129, 'Home repair': 96, 'Hand tools': 15, 'Power tools': 15, 'House plans': 60, 'Equipment, appliances, & supplies': 45, 'Electrical wiring': 63, 'House Plants & Indoor': 27, 'Do-it-yourself / carpentry': 30, 'Construction / General': 9, 'Industries / automobile industry': 72, 'Industrial management': 99, 'Production & operations management': 93, 'Facility management': 75, 'Home renting': 18, 'Apartment living': 27, 'Home networking': 48, 'Networking / network protocols': 39, 'Networking / security': 45, 'System administration / general': 21, 'Neural networks': 6, 'Networking / intranets & extranets': 12, 'Networking': 51, 'Client-server computing': 15, 'Computer engineering': 42, 'Training & certification': 51, 'Insurance / property': 63, 'Structural': 6, 'Real estate / mortgages': 69, 'Outsourcing': 12, 'Home audio & video': 69, 'Digital media / general': 30, 'Garden Design': 12, 'Environmental / Water Supply': 6, 'Mobile & Wireless Communications': 9, 'Podcasting': 54, 'Human resource management': 144, 'Film & video / reference': 6, 'Industries / entertainment': 12, 'Radio': 15, 'Machine theory': 6, 'Ornamental Plants': 12, 'Framing': 9, 'Regional / General': 3, 'Flowers / General': 3, 'Flowers / Annuals': 3, 'Flowers / Perennials': 3, 'Nature crafts': 9, 'Floor coverings': 3, 'Word & Word Search': 3, 'Do-it-yourself / plumbing': 9, 'Electrical': 30, 'Power Resources / Electrical': 18, 'Do-it-yourself / masonry': 6, 'Construction / Electrical': 3, 'Decks & patios': 12, 'Fashion': 84, 'Book printing & binding': 30, 'Mail order business': 33, 'Crafts - Needlework General': 69, 'Needlework / knitting': 30, 'Miniatures': 3, 'Textile & costume design': 12, 'Models': 9, 'Painting': 198, 'Industries / fashion & textile industry': 75, 'Ceramics': 39, 'Biographical anthologies': 63, 'Antiques & collectibles': 33, 'coins': 1, 'metal detecting': 1, 'metal detector': 1, 'Needlework / embroidery': 21, 'Theater / history & criticism': 9, 'Military / Korean War': 18, 'Military / Persian Gulf War (1991)': 9, 'Military / Vietnam War': 27, 'Military / Veterans': 12, 'Military / Iraq War (2003-)': 9, 'Military / Biological & Chemical Warfare': 12, 'Military / World War I': 42, 'United States / Civil War Period (1850-1877)': 93, 'Europe / Former Soviet Republics': 3, 'Europe / Italy': 33, 'Protestantism': 60, 'Biblical Criticism & Interpretation / Old Testament': 6, 'Natural history': 48, 'Curricula': 6, 'chess': 1, 'dinosaur': 2, 'jurassic': 2, 'ape': 2, 'mammals': 2, 'cretaceous': 2, 'pangea': 2, 'australopithecus': 2, 'gondwana': 2, 'ace age': 2, 'United States / State & Local / Southwest (AZ, NM, OK, TX)': 6, 'Military / Special Forces': 18, 'Power Resources / Nuclear': 6, 'Espionage': 118, 'Middle ages': 60, 'Christian Church / History': 15, 'Nursing / issues': 3, 'History of things': 39, 'Alternative history': 135, 'Christian Rituals & Practice / General': 9, 'dragons': 1, 'dragon': 2, 'dragones': 1, 'dragon age': 1, 'dragon beast': 1, 'Modern / General': 15, 'Prejudice': 12, 'Central region': 99, 'Slavery': 21, 'Europe / Greece': 6, 'sexual health': 2, 'motivation': 1, 'diet': 4, 'power': 1, 'nutrition': 2, 'testosterone': 2, 'sexuality': 1, 'sexy': 1, 'wellness': 1, 'man': 1, 'penis': 1, 'care': 1, 'Study guides -- Armed Forces': 6, 'Allied health services / emergency medical services': 12, 'Nursing / emergency': 9, 'Diseases / Chronic fatigue syndrome': 15, 'Cardiology': 39, 'Epidemiology': 9, 'Biostatistics': 12, 'Pain medicine': 39, 'Study guides - MCAT': 27, 'Medicaid & medicare': 9, 'Nursing / nutrition': 9, 'Courses & dishes / general': 63, 'Diseases / gastrointestinal': 27, 'Courses & Dishes / Chocolate': 12, 'Medical insurance': 54, 'Insurance business': 54, 'Insurance / life': 60, 'Acupressure & acupuncture': 72, 'Physicians': 3, 'Administration': 3, 'Surgery / plastic & cosmetic': 12, 'Allied health services / massage therapy': 6, 'Physical education': 18, 'Osteopathy': 3, 'Power Resources / Fossil Fuels': 6, 'spiritual life': 1, 'christian book': 1, 'simple diets': 1, 'lowcarb living': 1, 'daily prayers': 1, 'diet e books': 1, 'home exercises': 1, 'christian diet': 1, 'ketodietplan': 1, 'Biblical Reference / Concordances': 3, 'Allied health services / respiratory therapy': 9, 'Internal medicine': 18, 'Surgery / general': 24, 'Chiropractic': 39, 'Sports medicine': 15, 'Health & Daily Living / Fitness & Exercise': 6, 'fitness advice': 3, 'fitness and exercise': 1, 'fitness coaching': 1, 'fitness and weight': 1, 'fitness workouts': 1, 'fitness exercise': 1, 'exercise': 1, 'workout': 1, 'workout book': 1, 'chiropractic': 2, 'chiropractic business': 2, 'strategic chiropractic': 1, 'strategic chiropractor': 1, 'Surgery / colon & rectal': 3, 'Nursing / oncology & cancer': 6, 'Body art': 114, 'Pen & ink drawing': 201, 'Pencil drawing': 207, 'Subjects & themes / plants & animals': 87, 'Cartooning': 84, 'Graffiti & street art': 51, 'Graphic design -- illustration': 9, 'Beauty & fashion': 39, 'Health & Daily Living': 12, 'Beauty & Grooming': 12, 'diet book': 1, 'healthy diet': 2, 'diet cookbooks': 1, 'keto diet': 2, 'Hawaii': 3, 'gay': 11, 'lgbt': 7, 'queer': 4, 'homosexual': 3, 'lesbian': 4, 'bisexual': 3, 'transgendered': 3, 'lgbtq': 4, 'pride stories': 3, 'Politics & society': 72, 'Coming out': 72, 'gay sex': 2, 'anal sex': 1, 'gay anal sex': 2, 'gay sex advice': 1, 'gay sex guide': 2, 'how to have gay sex': 2, 'memoir': 1, 'drug dealer': 2, 'addicted': 1, 'gay group sex': 1, 'reality': 2, 'coming out': 3, 'suffering': 2, 'suicide': 1, 'autism': 1, 'promised land': 1, 'stargate': 1, 'aspergers syndrome': 1, 'means of escape': 1, 'transporter bridge': 1, 'wormhole to heaven from earth': 1, 'gay lesbian history art': 2, 'memoirs': 2, 'feminist': 1, 'confessional': 1, 'gay history': 1, 'butte montana': 1, 'i await the devils coming': 1, 'mary maclane': 1, 'the story of mary maclane': 1, 'belles lettres': 1, 'pride': 1, 'lgbtbooks': 1, 'catholic': 1, 'gay writer': 1, 'travell': 1, 'pelgrimage': 1, 'homosexuality': 1, 'bible': 5, 'Collections, catalogs, exhibitions / general': 90, 'submissive': 2, 'nude': 2, 'nudism': 2, 'cute': 2, 'bottom': 2, 'twink': 2, 'nakt': 2, 'nudismo': 2, 'god': 2, 'poetry': 7, 'Divorce': 45, 'black': 1, 'african': 1, 'in the closet': 1, 'gay african': 1, 'Social Topics': 6, 'Dating & Sex': 6, 'intimacy': 1, 'communication': 1, 'orgasm': 1, 'closeness': 1, 'Sociology of Sports': 9, 'Pregnancy & childbirth': 54, 'family': 2, 'birth': 1, 'death': 2, 'motherhood': 1, 'sids': 1, 'International Children’s Bible / Youth & Teen': 12, 'Special education / general': 3, 'Aids & hiv': 3, 'Immunology': 3, 'Divorce & separation': 6, 'Family / Marriage & Divorce': 3, 'marriage': 1, 'couples': 1, 'save marriage': 1, 'marriage problems': 1, 'couples therapy': 1, 'love marriage': 1, 'how to revive your marriage': 1, 'happy wedding': 1, 'inspiracin perdn divorcio guerra espiritual sanacin sabidura para mujeres': 1, 'inspiration forgiveness divorce spiritualwarfare healing faith wisdom for women': 1, 'inspiracin perdn divorcio guerra espiritual sanacin fe sabidura para mujeres': 1, 'emotional abuse': 1, 'human trafficking': 1, 'dysfunctional family relationships': 1, 'chld sexual abuse': 1, 'parental invalidation': 1, 'infantil': 2, 'violencia': 2, 'abuso sexual': 2, 'criancas': 2, 'violencia sexual': 2, 'alerta': 2, 'denuncie': 2, 'Balancing work & family': 54, 'hermanos': 1, 'crianza en los hijos': 1, 'llanto en los ninos': 1, 'madres angustiadas': 1, 'madres estresadas': 1, 'madres primerizas': 1, 'Aging': 51, 'elder care': 1, 'aging': 1, 'dementia': 1, 'alzheimers disease': 1, 'memory care': 1, 'geriatric care': 1, 'nursing home': 1, 'care giving': 1, 'aging in place': 1, 'inhome care': 1, 'Form / comic strips & cartoons': 12, 'Sudoku': 36, 'Instrument - Brass': 45, 'Instrument - Woodwinds': 36, 'Lawns': 3, 'Form / parodies': 12, 'Card Games / General': 9, 'Card Games / Blackjack': 9, 'Card Games / Poker': 12, 'Card Games / Bridge': 3, 'Gambling / Table': 6, 'Public relations': 90, 'Emergency Management': 18, 'Philanthropy & Charity': 3, 'Marketing / industrial': 108, 'International / marketing': 189, 'E-commerce / online trading': 150, 'User interfaces': 6, 'astral': 1, 'astrologia': 1, 'empresa': 1, 'esoterismo': 1, 'crear empresa': 1, 'horoscopos': 1, 'astral chart': 1, 'empresarios': 1, 'empresa incio': 1, 'horoscopo': 1, 'Vocational trades': 30, 'investing': 1, 'bitcoin': 1, 'business': 8, 'ebook': 4, 'marketing': 6, 'ebook download': 1, 'marketing job': 1, 'marketing book': 1, 'ebook action': 1, 'freemarketing': 1, 'Sales & Marketing': 66, 'Personal Care & Service': 51, 'preppers': 1, 'prepper': 1, 'Auditing': 90, 'Handwriting': 9, 'Paralegals & Paralegalism': 3, 'Administration / general': 6, 'Classroom management': 6, 'Study skills': 42, 'Concepts / Counting & Numbers': 6, 'how to learn': 1, 'how to study': 1, 'how to succeed in college': 1, 'how to do your best': 1, 'how to ear an a': 1, 'how to improve your gpa': 1, 'Study guides -- CLEP (College-Level Examination Program)': 3, 'Study guides - Visual & Performing Arts': 36, 'arte': 4, 'educacion artistica': 1, 'educacion plastica': 1, 'educacion visual': 1, 'fine arts': 1, 'nid': 1, 'ceed': 1, 'cept': 1, 'entrance exam preparation': 1, 'iit jee paper ii': 1, 'nata': 1, 'nift': 1, 'uceed': 1, 'Study guides - Trades crafts': 51, 'Industrial Technology': 39, 'Quality Control': 12, 'Industries / manufacturing': 69, 'Mechanical': 39, 'Manufacturing': 30, 'Trademark': 3, 'Industrial & organizational psychology': 9, 'International Relations / Trade & Tariffs': 6, 'Office equipment & supplies': 3, 'Nanotechnology & MEMS': 3, 'Study guides - Social science': 45, 'Social aspects / general': 21, 'Collaborative & team teaching': 18, 'Social Work': 21, 'project leadership': 1, 'conflict management': 1, 'leadership traits': 1, 'leadership theories': 1, '7 grid styles': 1, 'leadership in closed system': 1, 'leadership in open system': 1, 'leadership types': 1, 'project course work': 1, 'project management course': 1, 'System Theory': 3, 'Microscopes & Microscopy': 3, 'Laboratory Techniques': 3, 'Study guides - SAT': 45, 'Testing & measurement': 3, 'Getting into college': 63, 'sat': 1, 'sat math': 1, 'revision sat': 1, 'Study guides - Mathematics': 45, 'Prayerbooks / Christian': 30, 'Christian Life / Stewardship & Giving': 12, 'Biblical Studies / Exegesis & Hermeneutics': 18, 'Christian Theology / Christology': 12, 'Public Speaking & Presentation': 3, 'Desktop applications / presentation software': 12, 'Study guides - PSAT': 3, 'Practice management & reimbursement': 3, 'Instruments & supplies': 12, 'Nursing / critical & intensive care': 9, 'Nursing / test preparation & review': 36, 'Nursing / research & theory': 12, 'Numerical Analysis': 3, 'Mathematics / Geometry': 3, 'mcat': 1, 'medical school': 1, 'medical school admissions': 1, 'premed': 1, 'Study guides - LSAT': 21, 'Study guides - Interdisciplinary': 51, 'Culinary careers': 39, 'gmat': 1, 'gmat preparation': 1, 'gmat test prep': 1, 'gmat questions': 1, 'gmat prep course': 1, 'gmat quant prep': 1, 'gmat quant questions': 1, 'gmat study guide': 1, 'mba quant': 1, 'mba study guide': 1, 'Study guides - GED test': 12, 'foreign languages': 1, 'language learning': 1, 'Study guides - Foreign Languages': 48, 'temps': 1, 'livre': 1, 'allemand': 1, 'modes': 1, 'grammaire': 1, 'conjugaison': 1, 'apprendre lallemand': 1, 'grammaire allemande': 1, 'conjugaison allemande': 1, 'parler lallemand': 1, 'Study guides - Ethnic studies': 6, 'Study guides - English (insert language book was written in)': 51, 'Special education / communicative disorders': 3, 'literature': 3, 'study guide': 1, 'Study guides - Engineering': 36, 'smps': 1, 'battery chargers': 1, 'dcac invereters': 1, 'dcdc converters': 1, 'ferrite core transformers': 1, 'power electronics': 1, 'power supplies': 1, 'switchmode power supplies': 1, 'Study guides - Education': 36, 'Science': 386, 'alankar': 1, 'alankar bhushan': 1, 'cuarentena': 1, 'cuarentena movil': 1, 'educacion por competencias': 1, 'electromagnetism by h c rajpoot': 1, 'hcr formula for electromagnetism': 1, 'hcrs electromagnetism': 1, 'Study guides -- MAT (Miller Analogies Test)': 3, 'Economics / theory': 126, 'Study guides - Economics': 30, 'market': 2, 'monopoly': 1, 'monopoly theory': 1, 'monopolistic competition': 1, 'cbse 12': 1, 'economic notes': 1, 'economics for exams': 1, 'forms of market': 1, 'perfect competition': 1, 'Study guides - Computer Science': 48, 'C++': 18, 'Student life & student affairs': 3, 'Operating systems / DOS': 3, 'Study guides - Civil service employment test': 21, 'Study guides - CPA test': 18, 'Study guides - Business': 33, 'make money online': 2, 'grow business': 2, 'increase business': 2, 'multi million company': 2, 'business studies': 2, 'grade 12': 2, 'nsc': 2, 'caps': 2, 'business environments': 1, 'Study guides - Agriculture': 33, 'Administration / elementary & secondary': 3, 'Study guides - AP exam': 12, 'snow white': 1, 'alice in wonderland': 1, 'calculus': 1, 'derivatives': 1, 'integrals': 1, 'three little pigs': 1, 'red riding hood': 1, 'rapunzel': 1, 'jack and the beanstalk': 1, 'exam': 1, 'exam anxiety': 1, 'exam help': 1, 'exam dump': 1, 'exam anxeity': 1, 'exam facts study guide': 1, 'exam facts study guides': 1, 'examinationsurvivals': 1, 'Study guides - ACT': 18, 'act test': 1, 'act study guide': 1, 'Study guides -- GRE (Graduate Record Examination)': 3, 'School directories': 3, 'Nursing / reference': 6, 'Nursing / pharmacology': 3, 'Science & Nature / Experiments & Projects': 6, 'swedish language': 1, 'swedish dictionary': 1, 'foreign language learning': 1, 'swedish learning': 1, 'swedish pictionary': 1, 'notebook': 1, 'phoenix notebook': 1, 'journal phoenix': 1, 'blocnote phoenix': 1, 'phoenix leather journal': 1, 'notes phoenix': 1, 'aymara': 1, 'aymaras': 1, 'aymaras chile': 1, 'cosmovision aymara': 1, 'daniel mamani': 1, 'lengua aymara': 1, 'libro aymara': 1, 'sociology': 1, 'economic': 1, 'History of education': 24, 'distance learning': 1, 'lifelong learning': 1, 'purpose of education': 1, 'roles of teachers': 1, 'specialized education': 1, 'technology of learning': 1, 'education': 5, 'inspiration': 1, 'determination': 1, 'success': 2, 'child': 2, 'ambition': 1, 'goal': 1, 'analysis': 1, 'determination and overcoming dependency': 1, 'success and failure': 1, 'thinking ability': 1, 'ability': 1, 'out of box': 1, 'mathematics': 1, 'algebra': 1, 'equations': 1, 'equation': 1, 'elimination': 1, 'consistent equation': 1, 'graph equations': 1, 'college application': 1, 'exam taking skill': 1, 'higher education': 1, 'college admissions': 1, 'college preparation': 2, 'student success': 1, 'college bound': 1, 'college advice': 1, 'college counseling': 1, 'College prep checklists': 48, 'self help': 5, 'healthy habits': 1, 'health wellness': 1, 'job market': 1, 'colleges and university experiences': 1, 'inspiration and motivation': 1, 'college experience': 1, 'failure to success': 1, 'Careers in education': 39, 'concurso asesores': 1, 'concurso docentes': 1, 'docentes en el exterior': 1, 'Wine': 126, 'Bartending': 138, 'Organic foods': 75, 'Gourmet': 69, 'Soups': 51, 'Beer': 75, 'Methods / Garnishing': 21, 'Beverages - Non-Alcoholic': 105, 'Specific ingredients / rice & grains': 12, 'Diet cooking': 42, 'Specific Ingredients / Pasta': 21, 'Pizza': 69, 'Cookies': 99, 'Health & Healing / Low Cholesterol': 24, 'Methods / Quantity': 30, 'Soul Food': 12, 'Greek': 39, 'Appliances & accessories': 84, 'Methods / slow cooking': 33, 'Courses & Dishes / Pastry': 12, 'Courses & dishes / confectionery': 6, 'Central American & South American': 27, 'Methods / Cookery for One': 18, 'Desserts': 74, 'Courses & Dishes / Bread': 24, 'Courses & Dishes / Brunch': 27, 'Methods / Wok': 12, 'American / Southern States': 18, 'Methods / General': 51, 'Specific Ingredients / Game': 6, 'Methods / raw food': 3, 'Specific Ingredients / Fruit': 33, 'Microwave cooking': 51, 'Canning & preserving': 45, 'microwave': 1, 'microwave cooking and health': 1, 'microwave food': 1, 'microwave meals': 1, 'microwave cakes in a mug': 1, 'microwave cheese sauce': 1, 'microwave cookware': 1, 'microwave cookbook': 1, 'Mexican': 57, 'Pacific Rim': 9, 'Specific ingredients / dairy': 3, 'Tablesetting': 3, 'Hungarian': 3, 'English, Scottish, & Welsh': 3, 'lose weight': 1, 'weight diet': 1, 'easy recipes': 1, 'diet cookbook': 1, 'recipe book': 1, 'nutritious ingredients': 1, 'sustainable diet': 1, 'Health & Daily Living / Diet & Nutrition': 30, 'kidney disease': 1, 'diet plans': 1, 'potassium': 1, 'sodium': 1, 'phosphorus': 1, 'ckd': 1, 'kidney diet': 1, 'dietotherapy': 1, 'lowprotein': 1, 'fat': 1, 'thin': 1, 'breakfast keto': 1, 'desert keto': 1, 'easy keto recipes': 1, 'keto diet menu': 1, 'keto diet plan free pdf': 1, 'keto dinner ideas': 1, 'keto lunch ideas': 1, 'keto meals prep': 1, 'ketosis meals': 1, 'burn fat': 1, 'weightloss': 1, 'burn fat diet': 1, 'meal plan': 1, 'fat belly diet': 1, 'belly fat loss': 1, 'low carbs diet': 1, 'keto recipes': 1, 'meals': 1, 'cooking': 1, 'kitchen': 1, 'cooking tips': 1, 'Chinese': 81, 'beer': 2, 'eastern europe': 1, 'brewing': 2, 'pilsner': 1, 'czech': 1, 'bohemia': 1, 'brewery': 1, 'pilsener': 1, 'pivo': 1, 'pivovar': 1, 'Beverages - Beer': 57, 'Beverages - Bartending': 60, 'Afghani': 21, 'como fazer um hambrguer': 1, 'como fazer um hambrguer suculento': 1, 'vegan recipes': 1, 'vegan': 1, 'healthy recipes': 1, 'healthy desserts': 1, 'dessert recipes': 1, 'vegan desserts': 1, 'dessrts': 1, 'glutenfree desserts': 1, 'naturally delicious vegan desserts': 1, 'ebook readers': 33, 'write an ebook': 1, 'how to write an ebook': 1, 'paypal': 1, 'paypal suspension': 1, 'paypal limitations': 1, 'paypal verification': 1, 'paypal personal account': 1, 'paypal problems': 1, 'paypal tips': 1, 'paypal guide': 1, 'paypallimitation': 1, 'paypal account': 1, 'subscribers': 1, 'build a list': 1, 'list building': 1, 'list build tips': 1, 'subscribers list': 1, 'Desktop applications / word processing': 12, 'Web integration': 150, 'JavaScript': 96, 'Web / page design': 93, 'Internet': 175, 'HTML': 6, 'PHP': 33, 'Web / browsers': 66, 'Ruby': 6, 'Graphics & design': 69, 'Computer graphics': 33, 'Techniques / digital': 48, 'Digital photography': 60, 'Operating systems / Linux': 48, 'Cybernetics': 3, 'Programming / object oriented': 27, 'Java': 12, 'Computer Science': 11, 'Computer literacy': 18, 'Web / search engines': 18, 'Political Process / General': 6, 'Internet / security': 21, 'Database management': 84, 'SQL': 33, 'Software Development & Engineering / Tools': 3, 'Operating systems / Virtualization': 18, 'Assembly Language': 12, 'Operating systems / Windows Workstation': 51, 'C#': 39, 'Hardware / mainframes & minicomputers': 15, 'Operating systems / UNIX': 15, 'System administration / Linux & UNIX administration': 36, 'Operating systems / Windows Server & NT': 18, 'System administration / Windows administration': 21, 'System administration / email administration': 12, 'Compilers': 6, 'Software development & engineering / systems analysis & design': 12, 'Office productivity applications': 39, 'Secretarial aids & training': 3, 'Investments & securities / futures': 63, 'Certification guides / A+': 3, 'Operating systems / Macintosh': 9, 'Programming / parallel': 3, 'Enterprise applications / collaboration software': 9, 'Desktop applications / suites': 9, 'Home automation': 6, 'Hardware': 66, 'Microprocessors': 3, 'Drafting & Mechanical Drawing': 36, 'Hardware / personal computers / Macintosh': 6, 'Hardware / network hardware': 3, 'Desktop applications / databases': 36, 'Industrial Design / General': 6, 'Enterprise IT management': 48, 'Optical data processing': 9, 'Virtual worlds': 9, 'Mathematical & statistical software': 3, 'Information management': 57, 'Enterprise applications / business intelligence tools': 18, 'Certification guides / MCSE': 3, 'Information theory': 9, 'Logic design': 3, 'Document management': 6, 'Consulting': 126, 'System administration / disaster & recovery': 3, 'Systems architecture / distributed systems & computing': 15, 'Systems architecture / general': 24, 'Techniques / lighting': 24, 'Subjects & themes / portraits': 42, 'Photography - how to': 72, 'Office automation': 9, 'Desktop applications / personal finance applications': 15, 'Desktop applications / spreadsheets': 3, 'Customer relations': 129, 'Data storage': 39, 'Online services / general': 9, 'Social aspects / human-computer interaction': 15, 'Civil / General': 9, 'Animals / bears': 3, 'Physics / Atomic & Molecular': 6, 'Writing': 58, 'Language Arts / General': 12, 'Comics & Graphic Novels / General': 9, 'Trains': 26, 'Animals / Horses': 6, 'Sports & Recreation / Soccer': 9, 'Sports & Recreation / Baseball & Softball': 3, 'Games & puzzles': 30, 'Games & Activities / Board Games': 6, 'Games & Activities / Card Games': 6, 'Sports & Recreation / Track & Field': 9, 'Sports & Recreation / Football': 6, 'Sports & Recreation / Gymnastics': 6, 'Sports & Recreation / Extreme Sports': 3, 'Animals / Kangaroos': 6, 'Music / Songbooks': 9, 'Science & Nature / Environmental Conservation & Protection': 6, 'Science & Nature / Environmental Science & Ecosystems': 6, 'Religion / Biblical Studies': 3, 'Religion / Biblical Biography': 3, 'Religious / Christian / Family & Relationships': 3, 'Animals / Marine Life': 3, 'Animals / Reptiles & Amphibians': 3, 'Science & Nature / Zoology': 6, 'Science & Nature / Anatomy & Physiology': 3, 'Science & Nature / Biology': 6, 'Science & Nature / Trees & Forests': 3, 'Foreign Language Study / English as a Second Language': 6, 'Games & Activities / Word Games': 24, 'Humor / General': 12, 'Social Issues / Friendship': 12, 'Social Issues / Special Needs': 6, 'Insects (except lepidopterans), spiders, etc.': 6, 'Nature & the Natural World / Environment': 12, 'Pets & domestic animals': 33, 'Farm animals (general)': 9, 'Horses & ponies': 3, 'Animals / Dinosaurs & Prehistoric Creatures': 6, 'Lepidopterans (butterflies, moths, & caterpillars)': 3, 'Stories in Verse': 21, 'Marine creatures (general)': 6, 'Sports & Recreation / Camping & Outdoor Activities': 3, 'Transportation / Boats, Ships & Underwater Craft': 12, 'Music / Instruction & Study': 3, 'Performing Arts / Theater': 9, 'Money': 73, 'Computers / Internet': 18, 'Growing Up': 69, 'Cooking & Food': 57, 'Insects': 27, 'Adventure & Adventurers': 15, 'Animals / Butterflies, Moths & Caterpillars': 3, 'Concepts / General': 21, 'Humor / Jokes & Riddles': 12, 'How-it-works': 27, 'Science & Nature / Discoveries': 6, 'Technology / Inventions': 9, 'History / Modern': 6, 'Science & Nature / History of Science': 3, 'Holidays & Celebrations / Other, Religious': 9, 'Holidays & Celebrations / Thanksgiving': 3, 'History / United States / State & Local': 3, 'Clothing & Dress': 3, 'Religion / Bible Stories / Old Testament': 3, 'Science & Nature / Earth Sciences / Earthquakes & Volcanoes': 3, 'childrens book': 1, 'reindeer': 1, 'reference book': 1, 'christmas book': 1, 'history book': 1, 'santa book': 1, 'yule buck': 1, 'Health': 169, 'Health & Daily Living / Daily Activities': 12, 'Holidays & Celebrations / Birthdays': 6, 'Social Science / Psychology': 3, 'Social Science / General': 6, 'Religion / Christianity': 3, 'Social Issues / Self-Mutilation': 6, 'Girls & Women': 12, 'Health & Daily Living / Personal Hygiene': 6, 'Family / Parents': 6, 'Transportation / General': 6, 'Dentistry / dental hygiene': 6, 'Games & Activities / Puzzles': 6, 'Mathematics / General': 3, 'Religious / Christian / People & Places': 3, 'Religious / Christian / Relationships': 3, 'Turtles': 3, 'Fairy Tales & Folklore / Anthologies': 3, 'Legends, Myths, Fables / General': 21, 'Legends, Myths, Fables / Other': 3, 'Monsters': 8, 'Holidays & Celebrations / Halloween': 6, 'Family / Orphans & Foster Homes': 6, 'Performing Arts / Television & Radio': 6, 'Media Studies': 6, 'Dolls': 57, 'Animals / Baby Animals': 6, 'People & Places / Asia': 6, 'Lifestyles / Country Life': 3, 'Computers / Entertainment & Games': 9, 'Computers / Programming': 12, 'Computers / Software': 12, 'Law & Crime': 3, 'Technology / General': 6, 'kids': 1, 'online safety': 1, 'kids 6 to 10': 1, 'kids 5 over': 1, 'cyber safety': 1, 'kids 6 to 8': 1, 'kids 5 to 10': 1, 'kids 5 and up': 1, 'kids 6 and up': 1, 'cyber smart': 1, 'worksheets': 1, 'information technology': 1, 'computer book': 1, 'fun activities': 1, 'computer lessons': 1, 'kids activity': 1, 'printables': 1, 'elt worksheets': 1, 'esl worksheets': 1, 'computer worksheets': 1, 'Computers / Hardware': 3, 'Civics': 21, 'Animals / Mammals': 6, 'Science & Nature / Disasters': 3, 'Biography & Autobiography / Art': 6, 'Biography & Autobiography / Social Activists': 3, 'Biography & Autobiography / Political': 3, 'Biography & Autobiography / Women': 3, 'Cars': 21, 'Transportation / Motorcycles': 3, 'cars': 1, 'bmw': 1, 'Health & Daily Living / Sexuality & Pregnancy': 3, 'Social Issues / Dating & Sex': 6, 'Biography & Autobiography / Historical': 3, 'Biography & Autobiography / Music': 3, 'Biography & Autobiography / Performing Arts': 3, 'Biography & Autobiography / Sports & Recreation': 3, 'Social Issues / Bullying': 3, 'Art': 298, 'Art / Cartooning': 6, 'Art / Drawing': 3, 'Art / Techniques': 6, 'Concepts / Colors': 6, 'Concepts / Size & Shape': 3, 'Animals / Farm Animals': 3, 'Animals / Jungle Animals': 6, 'Animals / Lions, Tigers, Leopards, etc.': 3, 'Animals / Wolves & Coyotes': 3, 'Animals / Giraffes': 3, 'Animals / Apes, Monkeys, etc.': 3, 'Animals / Zoos': 3, 'Animals / Deer, Moose & Caribou': 3, 'Animals / Dogs': 3, 'uber': 1, 'lyft': 1, 'rideshare': 1, 'uber driver': 1, 'lyft driver': 1, 'driving for lyft': 1, 'driving for uber': 1, 'writing': 4, 'career': 7, 'television': 2, 'howto': 3, 'screenwriting': 3, 'guide': 5, 'film': 2, 'examples': 2, 'styleguide': 2, 'security': 1, 'social': 2, 'Social Services': 48, 'jobs': 1, 'careers': 1, 'ios development': 1, 'android development': 1, 'youth': 1, 'motivational': 1, 'making money': 1, 'make money': 4, 'make money now': 1, 'quick and easy': 1, 'online money': 2, 'how make money': 1, 'trading online': 1, 'facebook': 1, 'online': 2, 'branding': 1, 'trending': 1, 'latest news': 1, 'books publications': 1, 'online marketing values': 1, 'onyeuche godson': 1, 'beauty salon': 1, 'beautician': 1, 'hertfordshire beauty salon': 1, 'how to become a beautician': 1, 'how to become a beauty expert': 1, 'how to manage a beauty salon': 1, 'london beauty salon': 1, 'seda beauty salon': 1, 'seda ozen': 1, 'waltham cross beauty salon': 1, 'Office & Administrative Support': 51, 'professional': 1, 'editing': 1, 'translation': 1, 'cv': 1, 'Healthcare Practitioners': 48, 'job': 1, 'veterans': 1, 'Media': 30, '365 days challenge': 2, 'god ka bhakt': 2, 'introvert harsh chaudhary': 2, 'shayari quotes': 2, 'journalism': 1, 'conflict': 1, 'manufacturing': 1, 'resume': 1, 'career guide': 1, 'resume guide': 1, 'machining': 1, 'machinist': 1, 'Legal Writing': 3, 'Judicial Power': 3, 'General crimes': 75, 'investigation': 2, 'investigator': 2, 'gumshoe': 2, 'investigatory': 2, 'investigatore privato': 2, 'sleuth detective': 2, 'sleuthing': 2, 'investigation procedures': 2, 'investigation services': 2, 'school': 2, 'legal': 1, 'study': 1, 'age': 1, 'mature': 1, 'successful': 1, 'how': 1, 'job search': 1, 'recruiter': 2, 'attorneys': 1, 'advice column': 1, 'bodyguard': 1, 'secret service': 1, 'bodyguards': 1, 'private investigation': 1, 'private security': 1, 'diplomatic security': 1, 'united states secret service': 1, 'usss': 1, 'executive protection': 1, 'money': 2, 'police': 1, 'finance': 1, 'law enforcement': 1, 's': 1, 'budget': 1, 'Installation, Maintenance, & Repair': 27, 'Construction': 36, 'Import/Export': 6, 'Allied health services / physical therapy': 3, 'mds': 1, 'bds': 1, 'dental ebook': 1, 'dental fellowship courses': 1, 'passion': 2, 'student': 2, 'nurse': 1, 'nursing student': 1, 'nursing career': 1, 'student money': 1, 'student nurses': 1, 'nurse mentor': 1, 'nurse books': 1, 'Pharmacy': 3, 'Facilities Management': 18, 'model': 1, 'modelling': 1, 'fashion modeling': 1, 'african model': 1, 'model book': 1, 'model training': 1, 'childrens holiday': 1, 'russkie knigi': 1, 'how to weave bast shoes': 1, 'russian bast shoes': 1, 'creativity': 2, 'certifications': 1, 'comptia': 1, 'mep course in thrissur': 1, 'mep course in kerala': 1, 'mep course in bangalore': 1, 'hvac course in bangalore': 1, 'industrial automation course in kerala': 1, 'fiber optic course in kerala': 1, 'ielts coaching centre in thrissur': 1, 'hvac course in kerala': 1, 'mep course in coimbatore': 1, 'secrets': 1, 'making': 1, 'jewelry': 1, 'jewelry making secrets': 1, 'Design': 51, 'portfolio': 1, 'animation': 1, 'animator': 1, 'industry': 1, 'student guide': 1, 'student advice': 1, 'graphics': 1, 'design': 1, 'designer': 1, 'graphic': 1, 'graphic design': 1, 'layout artist': 1, 'layout': 1, 'designers': 1, 'graphic artist': 1, 'graphic designer': 1, 'graphic arts': 1, 'how to succeed as a graphic designer': 1, 'print design': 1, 'typography': 1, 'Culinary arts': 6, 'iii': 1, 'ooo': 1, 'uuu': 1, 'yyy': 1, 'safety': 1, 'healing': 1, 'self improvement': 1, 'construction': 1, 'hvac': 2, 'jesus is lord': 1, 'self confidence book': 1, 'hvac sales': 2, 'self adjusting': 1, 'sales and services': 1, 'hope': 1, 'overcoming': 1, 'vegas': 1, 'character building': 1, 'help faith jesus': 1, 'motivation and self improvement': 1, 'hvac service los angeles hvac repair la hvac la ac repair los angeles heating repair los angeles': 1, 'Architecture & Engineering': 54, 'Construction / Contracting': 18, 'Organizational development': 27, 'knowledge': 1, 'earn': 1, 'digital marketing': 1, 'whatsapp': 1, 'social site': 1, 'whatsapp business': 1, 'freelancing': 1, 'benefits': 1, 'money at home': 1, 'duc nguyen': 1, 'Individual architects & firms': 141, 'Economics / microeconomics': 126, 'Publishing business': 63, 'Accounting / managerial': 117, 'Personal finance / taxation': 96, 'Foreign exchange': 168, 'Probability & Statistics / Bayesian Analysis': 3, 'Complex Analysis': 3, 'Quality control': 45, 'Bookkeeping': 102, 'Negotiating': 105, 'Urban & regional': 27, 'Other Translations / New Testament & Portions': 30, 'Christian Theology / Process': 9, 'Development / general': 45, 'Microfinance': 15, 'Desktop applications / email clients': 6, 'International / economics': 102, 'entrepreneurs': 1, 'crypto': 1, 'ada': 1, 'passiveincome': 1, 'cardano': 1, 'faith': 2, 'selfdevelopment': 1, 'mentorship': 1, 'success life': 1, 'investing and budgeting': 1, 'insurance': 4, 'car insurance': 1, 'home insurance': 3, 'life insurance': 1, 'insurance info': 1, 'fire insurance': 1, 'risk analysis': 1, 'risk management': 1, 'insurance book': 1, 'Marketing / multilevel': 90, 'Consumerism': 108, 'Franchises': 15, 'Diaries & Journals': 12, 'Corporate & business history': 39, 'Accounting / governmental': 72, 'International / accounting': 33, 'People of color': 42, 'biography': 1, 'autobiography': 1, 'engineer': 1, 'elon musk': 1, 'male biography': 1, 'chronicles his life': 1, 'philosophy behind tesla spacex paypal': 1, 'pressing issues': 1, 'radical vision for the future of mankind': 1, 'God’s Word / General': 222, 'Subjects & themes / erotica': 21, 'witty': 1, 'sayings': 1, 'booklet': 1, 'life wisdom': 1, '100 affirmations': 1, '100 observations': 1, '100 truths': 1, 'mini biography': 1, 'modern proverbs': 1, 'fiction book': 1, 'fiction ebook': 1, 'into the frozen': 1, 'james marr': 1, 'Religious / Christian / Inspirational': 3, 'Diseases / AIDS & HIV': 6, 'elizabeth i': 3, 'mayflower': 3, 'tudor england': 3, 'plymouth colony': 3, 'james i': 3, 'bill cole': 3, 'stuart england': 3, 'professor': 1, 'india': 2, 'south asia': 1, 'wanderer': 1, 'travels': 1, 'pasolini': 1, 'criminaliteit onderneming ontslag': 1, 'Educational policy & reform / federal legislation': 3, 'Christian Theology / Systematic': 6, 'Theism': 6, 'Christian Church / Growth': 12, 'Christian Rituals & Practice / Worship & Liturgy': 18, 'Biblical Studies / Old Testament': 15, 'Biblical Studies / Wisdom Literature': 9, 'spiritual': 3, 'religious': 1, 'Sacred writings': 60, 'Biblical Biography / Old Testament': 24, 'Christianity / History': 30, 'Religious art': 90, 'Christianity / Orthodox': 3, 'Conceptual': 87, 'God’s Word / Devotional': 114, 'Religious / Christian / Comics & Graphic Novels': 3, 'Biblical Meditations / New Testament': 6, 'Ancient & classical': 90, 'gayatri mantra': 1, 'gayatri manthram': 1, 'gayatri mantra benefits': 1, 'gayatri mantra jaap': 1, 'Christian Life / Men’s Issues': 6, 'Christian Education / General': 24, 'Christian Ministry / General': 12, 'Christian Theology / Soteriology': 9, 'Christianity / Denominations': 6, 'Other Translations / Study': 90, 'Christianity / Literature & the Arts': 9, 'Multiple Translations / New Testament & Portions': 12, 'Judaism / Talmud': 3, 'Judaism / Kabbalah & Mysticism': 15, 'Scientology': 15, 'Deism': 6, 'Biblical Meditations / Old Testament': 3, 'Christian Theology / Mariology': 6, 'Theravada': 12, 'Sacred Writings': 3, 'Christian Standard Bible / New Testament & Portions': 48, 'Christian Standard Bible / Study': 93, 'The Message / General': 57, 'The Message / Devotional': 30, 'The Message / Reference': 12, 'Other Translations / Reference': 111, 'Fundamentalism': 6, 'Atheism/Agnosticism': 57, 'Taoism': 6, 'Commercial': 15, 'Techniques / darkroom': 6, 'Techniques / color': 21, 'Subjects & themes / architectural & industrial': 9, 'Subjects & themes / celebrations & events': 3, 'Artists': 90, 'Semiotics & Theory': 3, 'Individual artists / essays': 54, 'Individual artists / monographs': 30, 'Sculpture & installation': 27, 'Modern (late 19th Century–1945)': 183, 'Romanticism': 46, 'Conservation & preservation': 75, 'Art & politics': 102, 'Contemporary (1945–)': 108, 'Holidays / Other': 6, 'Mixed media': 81, 'Prehistoric & primitive': 30, 'Figurines': 42, 'Holidays / Christmas & Advent': 15, 'Color': 75, 'Acrylic painting': 63, 'Watercolor painting': 78, 'Life drawing': 45, 'Language Arts': 6, 'Composition & Creative Writing': 6, 'Subjects & themes / general': 69, 'Papercrafts': 6, 'Scrapbooking': 6, 'Oil painting': 81, 'Public, commercial, & industrial': 84, 'philosphy': 1, 'tales2inspire': 1, 'Clocks & watches': 84, 'Dye': 9, 'Metal work': 12, 'Interest': 45, 'Investments & securities / commodities': 75, 'smma': 1, 'guide for you': 1, 'Magazines & newspapers': 54, 'Sculpting': 24, 'Toys': 87, 'Toy animals': 27, 'Performing-arts items': 12, 'Apparel, costumes, & textiles': 24, 'tutorial': 1, 'logo': 1, 'editori foto': 1, 'ghid neprofesionist': 1, 'nixon': 1, 'impeachment': 1, 'pelosi': 1, 'impeach': 1, 'rodino': 1, 'house judiciary committee': 1, 'nadler': 1, 'senate managers': 1, 'Spanish Poetry': 72, 'Canadian Poetry': 48, 'Hispanic American': 18, 'Poetry - general': 51, 'Scandinavian Poetry': 39, 'poesi': 1, 'svenska': 1, 'dikt': 1, 'diktsamling': 1, 'Portuguese poetry': 33, 'brazilian poetry': 1, 'christina ramalho': 1, 'ponteiros de papel': 1, 'poesia': 4, 'Latin American Poetry': 72, 'sentimento': 1, 'poesia breve': 1, 'poesia curta': 1, 'poesia amor': 1, 'de amor': 1, 'will': 1, 'areias': 1, 'eternas manhas': 1, 'guimaraes': 1, 'outono': 1, 'friends': 2, 'chess player': 1, 'Judaism / History': 6, 'Eastern European Poetry': 45, 'Ancient Poetry': 69, 'haiku': 1, 'haiku love': 1, 'haiku poems': 1, 'haiku book': 1, 'haiku flower': 1, 'Japanese Poetry': 27, 'ficcin': 1, 'relatos': 1, 'historias de amor': 1, 'antologa': 1, 'German Poetry': 45, 'French Poetry': 33, 'Caribbean Poetry': 60, 'Asian poetry': 51, 'Chinese poetry': 27, 'young adult': 2, 'teen': 1, 'kindle authors': 1, 'kindle ebook': 1, 'Crime & mystery': 27, 'kids stories': 1, 'cartoon': 1, 'selfpublish': 1, 'comic strips': 2, 'comic literature': 1, 'children art': 1, 'Superheroes': 13, 'mythology': 1, 'superhero': 1, 'cupid': 1, 'ancient gods': 1, 'anti hero': 1, 'roman fantasy': 1, 'minecraft book': 2, 'minecraft book for kids': 1, 'minecraft adventure': 2, 'minecraft kids': 1, 'minecraft series': 1, 'minecraft comics': 2, 'minecraft books ages 912': 1, 'minecraft childrens books': 1, 'minecraft alex': 2, 'minecraft steve and alex': 2, 'childrens books': 1, 'action and adventure': 1, 'minecraft': 1, 'minecraft graphic novel': 1, 'comic': 4, 'vietnam': 1, 'scifi fantasy': 1, 'alien attack': 1, 'humor': 4, 'aventuras': 2, 'onion': 2, 'mundo': 2, 'viaje': 2, 'monstruos': 2, 'pea': 2, 'comic book': 1, 'comics': 1, 'frogs': 1, 'fantasy': 3, 'interview': 1, 'gnomes': 1, 'cartoons': 1, 'kids humor': 1, 'parakeets': 1, 'children comic': 1, 'funny stories': 1, 'yemen': 1, 'rethinking': 1, 'ironies': 1, 'laugh painfully': 1, 'polishing rusts': 1, 'rusts': 1, 'yemen with slight light out of backwordand ignorance': 1, 'yemeni suffering hearts': 1, 'fiction': 1, 'mideast': 1, 'ida': 1, 'ramazan ates': 1, 'ramazan ates eserleri': 1, 'ask roman': 1, 'ida roman': 1, 'kazda': 1, 'kazdag': 1, 'zeki ates': 1, 'zeki ates eserleri': 1, 'War & military adventure': 108, 'play': 1, 'show business': 1, 'theater': 2, 'theater school': 1, 'show biz': 1, 'modeling': 1, 'guangzhou': 1, 'korea movie': 1, 'romantic abusive erotic love young love south african writer nursery drakensberg mountains mature love marriage change new life violence drama steamy blossoms': 1, 'callous queen': 1, 'Asian American': 45, 'Fairy Tales & Folklore / Adaptations': 9, 'soccer': 1, 'theatre': 1, 'restaurants': 1, 'nightclubs': 1, 'red wine': 1, 'parallel dimensions': 1, 'theatre play': 1, 'cafes': 1, 'robin hood': 1, 'scorpion': 1, 'deathstalker': 1, 'robin hood deathstalker scorpion': 1, 'anthologies': 1, 'flash fiction': 1, 'consequential moments': 1, 'life in the moment': 1, 'Religious & Liturgical': 6, 'Apes & monkeys': 6, 'Zoos': 3, 'Pets (general)': 3, 'Performing Arts / General': 3, 'Performing Arts / Dance': 6, 'Performing Arts / Music': 3, 'Holidays & Celebrations / Other, Non-Religious': 6, 'Rabbits': 33, 'Mythical animals': 9, 'Action & Adventure / Pirates': 6, 'Fairy Tales & Folklore / Country & Ethnic': 9, 'Religious / Christian / General': 3, 'Concepts / Seasons': 3, 'Religious / Christian / Fantasy': 3, 'Legends, Myths, Fables / Norse': 3, 'Fairy Tales': 109, 'Fishes': 3, 'friendship': 2, 'spirit': 1, 'fairy tale': 1, 'explore': 1, 'Concepts / Body': 3, 'exciting': 1, 'memories': 1, 'teaching': 1, 'children books': 1, 'moral': 1, 'imaginative': 1, 'life values': 1, 'Sea adventures': 60, 'Bears': 3, 'Boys & Men': 6, 'Books & Libraries': 9, 'Family / Multigenerational': 3, 'Baby animals': 3, 'Short stories - multi-author': 81, 'Cozy': 33, 'Gothic': 163, 'Poetry - single author': 54, 'Technological': 45, 'Weird fiction': 87, 'murder mystery': 1, 'detectives': 1, 'horror stories': 1, 'edgar allan poe': 1, 'classics': 1, 'horror fiction': 2, 'weather magic': 1, 'ghosts stories': 1, 'christmas': 1, 'charles dickens': 1, 'Graphic novels/comics/manga': 39, 'Graphic Novel': 36, 'Comics & Graphic Novels / Manga': 3, 'african american': 1, 'sci fi': 2, 'digital comics': 1, 'tragedy': 1, 'grief': 2, 'acceptance': 2, 'connections': 1, 'friendships': 1, 'Drama/Theatrical': 45, 'addiction': 2, 'social issues': 1, 'quick read': 1, 'closure': 1, 'rebellious': 1, 'theft': 1, 'reconciliation': 1, 'quest': 1, 'coma': 1, 'regret': 1, 'promise': 1, 'devout': 1, 'Chick lit': 270, 'Billionaires': 63, 'Romantic Comedy': 75, '20th Century': 377, 'Family sagas': 78, 'Time travel': 40, 'Contemporary woman': 249, 'Urban life': 258, 'Psychological': 225, 'Cyberpunk': 69, 'Coming of age': 162, 'Later in Life': 27, 'Shifters': 45, 'American / Hispanic American': 48, 'Shakespeare': 15, 'Cultural interest, general': 144, 'Colonial America': 60, 'chile': 3, 'stempunk': 3, 'literatura': 1, 'gratis': 1, 'ebooks gratis': 1, 'poema': 1, 'humanos': 1, 'livros': 1, 'sentimentos': 1, 'emoes': 1, 'gabreu': 1, 'Period piece': 30, 'water world resort belek': 1, 'Central Africa': 60, 'trave': 1, 'online income': 1, 'Workplace': 18, 'cloud service': 1, 'salesforce cloud service': 1, 'salesforce cloud services': 1, 'salesforce service cloud': 1, 'salesforce services cloud': 1, 'service cloud': 1, 'strategy': 1, 'business strategy': 1, 'management': 1, 'entrepreneurship': 1, 'start up': 1, 'small business': 1, 'business development': 1, 'business management': 1, 'entrepreneurship and business': 1, 'procurement': 1, 'dissertation': 1, 'Physics / Polymer': 3, 'Apocalyptic': 69, 'educacin': 2, 'proyectos': 1, 'escolar': 1, 'planificacin': 1, 'aula': 1, 'sociedad': 1, 'conflictos': 1, 'alumnos': 1, 'docentes': 1, 'didctica': 1, 'Transgressional': 60, 'Transgressional fiction': 39, 'paranormal': 1, 'dystopia': 1, 'monster': 2, 'heist': 1, 'eldritch': 1, 'Social Issues': 87, 'Humor': 590, 'Religion': 427, 'Clean & Wholesome': 39, 'Spies & espionage': 42, 'Chick Lit': 294, 'Science Fiction': 755, 'Paranormal & Supernatural': 3, 'Anthology': 39, 'childhood': 1, 'guilt': 1, 'drunk': 2, 'vulnerability': 1, 'road trips': 1, 'emotional support': 1, 'mental instability': 1, 'book marketing': 2, 'self publishing': 2, 'book': 3, 'guide book': 2, 'selfhelp ebook': 2, 'publishing a book': 2, '15 minute book': 2, 'sexual abuse': 1, 'child abuse': 1, 'adoption': 1, 'dysfunctional families': 1, 'substance abuse': 1, 'childhood trauma': 1, 'reactive attachment disorder': 1, 'salud': 2, 'perdida de peso': 1, 'perdida de grasa': 1, 'infertility': 2, 'prostate': 1, 'mens health': 1, 'growth hormone': 1, 'hormone male': 1, 'gravidanza': 1, 'infertilita': 1, 'couple': 1, 'sante': 1, 'infertilite': 1, 'endocrine disruptors': 1, 'infertilidad': 1, 'disruptores endocrinos': 1, 'salud mujer': 1, 'Drug trade': 57, 'Computer Crime': 48, 'wales': 1, 'surveillance': 1, 'cyber crime': 1, 'surveilance': 1, 'Identity theft': 39, 'Shopping': 42, 'Missing persons': 48, 'Kidnapping, abduction, hostage taking': 60, 'United States / State & Local / Pacific Northwest (OR, WA)': 3, 'Crime thriller': 72, 'crime': 2, 'true crime': 2, 'missing persons': 2, 'conspiracy theories': 2, 'serial killers': 1, 'true crime stories': 1, 'unexplained phenomena': 1, 'missing people': 2, 'unexplained mysteries': 2, 'unexplained disappearances': 2, 'conspiracies': 1, 'true police stories': 1, 'mysteries and thriller': 1, 'missing persons cases': 1, 'United States / State & Local / New England (CT, MA, ME, NH, RI, VT)': 3, 'mortgage fraud': 1, 'credit card fraud': 1, 'medicare fraud': 1, 'accounting fraud': 1, 'what is fraud': 1, 'fraud triangle': 1, 'fraud alert': 1, 'anti money laundering': 1, 'due diligence definition': 1, 'benefit fraud': 1, 'Piracy': 3, 'maltrato psicolgico': 1, 'violencia en la pareja': 1, 'Family violence': 30, 'military men': 1, 'family crisis': 1, 'family affairs': 1, 'family chaos': 1, 'cancer diary': 1, 'cancer drama': 1, 'dope dealer': 1, 'meth dealer': 2, 'pot dealers': 2, 'dont go to prison': 1, 'how not to go to prison': 1, 'heroin dealer': 1, 'coke dealers': 1, 'ex drug dealer': 1, 'dope dealers': 1, 'kid gangster': 1, 'true child gangster': 1, 'true story of a child drug dealer': 1, 'ibm': 1, 'child gangster': 1, 'child organized crime': 1, 'italian boy mafia': 1, 'teenage organized crime': 1, 'true child drug dealer': 1, 'true kid gangster': 1, 'Nonviolent': 45, 'small town': 1, 'diary': 1, 'prostitution': 1, 'documentation': 1, 'escort stories': 1, 'mens issues': 1, 'sex work': 1, 'emails': 1, 'sex workers': 1, 'correspondences': 1, 'documentary': 1, 'escorting': 1, 'escorts': 1, 'hobbyists': 1, 'escort clients': 1, 'gfe': 1, 'ephemera': 1, 'Wild west': 24, 'texas authors': 1, 'texas and new mexico': 1, 'texas am commerce': 1, 'slavery native american history genealogy land sales alabama texas': 1, 'Humorous': 73, 'Christmas': 106, 'Halloween': 29, 'Amateur sleuth': 12, 'Sci-fi': 54, 'Chemistry / Environmental Environmental Science': 3, 'Privacy': 3, 'Life Sciences / Microbiology': 3, 'Christian Theology / Liberation': 6, 'Genealogy': 72, 'cthulu mythos': 3, 'Witches': 61, 'Steampunk & retropunk': 33, 'Classical & allegory': 84, 'Amish & Mennonite': 36, 'Futuristic': 40, 'Erotica': 158, 'Polyamory': 10, 'Traditional British': 25, 'Collections & Anthologies': 6, 'Bisexual': 4, 'Allied health services / general': 6, 'Religious - Jewish': 3, 'Christian Church / Administration': 3, 'Christian Life / Professional Growth': 3, 'Radio / history & criticism': 6, 'Discography & Buyer’s Guides': 6, 'Zoroastrianism': 3, 'musica 80s': 1, 'misterios': 1, 'biografias': 1, 'novela espanol': 1, 'musical group': 1, 'novedades': 1, 'novela musical': 1, 'mecano': 1, 'Military & Marches': 12, 'Children’s': 6, 'Instruction & Study - Theory': 51, 'Instruction & Study - Conducting': 15, 'Gothic & Romance': 3, 'Regency': 94, 'Scottish': 6, 'Victorian': 107, 'Adult': 1396, 'Ontario': 72, 'Quebec': 42, 'British Columbia': 36, 'Prairie provinces (Alberta, Manitoba, & Saskatchewan)': 9, 'Concepts / Alphabet': 3, 'Atlantic provinces (NB, NF, NS, & PE)': 6, 'Beverages - Wine & Spirits': 72, 'American / California Style': 3, 'wine': 1, 'wine grapes': 1, 'winemakers': 1, 'phone': 1, 'sleep': 1, 'laughing': 1, 'joke': 1, 'poo': 1, 'drunk adventure': 1, 'drink and drugs': 1, 'Europe / Austria & Hungary': 6, 'homebrewing': 1, 'grain': 1, 'beer ingredients': 1, 'beer and brewing': 1, 'yeast': 1, 'beer making': 1, 'beer making recipes': 1, 'hops': 1, 'beer brewing': 1, 'alcohol': 1, 'drinking': 1, 'cocktails': 1, 'bartending': 1, 'whiskey': 1, 'tequila': 1, 'nightlife': 1, 'whisky': 1, 'how to make a first impression': 1, 'recetas': 1, 'cocina': 1, 'cocteles': 1, 'libro de cocina': 1, 'Study guides -- Bar Exam': 3, 'Crafts - Needlework/Crocheting': 75, 'Beadwork': 9, 'Needlework / cross-stitch': 18, 'Patchwork': 6, 'Folkcrafts': 12, 'Buttons & pins': 6, 'Sewing': 9, 'Needlework / needlepoint': 18, 'Quilts & quilting': 3, 'sssirnando': 2, 'markering online': 1, 'kingdom': 2, 'father': 2, 'holy': 2, 'univers': 2, 'kingdom come': 2, 'rightiouse': 2, 'strong': 1, 'strong women': 1, 'strong female': 1, 'woman strong': 1, 'script writing': 2, 'script editing': 1, 'writer tips': 1, 'script doctor': 1, 'playwriting': 1, 'Science & Technology': 6, 'Media tie-in': 34, 'Parody': 42, 'cheating': 2, 'cheater': 1, 'Historical / United States / Colonial & Revolutionary Periods': 3, 'Royalty': 3, 'true story': 1, 'convicts': 1, 'racial issues': 1, 'epic adventure': 1, 'aussie outback': 1, 'murder drama': 1, 'Classical Greece & Rome': 33, 'greek mythology': 1, 'greek gods': 1, 'greek myth': 1, 'persephone': 1, 'demeter': 1, 'myth folklore': 1, 'Western & American frontier': 21, 'historical fiction': 1, 'indian': 1, 'mahabharata': 1, 'indian fiction': 1, 'Biographical / General': 3, 'Gilded Age': 6, 'Graphic novel': 27, 'egypt': 1, 'photography': 2, 'discover': 1, 'digital art': 1, 'album': 1, 'nile river': 1, 'arabian desert': 1, 'dreams': 1, 'visions': 1, 'loneliness': 1, 'graphic novel': 1, 'philosophical': 1, 'individuality': 1, 'collective': 1, 'crowds': 1, 'fantasy quests': 1, 'Viking': 3, 'Medical': 101, 'alien': 1, 'gangs': 1, 'wizard': 1, 'mages': 1, 'poem': 1, 'mother': 1, 'mothers day': 1, 'mother love': 1, 'poetry ebook': 1, 'blessed mother': 1, 'mother child': 1, 'mother daugher': 1, 'survival': 1, 'undead': 1, 'zombies undead': 1, 'zombies': 1, 'aliens': 1, 'dark humor': 1, 'creepy': 1, 'apocalyptic': 1, 'monsters': 1, 'cannibalism': 1, 'multigenerational family of love faith and happiness': 1, 'short fiction': 1, 'historical war': 1, 'world war 2': 1, 'novella': 1, 'love and loss': 1, 'dual timeline': 1, 'Australian football': 12, 'Men’s adventure': 36, 'inca mythology': 1, 'hope and faith': 1, 'gods goddesses': 1, 'Autographs': 30, 'Military items': 30, 'Sports cards': 36, 'h': 1, 'diy': 3, 'do it yourself': 1, 'flowers': 1, 'flores': 1, 'manualidades': 1, 'floraqueen': 1, 'hazlo tu mismo': 1, 'Historic preservation': 258, 'stress management': 1, 'mindfulness': 1, 'mental health': 1, 'mind control': 1, 'yoga': 1, 'emotional healing': 1, 'positive thinking': 1, 'relaxation techniques': 1, '50s fords': 1, '60s fords': 1, '70s fords': 1, 'Comics & Graphic Novels': 6, 'Kitchenware': 27, 'Kitchen glassware': 21, 'bamboo pattern plate industry': 2, 'bamboo pattern plate market': 2, 'big market research': 2, 'consumer goods': 2, 'Media & the Law': 3, 'culture': 3, 'hiphop': 1, 'magazine': 3, 'newspaper': 1, 'indie author': 1, 'author interview': 1, 'tridesta': 1, 'tridesta january 2022': 1, 'the opus coliseum': 1, 'Political items': 6, 'Asia / Central Asia': 18, 'Postcards': 3, 'Radios & televisions': 9, 'Records': 3, 'Inflation': 18, 'gifts': 1, 'yellow': 1, 'book note': 1, 'gifts for kids': 1, 'note taking': 1, 'birthday gifts': 1, 'note book': 1, 'Sports & Recreation': 3, 'air jordan 11 retro': 1, 'jordan shoe collection': 1, 'jordan shoes collection': 1, 'jordan sneaker collection': 1, 'michael jordan shoes for men': 1, 'michael jordan sneakers': 1, 'rare air michael jordan': 1, 'shoe collection': 1, 'sneaker collection': 1, 'Stamps': 15, 'Wood toys': 6, 'Antiquities & Archaeology': 6, 'Toymaking': 6, 'oblivion': 1, 'content': 1, 'Tobacco paraphernalia': 3, 'Military / Pictorial': 3, 'American government / executive branch': 3, 'Surgery / thoracic': 3, 'Administration / school superintendents & principals': 6, 'Special education / mental disabilities': 3, 'Graphic design -- branding & logo design': 6, 'walking tour': 1, 'solo': 1, 'shopping guide': 1, 'solotravelling': 1, 'solar charger': 1, 'Modern / 16th Century': 6, 'Pre-Confederation (to 1867)': 27, 'Micronesia': 3, 'Acupuncture': 15, 'Pathology': 3, 'Otorhin75000 medical / physiology': 3, 'Terminal care': 3, 'Health & healing / allergy': 3, 'Pulmonary & thoracic medicine': 3, 'Home care': 6, 'Dentistry / general': 3, 'Nephrology': 6, 'disability': 1, 'feeding': 1, 'childrens health': 1, 'food guide': 1, 'childrens nutrition': 1, 'developmental feeding': 1, 'nutrition in disability': 1, 'safety and efficiency': 1, 'Farm animals': 336, 'Horses': 181, 'brady bunte': 1, 'brady bunte news': 1, 'Rodeo': 6, 'Australian': 3, 'Natural horsemanship': 15, 'Polo': 15, 'Veterinary medicine / general': 15, 'Form / limericks & verse': 6, 'Amphibians': 36, 'Stuffed animals': 3, 'Life Sciences / Zoology / General': 3, 'Bahá’í': 48, 'European / Eastern': 3, 'State & local': 33, 'sumerian': 1, 'egyptian gods': 1, 'egypte antique': 1, 'the pyramids': 1, 'giza pyramids': 1, 'pyramid age': 1, 'cheops pyramid': 1, 'khufu pyramid': 1, 'Civil / Dams & Reservoirs': 3, 'Decorative arts': 24, 'Donkeys & mules': 6, 'People & Places': 6, 'Sheep & goats': 42, 'Animals / Pets': 12, 'Full-sized breeds': 36, 'Draft breeds': 30, 'Poultry': 60, 'Llamas & alpacas': 9, 'Cattle': 3, 'Pony breeds': 6, 'Hogs': 6, 'Religious / Other': 3, 'cambiar fisico': 1, 'conseguir buen cuerpo': 1, 'cuerpo 10': 1, 'cuerpo fitness': 1, 'estar fuerte': 1, 'ganar masa muscular': 1, 'mejorar fisico': 1, 'musculo': 1, 'perder grasa': 1, 'oakland raiders': 1, 'lebron james': 1, 'final four': 1, 'neymar': 1, 'deshawn watson': 1, 'eden hazard': 1, 'el clasico': 1, 'james harden': 1, 'marshawn lynch': 1, 'tony romo': 1, 'satire': 1, 'blog': 1, 'sports gambling': 1, 'sports betting': 1, 'sports wagering': 1, 'sports betting system': 1, 'sports and games': 1, 'Bowling': 21, 'tennis': 2, 'fitnes tips': 2, 'Table Tennis': 9, 'Court tennis (real tennis)': 6, 'Badminton': 6, 'Tennis (lawn tennis)': 6, 'Skateboarding': 15, 'skateboarding': 1, 'powell peralta': 1, 'skate one': 1, 'skateboard ramps': 1, 'skatestreet': 1, 'skatezone': 1, 'snowboard': 1, 'road': 1, 'backstage': 1, 'figure skating': 1, 'tour life': 1, 'Cheerleading': 39, 'Field Sports': 6, 'Study guides -- Graduate School Guides': 9, 'natacion': 1, 'celtique': 1, 'brasse inverse': 1, 'coup de chauvesouris': 1, 'long dos': 1, 'spia osseux': 1, 'teens': 1, 'high school': 1, 'affair': 1, 'jealousy': 1, 'competition': 1, 'surfing': 1, 'rivalry': 1, 'Animals / Wolves': 3, 'Pool': 21, 'indiana': 1, 'indy 500': 1, 'indianapolis 500': 1, 'indianapolis raceway park': 1, 'travel advice': 1, 'travel abroad travel adventure': 1, 'indy car': 1, 'indianapolis motor speedway': 1, 'travel kenya': 1, 'entertainment kenya': 1, 'kenya tourism sites': 1, 'kenya travel': 1, 'tourism kenya': 1, 'tourist spots kenya': 1, 'Ecosystems & habitats / rivers': 3, 'Riding breeds': 6, 'Restoration techniques': 54, 'Monographs': 15, 'tensile structures': 2, 'New England (CT, MA, ME, NH, RI, & VT)': 6, 'Baroque & Rococo': 12, 'Annuals': 36, 'Japanese Gardens': 6, 'architecture': 2, 'landscape': 1, 'parking': 1, 'landscape design': 1, 'road construction': 1, 'road design': 1, 'architecture design': 1, 'landscape construction': 1, 'architecture building': 1, 'Codes & standards': 15, 'Construction / Estimating': 3, 'Industries / park & recreation management': 9, 'Textiles & Polymers': 6, 'Housing & Urban Development': 3, 'arts': 1, 'san fransisco': 1, 'classical era': 1, 'neoclassical': 1, 'corinthian columns': 1, 'doric columns': 1, 'grecoroman architecture': 1, 'ionic columns': 1, 'Pastel drawing': 27, 'Airbrush': 6, 'Calligraphy': 3, 'dibujo tcnico': 2, 'manual de dibujo': 2, 'amor al dibujo': 2, 'curso gratis de dibujo': 2, 'dibujo para nios': 2, 'estrategias de dibujo': 2, 'la biblia del dibujo': 2, 'tcnicas de dibujo': 2, 'art therapy': 1, 'how to draw': 1, 'how to paint': 1, 'art lessons': 1, 'become an artist': 1, 'betty edwards': 1, 'party': 1, 'crafts': 1, 'wall': 1, 'themes': 1, 'sassy': 1, 'printable': 1, 'downloadable': 1, 'print your own': 1, 'tips and tricks': 1, 'clay': 1, 'fimo': 1, 'fimo tutorial': 1, 'polimer clay': 1, 'polymer clay': 1, 'polymer clay guide': 1, 'polymer clay tips and tricks': 1, 'polymer clay tutorial': 1, 'sculpey': 1, 'anime': 1, 'chibi': 1, 'draw anime': 1, 'drawing chibi': 1, 'chibi drawings': 1, 'chibi drawing': 1, 'chibi manga': 1, 'chibi anime': 1, 'manga chibi': 1, 'drawing anime': 1, 'pintura': 2, 'secretos': 1, 'facil': 1, 'colores': 1, 'principiantes': 1, 'oleo': 1, 'pintar': 1, 'trucos': 1, 'Flower arranging': 3, 'Printmaking': 9, 'drawing': 1, 'beginnersguide': 1, 'generaldrawing': 1, 'stepbystepguide': 1, 'stepguide': 1, 'relaxation': 1, 'art book': 4, 'coloring': 1, 'coloring book': 1, 'mandala': 1, 'art ebook': 1, 'Polymer clay': 9, 'Geometry / Algebraic': 3, 'mexico': 1, 'south america': 1, 'peru': 1, 'ecuador': 1, 'machu picchu': 1, 'cusco': 1, 'cuzco': 1, 'travel abroad': 1, 'dangerous experiences': 1, 'technology': 1, 'museum': 1, 'research': 1, 'unexplained': 1, 'alchemy': 1, 'italy': 1, 'tarot cards': 1, 'astrology': 1, 'tarot deck': 1, 'hermetism': 1, 'artist': 2, 'art history': 3, 'da vinci': 2, 'sculpture': 2, 'critique': 2, 'michelangelo': 2, 'fresco': 2, 'battle scenes': 2, 'Art / History': 6, 'bc': 1, 'mc': 1, 'etc': 1, 'kdem tazminati': 1, 'taseron': 1, 'contemporary art': 1, 'art business': 1, 'biennials': 1, 'art market': 1, 'art fairs': 1, 'art biennials': 1, 'pablo helguera': 1, 'paco barragan': 1, 'Collections, catalogs, exhibitions / group shows': 3, 'Museum studies': 15, 'real estate': 1, 'space law': 1, 'conceptual art': 1, 'asteroid mining': 1, 'asteroid claims': 1, 'most popular artist': 1, 'outer space property': 1, 'outer space property rights': 1, 'space claims': 1, 'Folk & outsider art': 57, 'Acting & auditioning': 9, 'Graphic design -- commercial & corporate': 3, 'Flowers / Roses': 3, 'Plants / flowers': 3, 'Individual photographers / essays': 3, 'urban': 1, 'graffit': 1, 'tatt': 1, 'ilustracion': 1, 'Christian Standard Bible / General': 135, 'Biblical Reference / Quotations': 6, 'Christian Standard Bible / Devotional': 96, 'Christian Standard Bible / Children': 84, 'Christian Standard Bible / Youth & Teen': 24, 'International Children’s Bible / General': 9, 'God’s Word / Children': 36, 'New American Bible / Children': 12, 'New American Standard Bible / Children': 24, 'Christian Education / Children & Youth': 24, 'Common English Bible / Children': 12, 'meditation': 2, 'prayer': 1, 'faith and hope': 1, 'God’s Word / Study': 105, 'King James Version / General': 54, 'Christian Standard Bible / Reference': 48, 'King James Version / Study': 66, 'New King James Version / General': 48, 'Contemporary English Version / Youth & Teen': 9, 'i': 1, 'prayer book': 1, 'christian faith': 1, 'daily': 1, 'written': 1, 'issue': 1, 'decree': 1, 'dailydecree': 1, 'Biblical Commentary / New Testament': 6, 'Contemporary English Version / Reference': 12, 'Contemporary English Version / Study': 21, 'Common English Bible / General': 36, 'Religion / Bible Stories / General': 6, 'Christian Standard Bible / Text': 9, 'dynamics of prophets': 1, 'Religious / Christian / Devotional & Prayer': 3, 'Contemporary English Version / General': 9, 'psychology': 1, 'evil': 1, 'belief': 1, 'overcoming the tactics of satan': 1, '12 enslavement tricks of the wicked one': 1, 'enslavement of satan': 1, 'how to break free from satans grip': 1, 'salvation through the word of god': 1, 'escape satan and demons': 1, 'conflict management and soul emancipation': 1, 'English Standard Version / General': 6, 'English Standard Version / Children': 6, 'English Standard Version / Youth & Teen': 6, 'English Standard Version / Devotional': 3, 'English Standard Version / Reference': 3, 'jesus christ': 1, 'bible study': 2, 'gospel of luke': 1, 'book of acts': 1, 'English Standard Version / Study': 3, 'God’s Word / Reference': 87, 'God’s Word / New Testament & Portions': 66, 'bible for kids': 1, 'gospel for kids': 1, 'god baby': 1, 'god kids': 1, 'god toddlers': 1, 'teach kids about god': 1, 'religion of god to kids': 1, 'God’s Word / Youth & Teen': 84, 'Christian Church / Canon & Ecclesiastical Law': 3, 'King James Version / Devotional': 42, 'God’s Word / Text': 12, 'King James Version / Reference': 39, 'International Children’s Bible / New Testament & Portions': 3, 'International Children’s Bible / Study': 3, 'Christianity / United Church of Christ': 3, 'King James Version / Youth & Teen': 15, 'god s love': 1, 'King James Version / New Testament & Portions': 24, 'King James Version / Text': 6, 'kjv': 2, 'authorized king james version authorized kjv 1611 kjv holy bible verse search bible direct search verse': 2, 'La Biblia de las Americas / Study': 6, 'Reina Valera / Reference': 12, 'Multiple Translations / General': 3, 'Multiple Translations / Study': 6, 'Multiple Translations / Text': 3, 'New American Bible / Devotional': 3, 'New American Standard Bible / New Testament & Portions': 3, 'New American Standard Bible / Study': 6, 'Biblical Commentary / Old Testament': 3, 'New Century Version / Reference': 3, 'New International Reader’s Version / General': 6, 'The Message / New Testament & Portions': 12, 'New International Reader’s Version / Devotional': 3, 'New International Version / General': 3, 'New International Version / Devotional': 3, 'New International Version / Study': 9, 'Biblical Studies / Paul’s Letters': 3, 'bible verses': 1, 'holy bible': 1, 'bible books': 1, 'bible verses for all occasions': 1, 'best bible verses': 1, 'bible verses by topic': 1, 'bible verses everyone should know': 1, 'bible verses for every occasion': 1, 'New King James Version / Devotional': 3, 'New King James Version / Study': 6, 'New King James Version / Text': 6, 'New Living Translation / Devotional': 9, 'Other Translations / Devotional': 6, 'New Living Translation / Youth & Teen': 3, 'New Revised Standard Version / Youth & Teen': 3, 'Other Translations / General': 45, 'mark': 2, 'free': 2, 'new testament': 2, 'gospel of mark': 2, 'new testament translation': 2, 'marks gospel': 2, 'translation of gospel of mark': 2, 'translation of marks gospel': 2, 'mark translation': 2, 'Other Translations / Text': 12, 'Other Translations / Youth & Teen': 9, 'Reina Valera / General': 12, 'Reina Valera / Devotional': 36, 'Reina Valera / Youth & Teen': 6, 'Reina Valera / New Testament & Portions': 3, 'Reina Valera / Text': 3, 'The Message / Children': 3, 'The Message / Youth & Teen': 9, 'Today’s New International Version / Reference': 3, 'Common English Bible / Devotional': 6, 'Common English Bible / New Testament & Portions': 9, 'Common English Bible / Study': 3, 'Common English Bible / Text': 3, 'Accounting / standards (GAAP, IFRS, etc.)': 48, 'Aims & objectives': 6, 'Public Policy / Communication Policy': 3, 'Chemical & Biochemical': 3, 'Mergers & acquisitions': 42, 'Industries / retailing': 54, 'Office management': 15, 'Investments & securities / bonds': 36, 'Research & development': 12, 'home': 1, 'work from home': 1, 'Electronic commerce': 3, 'cidades inteligentes': 1, 'smarter cities': 1, 'internet das coisas': 1, 'internet of things': 1, 'smarter planet': 1, 'Insurance / liability': 3, 'Insurance': 3, 'personal finance': 1, 'death and dying': 1, 'economics': 2, 'money management': 1, 'organizing personal papers': 1, 'personal papers': 1, 'help': 1, 'disaster recovery': 1, 'property insurance': 1, 'save time and money': 2, 'disaster': 1, 'auto insurance': 1, 'Robotics': 6, 'Total quality management': 81, 'Operations research': 42, 'Operations Research': 9, 'Structural adjustment': 15, 'Administration / facility management': 3, 'capital': 1, 'defense': 1, 'richesse': 1, 'assurance': 1, 'banque': 1, 'tge': 1, 'entreprise': 1, 'securite': 1, 'bancassurance': 1, 'exportacao': 1, 'comercio exterior': 1, 'economia brasileira': 1, 'estrategia internacional': 1, 'globalizacao': 1, 'internacionalizacao': 1, 'negocios internacionais': 1, 'relacoes internacionais': 1, 'Politics & Government': 3, 'Nursing / home & community care': 3, 'device': 1, 'devices': 1, 'gps device': 1, 'gps tracker': 1, 'gps tracking': 1, 'bike security system': 1, 'gps for bike': 1, 'gps tracking device': 1, 'gps tracking system': 1, 'Electronics / Semiconductors': 3, 'carbon footprint': 1, 'ecommerce': 1, 'consumer': 1, 'supply chain': 1, 'logistics': 1, 'digital transformation': 1, 'safexpress': 1, 'green yodhas': 1, 'Biography & autobiography': 96, 'Personal memoirs': 57, 'History & criticism': 4, 'Rock': 3, 'Space opera and planet opera': 1, 'English literature': 388, 'American and Canadian literature': 339, 'Thrillers': 7, 'Asian literature': 17, 'Chinese literature': 5, 'Francophone literature': 11, '20th century (<1945)': 3, 'Middle Eastern literature': 6, 'Turkish literature': 2, 'Nordic literature': 9, 'Hispanophone literature': 36, 'Social science': 72, 'Political ideologies': 1, 'Contemporary & supernatural fantasy': 3, 'Literary essays': 11, 'Human science': 7, 'Anthologies (multiple authors)': 2, 'South American literature': 30, 'Japanese literature': 3, '1939-1945': 2, 'Fairy tales, folk tales & mythology': 5, '19th century': 3, 'News and investigations': 16, 'Society': 30, 'Science & technology': 3, 'Quebec literature': 2, 'Dutch literature': 4, 'Slavic literature': 9, 'Discrimination & race relations': 4, 'Occult & supernatural': 5, 'Nature, recreation and sports': 10, 'Sports & recreation': 1, 'Italian literature': 7, 'Juvenile & young adult': 29, 'Fantasy, magic': 3, 'Young adult': 25, 'Form': 2, 'Comic strips & cartoons': 1, 'Topic': 1, 'Speculative fiction': 4, 'British literature': 32, 'Post-apocalyptic': 1, 'Forests & rainforests': 1, 'Modern (<1799)': 2, 'Egyptian literature': 1, 'Feminism & feminist theory': 8, 'Social work': 1, 'History by country': 20, 'United States': 10, 'Polish literature': 1, 'Cooking': 36, 'Daily cooking': 4, 'Specific ingredients': 1, 'Hard-boiled': 9, 'Future studies': 7, 'Health & fitness': 2, 'Daily living': 2, 'Novels': 1670, 'Political freedom & security': 7, 'Korean literature': 4, '20th century': 1, 'Juvenile': 178, 'Advanced reader': 3, 'West': 2, 'Entertainment & performing arts': 3, 'Artists, architects, photographers': 5, 'Science and technics': 8, 'Life sciences': 4, 'Zoology': 1, 'Emigration & immigration': 3, 'Australian, Pacific, Oceanian and Polynesian literature': 3, 'Australian literature': 3, 'Irish literature': 12, 'Environmental conservation & protection': 5, 'Lusophone literature': 6, 'Composers & musicians': 5, 'Elections': 1, 'Comics & graphic novels': 1, 'Other': 6, 'Agriculture and food': 1, 'Ships & shipbuilding': 1, 'Historical period': 2, 'Revolutionary period (1775-1800)': 1, 'New England states (CT, MA, ME, NH, RI, VT)': 1, 'Letters': 6, 'Meteorology & climatology': 1, 'Intelligence': 1, 'Women sleuths': 1, 'Others': 2, 'Anecdotes': 1, 'Police procedural': 3, 'Great Britain': 1, 'Hard science': 2, 'Cooking by country': 6, 'Courses & dishes': 2, 'Detective & thrillers': 2, 'Germanophone literature': 5, 'City planning & urban development': 3, 'Labor & industrial relations': 1, 'Crafts & hobbies': 1, 'Scandinavia': 1, 'Women': 4, 'Themes': 3, 'Social situations': 1, 'Social issues': 1, 'Teen': 268, 'Language arts & disciplines': 1, 'Editors, journalists, publishers': 1, 'Wild animals': 1, 'Insects & spiders': 1, 'Diary': 8, 'Dystopia and uchronia': 7, 'African literature': 5, 'Human sexuality': 1, 'International relations': 1, 'Personal & practical guides': 1, 'Korea': 1, 'Religion and society': 1, 'Technology & engineering': 1, 'Israeli literature': 2, 'Middle Age': 2, 'Military science': 2, 'Supernatural creatures': 1, 'Colonial period (1600-1775)': 1, '1914-1918': 1, 'Turkey & Ottoman empire': 1, 'Girls & women': 1, 'Books & libraries': 1, 'World War II': 156, 'Contemporary (1945-)': 1, 'Veterans': 1, 'True story': 2, 'Travel writing': 1, 'Hungarian literature': 1, 'Business & economics': 1, 'Decision making & problem solving': 1, 'Indian literature': 1, 'Historical Fiction': 1262, 'School': 423, 'Young Adult': 1263, 'Read For School': 109, 'High School': 77, 'Childrens': 572, 'Middle Grade': 406, 'Audiobook': 1915, 'Science Fiction Fantasy': 511, 'Historical Romance': 76, 'Memoir': 476, 'Dystopia': 292, 'Politics': 353, 'French Literature': 76, 'Coming Of Age': 162, 'Epic Fantasy': 113, 'High Fantasy': 192, 'Books About Books': 49, '19th Century': 158, 'Christian Fiction': 71, 'Picture Books': 120, 'Kids': 61, 'Chapter Books': 34, 'Post Apocalyptic': 126, 'Food': 50, 'LGBT': 158, 'Classic Literature': 88, 'Civil War': 20, 'Spirituality': 325, 'Theatre': 135, 'Literary Criticism': 7, 'Mythology': 131, 'Self Help': 504, 'Russian Literature': 49, 'Adult Fiction': 519, 'Book Club': 250, 'Realistic Fiction': 243, 'Magical Realism': 147, 'Spanish Literature': 55, 'Literary Fiction': 599, 'Latin American': 33, 'Feminism': 159, 'Queer': 115, 'British Literature': 347, 'Mental Health': 157, 'Mental Illness': 49, 'Biography Memoir': 308, 'Time Travel': 86, 'Unfinished': 101, 'Paranormal Romance': 133, 'Urban Fantasy': 237, 'German Literature': 86, 'Storytime': 23, 'New York': 38, 'Modern Classics': 25, 'World War I': 17, 'Lds': 13, 'Church': 15, 'Autobiography': 262, 'Race': 89, 'Mystery Thriller': 598, 'Banned Books': 39, 'Autistic Spectrum Disorder': 11, 'American History': 107, 'Dragons': 54, 'Personal Development': 372, 'Space Opera': 74, 'Irish Literature': 27, 'Italian Literature': 27, 'Steampunk': 27, 'European Literature': 7, 'Contemporary Romance': 168, 'Detective': 172, 'Womens': 99, 'Czech Literature': 12, 'Military Fiction': 98, '18th Century': 21, 'Natural History': 13, 'Scandinavian Literature': 36, 'Political Science': 40, 'Graphic Novels': 64, 'Graphic Novels Comics': 35, 'Comic Book': 25, 'Speculative Fiction': 160, 'Arthurian': 12, 'Christian Living': 49, 'Greek Mythology': 28, 'Murder Mystery': 63, 'Westerns': 47, 'Media Tie In': 24, 'Pakistan': 13, 'Comic Strips': 5, 'The United States Of America': 92, 'Survival': 48, 'True Story': 25, 'Social Justice': 60, 'Biblical': 3, 'Biblical Fiction': 5, 'Nigeria': 8, 'African Literature': 13, 'Popular Science': 41, 'Space': 108, 'Portugal': 18, 'Portuguese Literature': 20, 'Nobel Prize': 71, 'Atheism': 23, 'Southern': 44, 'Communication': 27, 'Relationships': 69, 'Ancient History': 20, 'World History': 22, 'Prehistoric': 5, 'Shapeshifters': 20, 'Productivity': 136, 'Werewolves': 27, 'Poverty': 6, 'Indian Literature': 55, 'Pirates': 11, 'Language': 10, 'Textbooks': 2, 'Outdoors': 5, 'Tragedy': 10, 'Japanese Literature': 46, 'Retellings': 46, 'Young Adult Fantasy': 173, 'European History': 20, 'Aliens': 39, 'Academia': 1, 'American Revolution': 9, 'Dinosaurs': 5, 'Angels': 39, 'Sustainability': 9, 'Liberia': 1, 'Sierra Leone': 2, 'Christian Non Fiction': 37, 'English Literature': 14, 'Southern Gothic': 12, 'New Adult': 216, 'Love Story': 40, 'Psychological Horror': 1, 'Legal Thriller': 25, 'Robots': 6, 'Zombies': 26, 'Asian Literature': 43, 'Military History': 22, 'American Civil War': 7, 'Emotion': 2, 'Ghosts': 25, 'Tudor Period': 12, 'Cults': 10, '17th Century': 16, 'Anti Racist': 13, 'Personal Finance': 10, 'Aviation': 9, 'Young Adult Contemporary': 56, 'Gender': 29, 'Gender Studies': 12, 'Christian Romance': 6, 'Utopia': 8, 'Noir': 27, 'College': 33, 'BDSM': 27, 'Erotic Romance': 32, 'Skepticism': 4, 'Presidents': 19, 'Cookbooks': 11, 'Culinary': 4, 'Food and Drink': 4, 'Foodie': 9, 'How To': 50, 'Novella': 33, 'Unicorns': 1, 'Alternate History': 16, 'Entrepreneurship': 40, 'Ethiopia': 1, 'Somalia': 2, 'Climate Change': 7, 'Vegan': 7, 'Historical Mystery': 20, 'Cultural': 61, 'Latin American Literature': 17, 'Spy Thriller': 30, 'Police': 5, 'Sudan': 5, 'Polygamy': 3, 'Medieval History': 3, '14th Century': 2, 'Fae': 32, 'Counter Culture': 2, 'Satanism': 1, 'Academic': 13, 'Amazon': 57, 'Roman': 66, 'Psychological Thriller': 61, 'Conspiracy Theories': 8, 'Polish Literature': 18, 'Aspergers': 1, 'Womens Fiction': 16, 'Modern': 40, 'Counting': 2, 'Young Adult Romance': 20, 'Transport': 2, 'Art History': 15, 'Rwanda': 5, 'Russian History': 5, 'Batman': 3, 'Dc Comics': 3, 'Fostering': 3, 'Buisness': 50, 'Demons': 20, 'Swedish Literature': 9, 'The World': 3, 'Cozy Mystery': 10, 'Gaming': 3, 'Game Design': 2, 'Romantic': 12, 'American Revolutionary War': 3, 'Reverse Harem': 2, 'Pop Culture': 11, 'Folk Tales': 2, '21st Century': 31, 'Folklore': 12, 'Travelogue': 5, '16th Century': 15, 'Catholic': 11, 'Fairies': 11, 'Romantic Suspense': 31, 'Childrens Classics': 11, 'Art Design': 10, 'Brain': 15, 'Military Romance': 2, 'Microhistory': 2, 'Hard Boiled': 3, 'Pulp': 5, 'Short Story Collection': 4, 'Menage': 4, 'M F Romance': 13, 'Film': 8, 'Surreal': 1, 'Martial Arts': 4, 'Eugenics': 1, 'Guidebook': 1, 'Crafts': 2, 'Canadian Literature': 17, 'Collections': 19, 'Lds Non Fiction': 7, 'Turkish Literature': 10, 'Comic Fantasy': 5, 'Witchcraft': 1, 'Egyptian Literature': 7, 'Maritime': 4, 'Amish': 10, 'Jokes': 1, '15th Century': 3, 'Bande Dessinée': 1, 'Plantagenet': 2, 'Vegetarian': 2, 'Diets': 6, 'Animal Fiction': 4, 'Wolves': 4, 'Fitness': 3, 'Christian Historical Fiction': 3, 'Sports Romance': 5, 'Hugo Awards': 17, 'Ukraine': 4, 'Gay Fiction': 1, 'Finnish Literature': 7, 'Engineering': 1, 'Historical Fantasy': 10, 'Psychoanalysis': 7, 'Regency Romance': 12, 'Young Adult Paranormal': 6, 'Food Writing': 3, 'Favorites': 1, 'Eastern Philosophy': 7, 'Us Presidents': 3, 'Christian Fantasy': 8, 'Beauty and The Beast': 5, 'Dark Fantasy': 14, 'Romanovs': 1, 'Lovecraftian': 4, 'Weird Fiction': 6, 'New Weird': 2, 'Own': 1, 'Fantasy Romance': 14, 'Ghana': 3, 'Young Adult Historical Fiction': 2, 'Lebanon': 4, 'Musicians': 3, 'Magick': 3, 'Poetry Plays': 2, 'Lds Fiction': 3, 'Counselling': 14, 'Nordic Noir': 11, 'Hungarian Literature': 3, 'Hungary': 5, 'International Relations': 3, 'Palaeontology': 2, 'Comedian': 1, 'Social Media': 2, 'Lesbian Romance': 3, 'Femme Femme': 3, 'M M Romance': 19, 'Artificial Intelligence': 2, 'Heroic Fantasy': 3, 'Sword and Sorcery': 3, 'Native American History': 1, 'Botswana': 1, 'Thelema': 2, 'Plants': 1, 'Russian Revolution': 2, 'Serbian Literature': 2, 'Alchemy': 1, 'Discipleship': 4, 'Chinese Literature': 2, 'Cult Classics': 1, 'Queer Lit': 4, 'Forgotten Realms': 2, 'Dungeons and Dragons': 3, '12th Century': 1, 'Military Science Fiction': 4, 'Star Wars': 5, 'Urban Planning': 2, 'Urbanism': 3, 'Cities': 1, 'Urban Studies': 1, 'Female Authors': 5, '2nd Grade': 2, 'Esoterica': 2, 'M M Contemporary': 1, 'Ghost Stories': 3, 'Road Trip': 1, 'Womens Studies': 2, 'Indonesian Literature': 2, 'Hard Science Fiction': 5, 'Vegetarianism': 1, 'Medieval Romance': 7, 'Cartoon': 2, 'Boarding School': 4, 'Climbing': 1, 'Health Care': 1, 'Adhd': 3, 'Time Travel Romance': 1, 'Art and Photography': 1, 'Visual Art': 1, 'Dutch Literature': 6, 'Fairy Tale Retellings': 4, 'Bangladesh': 1, '13th Century': 1, 'Belgian': 1, 'Football': 3, 'Mermaids': 2, 'Video Games': 1, '1st Grade': 1, 'Lenin': 2, 'Harlequin Teen': 1, 'Marathi': 3, 'Comics Manga': 6, 'Algeria': 2, 'Teachers': 1, 'Sao Tome and Principe': 1, 'Swashbuckling': 1, 'Illness': 2, 'Splatterpunk': 1, 'Bizarro Fiction': 2, 'School Stories': 1, 'Journaling': 1, 'Home Economics': 1, 'Paganism': 1, 'Rock N Roll': 3, 'Music Biography': 1, 'Cycling': 1, 'Zimbabwe': 2, 'Fat Studies': 1, 'Fat': 1, 'Fat Acceptance': 1, 'Dragonlance': 2, 'Near Future': 1, 'African American Literature': 3, 'Tasmania': 2, 'Pseudoscience': 1, 'Horse Racing': 1, 'Go': 1, 'Cameroon': 1, 'Nursery Rhymes': 1, 'Tv': 2, 'Clean Romance': 6, 'Food History': 1, 'Quantum Mechanics': 2, 'Banks': 1, 'Judaica': 2, 'Young Readers': 1, 'Shonen': 1, 'Gothic Horror': 1, 'Muslims': 1, 'Star Trek': 1, 'Comix': 1, 'Seinen': 1, 'Flash Fiction': 1, 'Slice Of Life': 1, 'Love Inspired Suspense': 1, 'Love Inspired': 1, 'Feminist Theory': 1, 'Cultural Studies': 1, 'Science Fiction Romance': 1, 'God': 2, 'Moroccan': 1, 'Young Adult Science Fiction': 1, 'Fighters': 1, 'Church History': 1, 'Weird West': 1, 'Islamism': 1, 'American Fiction': 1, 'Soccer': 1, 'Intelligent Design': 1, 'Edwardian': 1, 'Futurism': 1, 'Psychiatry': 2, 'Scripture': 2, 'Tea': 1, 'Gods': 1, 'Green': 1, 'Spanish Civil War': 1, 'Romania': 1, 'African American Romance': 1, 'Nazi Party': 1, 'Conservation': 1}\n"
          ]
        }
      ]
    },
    {
      "cell_type": "code",
      "source": [
        "threshold = int(len(df) * 0.01)\n",
        "rare_genres = [key for key, value in genre_count.items() if value < threshold]\n",
        "len(rare_genres), rare_genres[:5]"
      ],
      "metadata": {
        "colab": {
          "base_uri": "https://localhost:8080/"
        },
        "id": "W3FCjoJg_YAn",
        "outputId": "7ae2d6d6-c317-4f9a-e923-8be4fbcb8413"
      },
      "execution_count": 12,
      "outputs": [
        {
          "output_type": "execute_result",
          "data": {
            "text/plain": [
              "(5585,\n",
              " ['Anxieties & Phobias',\n",
              "  'Budgeting',\n",
              "  'High tech',\n",
              "  'Safety & first aid',\n",
              "  'Physical impairments'])"
            ]
          },
          "metadata": {},
          "execution_count": 12
        }
      ]
    },
    {
      "cell_type": "code",
      "source": [
        "genres_list = df.genres.to_list()\n",
        "revised_genre_list = []\n",
        "indices_to_drop = []\n",
        "\n",
        "for idx, genres in enumerate(genres_list):\n",
        "  genre_list = eval(genres)\n",
        "  revised_genres = []\n",
        "\n",
        "  for genre in genre_list:\n",
        "    if genre not in rare_genres:\n",
        "      revised_genres.append(genre)\n",
        "\n",
        "  if len(revised_genres) == 0:\n",
        "    indices_to_drop.append(idx)\n",
        "  else:\n",
        "    revised_genre_list.append(revised_genres)\n",
        "\n",
        "df = df.drop(indices_to_drop).reset_index(drop=True)\n",
        "df.shape"
      ],
      "metadata": {
        "colab": {
          "base_uri": "https://localhost:8080/"
        },
        "id": "KuqB3iep_x-6",
        "outputId": "d3ddd70a-5187-4c8d-b34f-6d8efd08b2a6"
      },
      "execution_count": 13,
      "outputs": [
        {
          "output_type": "execute_result",
          "data": {
            "text/plain": [
              "(26498, 3)"
            ]
          },
          "metadata": {},
          "execution_count": 13
        }
      ]
    },
    {
      "cell_type": "code",
      "source": [
        "df['revised_genres'] = revised_genre_list"
      ],
      "metadata": {
        "id": "w2wkEqFdA4l0"
      },
      "execution_count": 14,
      "outputs": []
    },
    {
      "cell_type": "code",
      "source": [
        "df.tail()"
      ],
      "metadata": {
        "colab": {
          "base_uri": "https://localhost:8080/",
          "height": 814
        },
        "id": "YGIQixGyH8NJ",
        "outputId": "25cc4230-8521-46a3-8d79-644627128d3a"
      },
      "execution_count": 15,
      "outputs": [
        {
          "output_type": "execute_result",
          "data": {
            "text/plain": [
              "                                                    title  \\\n",
              "26493  The Blank Slate: The Modern Denial of Human Nature   \n",
              "26494                          La leyenda del Rey Errante   \n",
              "26495          This Way for the Gas, Ladies and Gentlemen   \n",
              "26496                                      The Warded Man   \n",
              "26497                                       Raising Steam   \n",
              "\n",
              "                                                                                                                                                                                                                                                                                                                                                                                                                                                                                                                                                                                                                   description  \\\n",
              "26493  In The Blank Slate, Steven Pinker explores the idea of human nature and its moral, emotional, and political colorings. He shows how many intellectuals have denied the existence of human nature by embracing three linked dogmas: the Blank Slate (the mind has no innate traits), the Noble Savage (people are born good and corrupted by society), and the Ghost in the Machine (each of us has a soul that makes choices free from biology). Each dogma carries a moral burden, so their defenders have engaged in desperate tactics to discredit the scientists who are now challenging them.Pinker injects cal...   \n",
              "26494  Cuenta la historia de Walid, un príncipe árabe que desea ser un gran poeta. Para ello, pide permiso a su padre para asistir al prestigioso certamen poético de Ukaz. Pero el rey le pone como condición que primero ha de demostrar que es el mejor poeta de su reino. Walid organiza su propio certamen de poesía pero, durante tres años consecutivos, le vence Hammad, un humilde tejedor de alfombras, pobre y analfabeto.Envidioso, Walid lo nombra historiador real y le impone una serie de tareas imposibles, como ordenar el enorme y caótico archivo de palacio o tejer una alfombra que contenga toda la ...   \n",
              "26495  Tadeusz Borowski’s concentration camp stories were based on his own experiences surviving Auschwitz and Dachau. In spare, brutal prose he describes a world where where the will to survive overrides compassion and prisoners eat, work and sleep a few yards from where others are murdered; where the difference between human beings is reduced to a second bowl of soup, an extra blanket or the luxury of a pair of shoes with thick soles; and where the line between normality and abnormality vanishes. Published in Poland after the Second World War, these stories constitute a masterwork of world lite...   \n",
              "26496  As darkness falls after sunset, the corelings rise—demons who possess supernatural powers and burn with a consuming hatred of humanity. For hundreds of years the demons have terrorized the night, slowly culling the human herd that shelters behind magical wards—symbols of power whose origins are lost in myth and whose protection is terrifyingly fragile. It was not always this way. Once, men and women battled the corelings on equal terms, but those days are gone. Night by night the demons grow stronger, while human numbers dwindle under their relentless assault. Now, with hope for the future...   \n",
              "26497  Change is in the air for Moist von Lipwig, swindler, con-man, and (naturally) head of the Royal Bank and Post Office.A steaming, clanging new invention – a steam locomotive named Iron Girder, to be precise – is drawing astonished crowds. Suddenly it’s a matter of national importance that the trains run on time.Moist does not enjoy hard work. His input at the bank and post office consists mainly of words, which are not that heavy. Or greasy. And it certainly doesn’t involve rickety bridges, runaway cheeses or a fat controller with knuckledusters.What Moist does enjoy is being alive, which m...   \n",
              "\n",
              "                                                                                                                                                  genres  \\\n",
              "26493             ['Psychology', 'Science', 'Nonfiction', 'Philosophy', 'Sociology', 'Biology', 'Politics', 'Evolution', 'Anthropology', 'Neuroscience']   \n",
              "26494  ['Fantasy', 'Historical Fiction', 'Fiction', 'Young Adult', 'Adventure', 'Historical', 'Middle Grade', 'Spanish Literature', 'Childrens', 'Teen']   \n",
              "26495                                                    ['History', 'Short Stories', 'Holocaust', 'Nonfiction', 'War', 'Polish Literature', 'Classics']   \n",
              "26496     ['Fantasy', 'Fiction', 'Epic Fantasy', 'High Fantasy', 'Magic', 'Demons', 'Adventure', 'Dark Fantasy', 'Science Fiction Fantasy', 'Audiobook']   \n",
              "26497            ['Fantasy', 'Fiction', 'Humor', 'Comedy', 'Audiobook', 'Science Fiction Fantasy', 'Steampunk', 'Adventure', 'Adult', 'Science Fiction']   \n",
              "\n",
              "                                                                                            revised_genres  \n",
              "26493                                   [Psychology, Science, Nonfiction, Philosophy, Sociology, Politics]  \n",
              "26494  [Fantasy, Historical Fiction, Fiction, Young Adult, Adventure, Historical, Middle Grade, Childrens]  \n",
              "26495                                                  [History, Short Stories, Nonfiction, War, Classics]  \n",
              "26496                             [Fantasy, Fiction, Magic, Adventure, Science Fiction Fantasy, Audiobook]  \n",
              "26497     [Fantasy, Fiction, Humor, Audiobook, Science Fiction Fantasy, Adventure, Adult, Science Fiction]  "
            ],
            "text/html": [
              "\n",
              "  <div id=\"df-b51a0253-3ca0-43ee-bd29-283271743da4\" class=\"colab-df-container\">\n",
              "    <div>\n",
              "<style scoped>\n",
              "    .dataframe tbody tr th:only-of-type {\n",
              "        vertical-align: middle;\n",
              "    }\n",
              "\n",
              "    .dataframe tbody tr th {\n",
              "        vertical-align: top;\n",
              "    }\n",
              "\n",
              "    .dataframe thead th {\n",
              "        text-align: right;\n",
              "    }\n",
              "</style>\n",
              "<table border=\"1\" class=\"dataframe\">\n",
              "  <thead>\n",
              "    <tr style=\"text-align: right;\">\n",
              "      <th></th>\n",
              "      <th>title</th>\n",
              "      <th>description</th>\n",
              "      <th>genres</th>\n",
              "      <th>revised_genres</th>\n",
              "    </tr>\n",
              "  </thead>\n",
              "  <tbody>\n",
              "    <tr>\n",
              "      <th>26493</th>\n",
              "      <td>The Blank Slate: The Modern Denial of Human Nature</td>\n",
              "      <td>In The Blank Slate, Steven Pinker explores the idea of human nature and its moral, emotional, and political colorings. He shows how many intellectuals have denied the existence of human nature by embracing three linked dogmas: the Blank Slate (the mind has no innate traits), the Noble Savage (people are born good and corrupted by society), and the Ghost in the Machine (each of us has a soul that makes choices free from biology). Each dogma carries a moral burden, so their defenders have engaged in desperate tactics to discredit the scientists who are now challenging them.Pinker injects cal...</td>\n",
              "      <td>['Psychology', 'Science', 'Nonfiction', 'Philosophy', 'Sociology', 'Biology', 'Politics', 'Evolution', 'Anthropology', 'Neuroscience']</td>\n",
              "      <td>[Psychology, Science, Nonfiction, Philosophy, Sociology, Politics]</td>\n",
              "    </tr>\n",
              "    <tr>\n",
              "      <th>26494</th>\n",
              "      <td>La leyenda del Rey Errante</td>\n",
              "      <td>Cuenta la historia de Walid, un príncipe árabe que desea ser un gran poeta. Para ello, pide permiso a su padre para asistir al prestigioso certamen poético de Ukaz. Pero el rey le pone como condición que primero ha de demostrar que es el mejor poeta de su reino. Walid organiza su propio certamen de poesía pero, durante tres años consecutivos, le vence Hammad, un humilde tejedor de alfombras, pobre y analfabeto.Envidioso, Walid lo nombra historiador real y le impone una serie de tareas imposibles, como ordenar el enorme y caótico archivo de palacio o tejer una alfombra que contenga toda la ...</td>\n",
              "      <td>['Fantasy', 'Historical Fiction', 'Fiction', 'Young Adult', 'Adventure', 'Historical', 'Middle Grade', 'Spanish Literature', 'Childrens', 'Teen']</td>\n",
              "      <td>[Fantasy, Historical Fiction, Fiction, Young Adult, Adventure, Historical, Middle Grade, Childrens]</td>\n",
              "    </tr>\n",
              "    <tr>\n",
              "      <th>26495</th>\n",
              "      <td>This Way for the Gas, Ladies and Gentlemen</td>\n",
              "      <td>Tadeusz Borowski’s concentration camp stories were based on his own experiences surviving Auschwitz and Dachau. In spare, brutal prose he describes a world where where the will to survive overrides compassion and prisoners eat, work and sleep a few yards from where others are murdered; where the difference between human beings is reduced to a second bowl of soup, an extra blanket or the luxury of a pair of shoes with thick soles; and where the line between normality and abnormality vanishes. Published in Poland after the Second World War, these stories constitute a masterwork of world lite...</td>\n",
              "      <td>['History', 'Short Stories', 'Holocaust', 'Nonfiction', 'War', 'Polish Literature', 'Classics']</td>\n",
              "      <td>[History, Short Stories, Nonfiction, War, Classics]</td>\n",
              "    </tr>\n",
              "    <tr>\n",
              "      <th>26496</th>\n",
              "      <td>The Warded Man</td>\n",
              "      <td>As darkness falls after sunset, the corelings rise—demons who possess supernatural powers and burn with a consuming hatred of humanity. For hundreds of years the demons have terrorized the night, slowly culling the human herd that shelters behind magical wards—symbols of power whose origins are lost in myth and whose protection is terrifyingly fragile. It was not always this way. Once, men and women battled the corelings on equal terms, but those days are gone. Night by night the demons grow stronger, while human numbers dwindle under their relentless assault. Now, with hope for the future...</td>\n",
              "      <td>['Fantasy', 'Fiction', 'Epic Fantasy', 'High Fantasy', 'Magic', 'Demons', 'Adventure', 'Dark Fantasy', 'Science Fiction Fantasy', 'Audiobook']</td>\n",
              "      <td>[Fantasy, Fiction, Magic, Adventure, Science Fiction Fantasy, Audiobook]</td>\n",
              "    </tr>\n",
              "    <tr>\n",
              "      <th>26497</th>\n",
              "      <td>Raising Steam</td>\n",
              "      <td>Change is in the air for Moist von Lipwig, swindler, con-man, and (naturally) head of the Royal Bank and Post Office.A steaming, clanging new invention – a steam locomotive named Iron Girder, to be precise – is drawing astonished crowds. Suddenly it’s a matter of national importance that the trains run on time.Moist does not enjoy hard work. His input at the bank and post office consists mainly of words, which are not that heavy. Or greasy. And it certainly doesn’t involve rickety bridges, runaway cheeses or a fat controller with knuckledusters.What Moist does enjoy is being alive, which m...</td>\n",
              "      <td>['Fantasy', 'Fiction', 'Humor', 'Comedy', 'Audiobook', 'Science Fiction Fantasy', 'Steampunk', 'Adventure', 'Adult', 'Science Fiction']</td>\n",
              "      <td>[Fantasy, Fiction, Humor, Audiobook, Science Fiction Fantasy, Adventure, Adult, Science Fiction]</td>\n",
              "    </tr>\n",
              "  </tbody>\n",
              "</table>\n",
              "</div>\n",
              "    <div class=\"colab-df-buttons\">\n",
              "\n",
              "  <div class=\"colab-df-container\">\n",
              "    <button class=\"colab-df-convert\" onclick=\"convertToInteractive('df-b51a0253-3ca0-43ee-bd29-283271743da4')\"\n",
              "            title=\"Convert this dataframe to an interactive table.\"\n",
              "            style=\"display:none;\">\n",
              "\n",
              "  <svg xmlns=\"http://www.w3.org/2000/svg\" height=\"24px\" viewBox=\"0 -960 960 960\">\n",
              "    <path d=\"M120-120v-720h720v720H120Zm60-500h600v-160H180v160Zm220 220h160v-160H400v160Zm0 220h160v-160H400v160ZM180-400h160v-160H180v160Zm440 0h160v-160H620v160ZM180-180h160v-160H180v160Zm440 0h160v-160H620v160Z\"/>\n",
              "  </svg>\n",
              "    </button>\n",
              "\n",
              "  <style>\n",
              "    .colab-df-container {\n",
              "      display:flex;\n",
              "      gap: 12px;\n",
              "    }\n",
              "\n",
              "    .colab-df-convert {\n",
              "      background-color: #E8F0FE;\n",
              "      border: none;\n",
              "      border-radius: 50%;\n",
              "      cursor: pointer;\n",
              "      display: none;\n",
              "      fill: #1967D2;\n",
              "      height: 32px;\n",
              "      padding: 0 0 0 0;\n",
              "      width: 32px;\n",
              "    }\n",
              "\n",
              "    .colab-df-convert:hover {\n",
              "      background-color: #E2EBFA;\n",
              "      box-shadow: 0px 1px 2px rgba(60, 64, 67, 0.3), 0px 1px 3px 1px rgba(60, 64, 67, 0.15);\n",
              "      fill: #174EA6;\n",
              "    }\n",
              "\n",
              "    .colab-df-buttons div {\n",
              "      margin-bottom: 4px;\n",
              "    }\n",
              "\n",
              "    [theme=dark] .colab-df-convert {\n",
              "      background-color: #3B4455;\n",
              "      fill: #D2E3FC;\n",
              "    }\n",
              "\n",
              "    [theme=dark] .colab-df-convert:hover {\n",
              "      background-color: #434B5C;\n",
              "      box-shadow: 0px 1px 3px 1px rgba(0, 0, 0, 0.15);\n",
              "      filter: drop-shadow(0px 1px 2px rgba(0, 0, 0, 0.3));\n",
              "      fill: #FFFFFF;\n",
              "    }\n",
              "  </style>\n",
              "\n",
              "    <script>\n",
              "      const buttonEl =\n",
              "        document.querySelector('#df-b51a0253-3ca0-43ee-bd29-283271743da4 button.colab-df-convert');\n",
              "      buttonEl.style.display =\n",
              "        google.colab.kernel.accessAllowed ? 'block' : 'none';\n",
              "\n",
              "      async function convertToInteractive(key) {\n",
              "        const element = document.querySelector('#df-b51a0253-3ca0-43ee-bd29-283271743da4');\n",
              "        const dataTable =\n",
              "          await google.colab.kernel.invokeFunction('convertToInteractive',\n",
              "                                                    [key], {});\n",
              "        if (!dataTable) return;\n",
              "\n",
              "        const docLinkHtml = 'Like what you see? Visit the ' +\n",
              "          '<a target=\"_blank\" href=https://colab.research.google.com/notebooks/data_table.ipynb>data table notebook</a>'\n",
              "          + ' to learn more about interactive tables.';\n",
              "        element.innerHTML = '';\n",
              "        dataTable['output_type'] = 'display_data';\n",
              "        await google.colab.output.renderOutput(dataTable, element);\n",
              "        const docLink = document.createElement('div');\n",
              "        docLink.innerHTML = docLinkHtml;\n",
              "        element.appendChild(docLink);\n",
              "      }\n",
              "    </script>\n",
              "  </div>\n",
              "\n",
              "\n",
              "<div id=\"df-14c463e5-71e9-441f-b67a-958c33035812\">\n",
              "  <button class=\"colab-df-quickchart\" onclick=\"quickchart('df-14c463e5-71e9-441f-b67a-958c33035812')\"\n",
              "            title=\"Suggest charts.\"\n",
              "            style=\"display:none;\">\n",
              "\n",
              "<svg xmlns=\"http://www.w3.org/2000/svg\" height=\"24px\"viewBox=\"0 0 24 24\"\n",
              "     width=\"24px\">\n",
              "    <g>\n",
              "        <path d=\"M19 3H5c-1.1 0-2 .9-2 2v14c0 1.1.9 2 2 2h14c1.1 0 2-.9 2-2V5c0-1.1-.9-2-2-2zM9 17H7v-7h2v7zm4 0h-2V7h2v10zm4 0h-2v-4h2v4z\"/>\n",
              "    </g>\n",
              "</svg>\n",
              "  </button>\n",
              "\n",
              "<style>\n",
              "  .colab-df-quickchart {\n",
              "      --bg-color: #E8F0FE;\n",
              "      --fill-color: #1967D2;\n",
              "      --hover-bg-color: #E2EBFA;\n",
              "      --hover-fill-color: #174EA6;\n",
              "      --disabled-fill-color: #AAA;\n",
              "      --disabled-bg-color: #DDD;\n",
              "  }\n",
              "\n",
              "  [theme=dark] .colab-df-quickchart {\n",
              "      --bg-color: #3B4455;\n",
              "      --fill-color: #D2E3FC;\n",
              "      --hover-bg-color: #434B5C;\n",
              "      --hover-fill-color: #FFFFFF;\n",
              "      --disabled-bg-color: #3B4455;\n",
              "      --disabled-fill-color: #666;\n",
              "  }\n",
              "\n",
              "  .colab-df-quickchart {\n",
              "    background-color: var(--bg-color);\n",
              "    border: none;\n",
              "    border-radius: 50%;\n",
              "    cursor: pointer;\n",
              "    display: none;\n",
              "    fill: var(--fill-color);\n",
              "    height: 32px;\n",
              "    padding: 0;\n",
              "    width: 32px;\n",
              "  }\n",
              "\n",
              "  .colab-df-quickchart:hover {\n",
              "    background-color: var(--hover-bg-color);\n",
              "    box-shadow: 0 1px 2px rgba(60, 64, 67, 0.3), 0 1px 3px 1px rgba(60, 64, 67, 0.15);\n",
              "    fill: var(--button-hover-fill-color);\n",
              "  }\n",
              "\n",
              "  .colab-df-quickchart-complete:disabled,\n",
              "  .colab-df-quickchart-complete:disabled:hover {\n",
              "    background-color: var(--disabled-bg-color);\n",
              "    fill: var(--disabled-fill-color);\n",
              "    box-shadow: none;\n",
              "  }\n",
              "\n",
              "  .colab-df-spinner {\n",
              "    border: 2px solid var(--fill-color);\n",
              "    border-color: transparent;\n",
              "    border-bottom-color: var(--fill-color);\n",
              "    animation:\n",
              "      spin 1s steps(1) infinite;\n",
              "  }\n",
              "\n",
              "  @keyframes spin {\n",
              "    0% {\n",
              "      border-color: transparent;\n",
              "      border-bottom-color: var(--fill-color);\n",
              "      border-left-color: var(--fill-color);\n",
              "    }\n",
              "    20% {\n",
              "      border-color: transparent;\n",
              "      border-left-color: var(--fill-color);\n",
              "      border-top-color: var(--fill-color);\n",
              "    }\n",
              "    30% {\n",
              "      border-color: transparent;\n",
              "      border-left-color: var(--fill-color);\n",
              "      border-top-color: var(--fill-color);\n",
              "      border-right-color: var(--fill-color);\n",
              "    }\n",
              "    40% {\n",
              "      border-color: transparent;\n",
              "      border-right-color: var(--fill-color);\n",
              "      border-top-color: var(--fill-color);\n",
              "    }\n",
              "    60% {\n",
              "      border-color: transparent;\n",
              "      border-right-color: var(--fill-color);\n",
              "    }\n",
              "    80% {\n",
              "      border-color: transparent;\n",
              "      border-right-color: var(--fill-color);\n",
              "      border-bottom-color: var(--fill-color);\n",
              "    }\n",
              "    90% {\n",
              "      border-color: transparent;\n",
              "      border-bottom-color: var(--fill-color);\n",
              "    }\n",
              "  }\n",
              "</style>\n",
              "\n",
              "  <script>\n",
              "    async function quickchart(key) {\n",
              "      const quickchartButtonEl =\n",
              "        document.querySelector('#' + key + ' button');\n",
              "      quickchartButtonEl.disabled = true;  // To prevent multiple clicks.\n",
              "      quickchartButtonEl.classList.add('colab-df-spinner');\n",
              "      try {\n",
              "        const charts = await google.colab.kernel.invokeFunction(\n",
              "            'suggestCharts', [key], {});\n",
              "      } catch (error) {\n",
              "        console.error('Error during call to suggestCharts:', error);\n",
              "      }\n",
              "      quickchartButtonEl.classList.remove('colab-df-spinner');\n",
              "      quickchartButtonEl.classList.add('colab-df-quickchart-complete');\n",
              "    }\n",
              "    (() => {\n",
              "      let quickchartButtonEl =\n",
              "        document.querySelector('#df-14c463e5-71e9-441f-b67a-958c33035812 button');\n",
              "      quickchartButtonEl.style.display =\n",
              "        google.colab.kernel.accessAllowed ? 'block' : 'none';\n",
              "    })();\n",
              "  </script>\n",
              "</div>\n",
              "    </div>\n",
              "  </div>\n"
            ]
          },
          "metadata": {},
          "execution_count": 15
        }
      ]
    },
    {
      "cell_type": "code",
      "source": [
        "revised_genres_list = df.revised_genres.to_list()\n",
        "revised_genre_count = {}\n",
        "for genres in revised_genres_list:\n",
        "  genre_list = genres\n",
        "  for genre in genre_list:\n",
        "    if genre in revised_genre_count.keys():\n",
        "      revised_genre_count[genre] += 1\n",
        "    else:\n",
        "      revised_genre_count[genre] = 1\n",
        "print(f\"Number of genre: {len(revised_genre_count)}\")\n",
        "print(revised_genre_count)"
      ],
      "metadata": {
        "colab": {
          "base_uri": "https://localhost:8080/"
        },
        "id": "bSfkyG4zBFw9",
        "outputId": "fd9055d8-f87d-4f92-85a1-c174da58c632"
      },
      "execution_count": 16,
      "outputs": [
        {
          "output_type": "stream",
          "name": "stdout",
          "text": [
            "Number of genre: 222\n",
            "{'Nonfiction': 167590, 'Business & Economics': 22209, 'New Age': 2647, 'Meditation': 498, 'Personal finance / money management': 423, 'Religion & Spirituality': 10584, 'Body, mind, & spirit': 2553, 'Inspiration & personal growth': 546, 'Self-improvement': 3900, 'Personal Growth / Success': 402, 'Inspiration': 1926, 'General self-help': 1401, 'Starting up': 915, 'Fiction': 26263, 'Adventure': 2569, 'General': 8661, 'Travel': 9870, 'Science fiction': 1438, 'Health, wellbeing, & medicine': 9969, 'Education & Study Guides': 6189, 'Medicine': 1713, 'Education': 630, 'Computers & Internet': 4947, 'Business administration': 330, 'Essay': 834, 'Literature': 1918, 'Reference': 4360, 'Marketing': 516, 'Social Science': 5690, 'Psychology': 3273, 'Mental health': 471, 'Personal Growth / General': 327, 'History': 9956, 'American': 714, 'North America': 1944, 'Canada': 741, 'USA': 987, 'Art, Architecture, Photography': 12090, 'Fine art': 3261, 'Architecture': 4434, 'Engineering, trades, & technology': 1281, 'Screenplays': 960, 'Romance': 4107, 'Drama': 621, 'Fantasy': 2798, 'Performing arts': 528, 'Biography': 7766, 'War': 514, 'LGBTQ+': 1544, 'Christian': 1108, 'Suspense': 745, 'Horror': 1597, 'Occult': 282, 'Anthologies': 1097, 'Short stories - single author': 351, 'Literary': 706, 'Contemporary': 1831, 'Holiday': 495, 'Religious': 521, 'Study & teaching': 450, 'Cooking, Food, Wine, Spirits': 7032, 'Motivation & inspiration': 645, 'Entertainment': 2433, 'Plays': 329, 'Mystery & detective': 713, 'Thriller & suspense': 930, 'Thriller': 940, 'Supernatural': 517, 'Crime': 895, \"Women's fiction\": 465, 'Mystery': 1182, 'Humor & comedy': 540, 'Short stories': 504, 'Relationships & Family': 4428, 'Political': 327, 'Politics & Current Affairs': 2340, 'Historical': 2282, 'Ancient': 496, 'Medieval': 430, 'Philosophy': 2347, 'Plays & Screenplays': 462, 'Parenting': 2866, 'Sociology': 485, 'Transportation': 883, 'Classics': 2020, 'Healthcare issues': 291, 'Young adult or teen': 1875, \"Children's Books\": 2070, 'Graphic novels & comics': 375, 'Language Instruction': 1173, 'Poetry': 3281, 'Literary criticism': 393, 'Literacy': 927, 'Music': 5018, 'Contemporary Poetry': 483, 'Themes & motifs': 1158, 'Humor & satire': 612, 'Political science': 1813, 'Cultural & ethnic themes': 351, 'African American fiction': 1164, 'Paranormal': 798, 'Adventurers & explorers': 342, 'True crime': 294, 'True Crime': 1129, 'European': 1113, 'Asian': 975, 'Children’s books': 1251, 'Short Stories': 393, 'Weddings': 321, 'Dating': 441, 'Marriage': 312, 'Literary collections': 314, 'Home & Garden': 5793, 'Pets & livestock': 2691, 'Dogs': 1014, 'By region': 4824, 'Specialties & interests': 2016, 'Essays & Travelogues': 366, 'Africa': 1064, 'Europe': 1657, 'Italy': 527, 'Asia': 1215, 'France': 307, 'Antiques & Collectibles': 1890, 'Crafts & Hobbies': 639, 'Science & Nature': 4302, 'Bibles': 2718, 'Leadership': 308, 'Careers': 492, 'Sales': 315, 'Sports & outdoor recreation': 7611, 'Vegetarian & Vegan': 297, 'Sports nutrition': 546, 'Childhood obesity': 567, 'Dieting': 489, \"Women's health\": 459, 'Healing': 276, 'Emotional healing': 303, 'healthy living': 537, 'Sex & Relationships': 1185, 'Body cleansing & detoxification': 285, 'Alternative therapies': 384, 'Emotions': 339, 'Personal success': 381, 'Religion & self-improvement': 348, 'Spiritualism': 297, 'Amateur naturalist': 804, 'Programming': 491, 'Law': 1867, 'Magic': 561, 'Christianity': 322, 'Childhood development': 348, 'Motherhood': 386, 'Personal memoir': 1122, 'Woman biographies': 435, 'Home-based businesses': 294, 'Careers / job hunting': 288, 'Essays': 773, 'Sheet music & song books': 396, 'Inspirational': 360, 'Personal finance': 324, 'Small business & entrepreneurship': 441, 'Interior decorating': 342, 'Civilization': 297, 'Gardening': 330, 'Training': 735, 'Breeds': 300, 'Military': 763, 'Games, puzzles, & brain twisters': 522, 'E-commerce / internet marketing': 504, 'Career Guides': 1014, 'Business': 522, 'Stock market investing': 423, 'Economics': 347, 'Art - how to': 1599, 'Applied arts': 702, 'Photography': 473, 'Nature': 363, 'Museums of the World': 279, 'Football & rugby': 438, 'Road travel': 300, 'Japan': 289, 'Art history': 534, 'Animals': 498, 'Family': 298, 'Buildings': 789, 'Landmarks & monuments': 333, 'Equestrian': 747, 'Drawing': 337, 'Personal finance / investing': 387, 'Management': 372, 'Cats': 368, 'Science': 386, 'Art': 298, '20th Century': 377, 'Humor': 590, 'Religion': 427, 'Chick Lit': 294, 'Science Fiction': 755, 'Adult': 1396, 'Farm animals': 336, 'English literature': 388, 'American and Canadian literature': 339, 'Novels': 1670, 'Historical Fiction': 1262, 'School': 423, 'Young Adult': 1263, 'Childrens': 572, 'Middle Grade': 406, 'Audiobook': 1915, 'Science Fiction Fantasy': 511, 'Memoir': 476, 'Dystopia': 292, 'Politics': 353, 'Spirituality': 325, 'Self Help': 504, 'Adult Fiction': 519, 'Literary Fiction': 599, 'British Literature': 347, 'Biography Memoir': 308, 'Mystery Thriller': 598, 'Personal Development': 372}\n"
          ]
        }
      ]
    },
    {
      "cell_type": "code",
      "source": [
        "encode_genre_types = { key: idx for idx, (key, value) in enumerate(revised_genre_count.items())}\n",
        "with open(\"genre_types_encoded.json\", \"w\") as fp:\n",
        "  json.dump(encode_genre_types, fp)"
      ],
      "metadata": {
        "id": "77hW5uGTRz2u"
      },
      "execution_count": 17,
      "outputs": []
    },
    {
      "cell_type": "code",
      "source": [
        "# We need this because for multilabel classification all genres have possibility to be present in the predictions\n",
        "categorical_genre_list = []\n",
        "revised_genres_list = df.revised_genres.to_list()\n",
        "\n",
        "for revised_genres in revised_genres_list:\n",
        "  categorical_list = [0] * len(encode_genre_types)\n",
        "  for genre in revised_genres:\n",
        "    genre_type_index = encode_genre_types[genre]\n",
        "    categorical_list[genre_type_index] = 1\n",
        "  categorical_genre_list.append(categorical_list)\n",
        "\n",
        "categorical_genre_list[3][:23]"
      ],
      "metadata": {
        "colab": {
          "base_uri": "https://localhost:8080/"
        },
        "id": "OvQ3vjQTSrKO",
        "outputId": "508cb341-b180-4ac4-8eda-79a92222cdb5"
      },
      "execution_count": 18,
      "outputs": [
        {
          "output_type": "execute_result",
          "data": {
            "text/plain": [
              "[0, 0, 0, 0, 0, 0, 0, 0, 0, 0, 0, 0, 0, 1, 1, 1, 1, 0, 0, 0, 0, 0, 0]"
            ]
          },
          "metadata": {},
          "execution_count": 18
        }
      ]
    },
    {
      "cell_type": "code",
      "source": [
        "df['genre_cat_list'] = categorical_genre_list\n",
        "df.head()"
      ],
      "metadata": {
        "colab": {
          "base_uri": "https://localhost:8080/",
          "height": 1000
        },
        "id": "MVllFU9VT6fu",
        "outputId": "08b89276-99be-4bf9-def5-79585c1f1d30"
      },
      "execution_count": 19,
      "outputs": [
        {
          "output_type": "execute_result",
          "data": {
            "text/plain": [
              "                                                                   title  \\\n",
              "0  Awakening Your Money Chakras Secrets to Attracting Wealth and Success   \n",
              "1                                                        Emotions A to Z   \n",
              "2                             The Art of Raise Capital for a New Venture   \n",
              "3                                                  райдуга навколо сонця   \n",
              "4                                      Sibiloi: The Genesis of Humanity?   \n",
              "\n",
              "                                                                                                                                                                                                                                                                                                                                                                                                                                                                                                                                                                                                               description  \\\n",
              "0  Welcome to our enlightening guide on \"Awakening Your Money Chakras: Secrets to Attracting Wealth and Success.\" If you've ever wondered how some people effortlessly attract abundance into their lives while others struggle, this book has the answers you seek!\\n\\nIn this empowering read, we delve into the fascinating world of chakras, the energy centers within us that influence our financial well-being. From the Root Chakra to the Crown Chakra, we explore how each one impacts our money mindset and ability to manifest prosperity.\\n\\nLearn how to identify blockages and imbalances that may have ...   \n",
              "1  \"The Empathy Weave: Embracing Emotional Intelligence for Meaningful Connections\" is a captivating and transformative exploration of emotional intelligence and empathy—a tapestry of understanding and compassion that weaves hearts together with profound human connections. In this enlightening book, readers embark on a journey of self-discovery and growth, unlocking the power of emotional intelligence to enhance personal relationships, professional success, and overall well-being.\\n\\nDrawing upon the rich tapestry of emotional intelligence, this book delves deep into the intricacies of self-a...   \n",
              "2  \"The Art of Raise Capital for Your New Venture\" is a practical and insightful guide that equips entrepreneurs with the knowledge and strategies needed to secure capital for their startup ventures. Authored with the understanding of the challenges faced by startup founders, this book serves as a valuable resource for aspiring entrepreneurs and seasoned founders alike.\\n\\nAt the core of successful fundraising lies the art of visionary storytelling. The book emphasizes the importance of articulating a powerful vision that resonates with potential investors. Through effective communication, en...   \n",
              "3                                                                                                                                                       Життя заможного бізнесмена Марка можна побачити лише у казках: квартири, дорогі автомобілі, красива дівчина. Проте одна подія змінює Марка: врятувавши дівчинку з полум'я та сам ледь не загинувши, він полишає все та вирішує піти у паломництво до Єрусалиму у пошуках відповідей на свої запитання. Шлях далекий та складний, сповнений пригод та небезпек. Але Марк впевнений, що там, біля Гробу Господнього, на нього чекає відповідь на найбільшу таємницю.   \n",
              "4                           ONE Mysterious belt in an antique shop in London is a compass to secret caves of the Amalek tribe in Sibiloi, Northern Kenya.\\n\\nFOUR Researchers want to unravel the truth: biologist Dr Martha Watkins, anthropologist Jim Trevor, and archeologists Dr Paul Brando from California, US, and Professor Simiyu from Kenya.\\n\\nTWO Extremist organisations want the truth buried forever: a religious sect and a terror organisation.\\n\\nDeep in the caves of Sibiloi in Turkana, Kenya, is the answer that has evaded researchers for ages: Sibiloi holds secrets of the genesis of humanity.   \n",
              "\n",
              "                                                                                                                                                                                                                                                                                                                                                                                                                                                                                                                                                                                                                    genres  \\\n",
              "0  ['Nonfiction', 'Business & Economics', 'Nonfiction', 'New Age', 'Meditation', 'Nonfiction', 'Business & Economics', 'Personal finance / money management', 'Nonfiction', 'Religion & Spirituality', 'Body, mind, & spirit', 'Inspiration & personal growth', 'Nonfiction', 'Self-improvement', 'Personal Growth / Success', 'Nonfiction', 'Business & Economics', 'Nonfiction', 'Business & Economics', 'Nonfiction', 'New Age', 'Meditation', 'Nonfiction', 'New Age', 'Meditation', 'Nonfiction', 'Business & Economics', 'Personal finance / money management', 'Nonfiction', 'Business & Economics', 'Personal f...   \n",
              "1                                                                                                                                                                                                                                                                                        ['Nonfiction', 'Inspiration', 'General self-help', 'Nonfiction', 'Self-improvement', 'Anxieties & Phobias', 'Nonfiction', 'Inspiration', 'General self-help', 'Nonfiction', 'Inspiration', 'General self-help', 'Nonfiction', 'Self-improvement', 'Anxieties & Phobias', 'Nonfiction', 'Self-improvement', 'Anxieties & Phobias']   \n",
              "2                                                                                                                                                                               ['Nonfiction', 'Business & Economics', 'Nonfiction', 'Business & Economics', 'Starting up', 'Nonfiction', 'Business & Economics', 'Budgeting', 'Nonfiction', 'Business & Economics', 'Nonfiction', 'Business & Economics', 'Nonfiction', 'Business & Economics', 'Starting up', 'Nonfiction', 'Business & Economics', 'Starting up', 'Nonfiction', 'Business & Economics', 'Budgeting', 'Nonfiction', 'Business & Economics', 'Budgeting']   \n",
              "3                                                                                                                                                                                                                                                                                                                                                                                                          ['Fiction', 'Adventure', 'General', 'Fiction', 'Adventure', 'Travel', 'Fiction', 'Adventure', 'General', 'Fiction', 'Adventure', 'General', 'Fiction', 'Adventure', 'Travel', 'Fiction', 'Adventure', 'Travel']   \n",
              "4                                                                                                                                                                                                                                              ['Fiction', 'Fiction', 'Adventure', 'Fiction', 'Science fiction', 'Adventure', 'Fiction', 'Science fiction', 'High tech', 'Fiction', 'Fiction', 'Fiction', 'Adventure', 'Fiction', 'Adventure', 'Fiction', 'Science fiction', 'Adventure', 'Fiction', 'Science fiction', 'Adventure', 'Fiction', 'Science fiction', 'High tech', 'Fiction', 'Science fiction', 'High tech']   \n",
              "\n",
              "                                                                                                                                                                                                                                                                                                                                                                                                                                                                                                                                                                                                            revised_genres  \\\n",
              "0  [Nonfiction, Business & Economics, Nonfiction, New Age, Meditation, Nonfiction, Business & Economics, Personal finance / money management, Nonfiction, Religion & Spirituality, Body, mind, & spirit, Inspiration & personal growth, Nonfiction, Self-improvement, Personal Growth / Success, Nonfiction, Business & Economics, Nonfiction, Business & Economics, Nonfiction, New Age, Meditation, Nonfiction, New Age, Meditation, Nonfiction, Business & Economics, Personal finance / money management, Nonfiction, Business & Economics, Personal finance / money management, Nonfiction, Religion & Spiritualit...   \n",
              "1                                                                                                                                                                                                                                                                                                                                                                                           [Nonfiction, Inspiration, General self-help, Nonfiction, Self-improvement, Nonfiction, Inspiration, General self-help, Nonfiction, Inspiration, General self-help, Nonfiction, Self-improvement, Nonfiction, Self-improvement]   \n",
              "2                                                                                                                                                                                                                                                                [Nonfiction, Business & Economics, Nonfiction, Business & Economics, Starting up, Nonfiction, Business & Economics, Nonfiction, Business & Economics, Nonfiction, Business & Economics, Nonfiction, Business & Economics, Starting up, Nonfiction, Business & Economics, Starting up, Nonfiction, Business & Economics, Nonfiction, Business & Economics]   \n",
              "3                                                                                                                                                                                                                                                                                                                                                                                                                                              [Fiction, Adventure, General, Fiction, Adventure, Travel, Fiction, Adventure, General, Fiction, Adventure, General, Fiction, Adventure, Travel, Fiction, Adventure, Travel]   \n",
              "4                                                                                                                                                                                                                                                                                                                                     [Fiction, Fiction, Adventure, Fiction, Science fiction, Adventure, Fiction, Science fiction, Fiction, Fiction, Fiction, Adventure, Fiction, Adventure, Fiction, Science fiction, Adventure, Fiction, Science fiction, Adventure, Fiction, Science fiction, Fiction, Science fiction]   \n",
              "\n",
              "                                                                                                                                                                                                                                                                                                      genre_cat_list  \n",
              "0  [1, 1, 1, 1, 1, 1, 1, 1, 1, 1, 0, 0, 0, 0, 0, 0, 0, 0, 0, 0, 0, 0, 0, 0, 0, 0, 0, 0, 0, 0, 0, 0, 0, 0, 0, 0, 0, 0, 0, 0, 0, 0, 0, 0, 0, 0, 0, 0, 0, 0, 0, 0, 0, 0, 0, 0, 0, 0, 0, 0, 0, 0, 0, 0, 0, 0, 0, 0, 0, 0, 0, 0, 0, 0, 0, 0, 0, 0, 0, 0, 0, 0, 0, 0, 0, 0, 0, 0, 0, 0, 0, 0, 0, 0, 0, 0, 0, 0, 0, 0, ...]  \n",
              "1  [1, 0, 0, 0, 0, 0, 0, 0, 1, 0, 1, 1, 0, 0, 0, 0, 0, 0, 0, 0, 0, 0, 0, 0, 0, 0, 0, 0, 0, 0, 0, 0, 0, 0, 0, 0, 0, 0, 0, 0, 0, 0, 0, 0, 0, 0, 0, 0, 0, 0, 0, 0, 0, 0, 0, 0, 0, 0, 0, 0, 0, 0, 0, 0, 0, 0, 0, 0, 0, 0, 0, 0, 0, 0, 0, 0, 0, 0, 0, 0, 0, 0, 0, 0, 0, 0, 0, 0, 0, 0, 0, 0, 0, 0, 0, 0, 0, 0, 0, 0, ...]  \n",
              "2  [1, 1, 0, 0, 0, 0, 0, 0, 0, 0, 0, 0, 1, 0, 0, 0, 0, 0, 0, 0, 0, 0, 0, 0, 0, 0, 0, 0, 0, 0, 0, 0, 0, 0, 0, 0, 0, 0, 0, 0, 0, 0, 0, 0, 0, 0, 0, 0, 0, 0, 0, 0, 0, 0, 0, 0, 0, 0, 0, 0, 0, 0, 0, 0, 0, 0, 0, 0, 0, 0, 0, 0, 0, 0, 0, 0, 0, 0, 0, 0, 0, 0, 0, 0, 0, 0, 0, 0, 0, 0, 0, 0, 0, 0, 0, 0, 0, 0, 0, 0, ...]  \n",
              "3  [0, 0, 0, 0, 0, 0, 0, 0, 0, 0, 0, 0, 0, 1, 1, 1, 1, 0, 0, 0, 0, 0, 0, 0, 0, 0, 0, 0, 0, 0, 0, 0, 0, 0, 0, 0, 0, 0, 0, 0, 0, 0, 0, 0, 0, 0, 0, 0, 0, 0, 0, 0, 0, 0, 0, 0, 0, 0, 0, 0, 0, 0, 0, 0, 0, 0, 0, 0, 0, 0, 0, 0, 0, 0, 0, 0, 0, 0, 0, 0, 0, 0, 0, 0, 0, 0, 0, 0, 0, 0, 0, 0, 0, 0, 0, 0, 0, 0, 0, 0, ...]  \n",
              "4  [0, 0, 0, 0, 0, 0, 0, 0, 0, 0, 0, 0, 0, 1, 1, 0, 0, 1, 0, 0, 0, 0, 0, 0, 0, 0, 0, 0, 0, 0, 0, 0, 0, 0, 0, 0, 0, 0, 0, 0, 0, 0, 0, 0, 0, 0, 0, 0, 0, 0, 0, 0, 0, 0, 0, 0, 0, 0, 0, 0, 0, 0, 0, 0, 0, 0, 0, 0, 0, 0, 0, 0, 0, 0, 0, 0, 0, 0, 0, 0, 0, 0, 0, 0, 0, 0, 0, 0, 0, 0, 0, 0, 0, 0, 0, 0, 0, 0, 0, 0, ...]  "
            ],
            "text/html": [
              "\n",
              "  <div id=\"df-01e940d2-4109-4d1f-b9ed-d9b1e13b2ce3\" class=\"colab-df-container\">\n",
              "    <div>\n",
              "<style scoped>\n",
              "    .dataframe tbody tr th:only-of-type {\n",
              "        vertical-align: middle;\n",
              "    }\n",
              "\n",
              "    .dataframe tbody tr th {\n",
              "        vertical-align: top;\n",
              "    }\n",
              "\n",
              "    .dataframe thead th {\n",
              "        text-align: right;\n",
              "    }\n",
              "</style>\n",
              "<table border=\"1\" class=\"dataframe\">\n",
              "  <thead>\n",
              "    <tr style=\"text-align: right;\">\n",
              "      <th></th>\n",
              "      <th>title</th>\n",
              "      <th>description</th>\n",
              "      <th>genres</th>\n",
              "      <th>revised_genres</th>\n",
              "      <th>genre_cat_list</th>\n",
              "    </tr>\n",
              "  </thead>\n",
              "  <tbody>\n",
              "    <tr>\n",
              "      <th>0</th>\n",
              "      <td>Awakening Your Money Chakras Secrets to Attracting Wealth and Success</td>\n",
              "      <td>Welcome to our enlightening guide on \"Awakening Your Money Chakras: Secrets to Attracting Wealth and Success.\" If you've ever wondered how some people effortlessly attract abundance into their lives while others struggle, this book has the answers you seek!\\n\\nIn this empowering read, we delve into the fascinating world of chakras, the energy centers within us that influence our financial well-being. From the Root Chakra to the Crown Chakra, we explore how each one impacts our money mindset and ability to manifest prosperity.\\n\\nLearn how to identify blockages and imbalances that may have ...</td>\n",
              "      <td>['Nonfiction', 'Business &amp; Economics', 'Nonfiction', 'New Age', 'Meditation', 'Nonfiction', 'Business &amp; Economics', 'Personal finance / money management', 'Nonfiction', 'Religion &amp; Spirituality', 'Body, mind, &amp; spirit', 'Inspiration &amp; personal growth', 'Nonfiction', 'Self-improvement', 'Personal Growth / Success', 'Nonfiction', 'Business &amp; Economics', 'Nonfiction', 'Business &amp; Economics', 'Nonfiction', 'New Age', 'Meditation', 'Nonfiction', 'New Age', 'Meditation', 'Nonfiction', 'Business &amp; Economics', 'Personal finance / money management', 'Nonfiction', 'Business &amp; Economics', 'Personal f...</td>\n",
              "      <td>[Nonfiction, Business &amp; Economics, Nonfiction, New Age, Meditation, Nonfiction, Business &amp; Economics, Personal finance / money management, Nonfiction, Religion &amp; Spirituality, Body, mind, &amp; spirit, Inspiration &amp; personal growth, Nonfiction, Self-improvement, Personal Growth / Success, Nonfiction, Business &amp; Economics, Nonfiction, Business &amp; Economics, Nonfiction, New Age, Meditation, Nonfiction, New Age, Meditation, Nonfiction, Business &amp; Economics, Personal finance / money management, Nonfiction, Business &amp; Economics, Personal finance / money management, Nonfiction, Religion &amp; Spiritualit...</td>\n",
              "      <td>[1, 1, 1, 1, 1, 1, 1, 1, 1, 1, 0, 0, 0, 0, 0, 0, 0, 0, 0, 0, 0, 0, 0, 0, 0, 0, 0, 0, 0, 0, 0, 0, 0, 0, 0, 0, 0, 0, 0, 0, 0, 0, 0, 0, 0, 0, 0, 0, 0, 0, 0, 0, 0, 0, 0, 0, 0, 0, 0, 0, 0, 0, 0, 0, 0, 0, 0, 0, 0, 0, 0, 0, 0, 0, 0, 0, 0, 0, 0, 0, 0, 0, 0, 0, 0, 0, 0, 0, 0, 0, 0, 0, 0, 0, 0, 0, 0, 0, 0, 0, ...]</td>\n",
              "    </tr>\n",
              "    <tr>\n",
              "      <th>1</th>\n",
              "      <td>Emotions A to Z</td>\n",
              "      <td>\"The Empathy Weave: Embracing Emotional Intelligence for Meaningful Connections\" is a captivating and transformative exploration of emotional intelligence and empathy—a tapestry of understanding and compassion that weaves hearts together with profound human connections. In this enlightening book, readers embark on a journey of self-discovery and growth, unlocking the power of emotional intelligence to enhance personal relationships, professional success, and overall well-being.\\n\\nDrawing upon the rich tapestry of emotional intelligence, this book delves deep into the intricacies of self-a...</td>\n",
              "      <td>['Nonfiction', 'Inspiration', 'General self-help', 'Nonfiction', 'Self-improvement', 'Anxieties &amp; Phobias', 'Nonfiction', 'Inspiration', 'General self-help', 'Nonfiction', 'Inspiration', 'General self-help', 'Nonfiction', 'Self-improvement', 'Anxieties &amp; Phobias', 'Nonfiction', 'Self-improvement', 'Anxieties &amp; Phobias']</td>\n",
              "      <td>[Nonfiction, Inspiration, General self-help, Nonfiction, Self-improvement, Nonfiction, Inspiration, General self-help, Nonfiction, Inspiration, General self-help, Nonfiction, Self-improvement, Nonfiction, Self-improvement]</td>\n",
              "      <td>[1, 0, 0, 0, 0, 0, 0, 0, 1, 0, 1, 1, 0, 0, 0, 0, 0, 0, 0, 0, 0, 0, 0, 0, 0, 0, 0, 0, 0, 0, 0, 0, 0, 0, 0, 0, 0, 0, 0, 0, 0, 0, 0, 0, 0, 0, 0, 0, 0, 0, 0, 0, 0, 0, 0, 0, 0, 0, 0, 0, 0, 0, 0, 0, 0, 0, 0, 0, 0, 0, 0, 0, 0, 0, 0, 0, 0, 0, 0, 0, 0, 0, 0, 0, 0, 0, 0, 0, 0, 0, 0, 0, 0, 0, 0, 0, 0, 0, 0, 0, ...]</td>\n",
              "    </tr>\n",
              "    <tr>\n",
              "      <th>2</th>\n",
              "      <td>The Art of Raise Capital for a New Venture</td>\n",
              "      <td>\"The Art of Raise Capital for Your New Venture\" is a practical and insightful guide that equips entrepreneurs with the knowledge and strategies needed to secure capital for their startup ventures. Authored with the understanding of the challenges faced by startup founders, this book serves as a valuable resource for aspiring entrepreneurs and seasoned founders alike.\\n\\nAt the core of successful fundraising lies the art of visionary storytelling. The book emphasizes the importance of articulating a powerful vision that resonates with potential investors. Through effective communication, en...</td>\n",
              "      <td>['Nonfiction', 'Business &amp; Economics', 'Nonfiction', 'Business &amp; Economics', 'Starting up', 'Nonfiction', 'Business &amp; Economics', 'Budgeting', 'Nonfiction', 'Business &amp; Economics', 'Nonfiction', 'Business &amp; Economics', 'Nonfiction', 'Business &amp; Economics', 'Starting up', 'Nonfiction', 'Business &amp; Economics', 'Starting up', 'Nonfiction', 'Business &amp; Economics', 'Budgeting', 'Nonfiction', 'Business &amp; Economics', 'Budgeting']</td>\n",
              "      <td>[Nonfiction, Business &amp; Economics, Nonfiction, Business &amp; Economics, Starting up, Nonfiction, Business &amp; Economics, Nonfiction, Business &amp; Economics, Nonfiction, Business &amp; Economics, Nonfiction, Business &amp; Economics, Starting up, Nonfiction, Business &amp; Economics, Starting up, Nonfiction, Business &amp; Economics, Nonfiction, Business &amp; Economics]</td>\n",
              "      <td>[1, 1, 0, 0, 0, 0, 0, 0, 0, 0, 0, 0, 1, 0, 0, 0, 0, 0, 0, 0, 0, 0, 0, 0, 0, 0, 0, 0, 0, 0, 0, 0, 0, 0, 0, 0, 0, 0, 0, 0, 0, 0, 0, 0, 0, 0, 0, 0, 0, 0, 0, 0, 0, 0, 0, 0, 0, 0, 0, 0, 0, 0, 0, 0, 0, 0, 0, 0, 0, 0, 0, 0, 0, 0, 0, 0, 0, 0, 0, 0, 0, 0, 0, 0, 0, 0, 0, 0, 0, 0, 0, 0, 0, 0, 0, 0, 0, 0, 0, 0, ...]</td>\n",
              "    </tr>\n",
              "    <tr>\n",
              "      <th>3</th>\n",
              "      <td>райдуга навколо сонця</td>\n",
              "      <td>Життя заможного бізнесмена Марка можна побачити лише у казках: квартири, дорогі автомобілі, красива дівчина. Проте одна подія змінює Марка: врятувавши дівчинку з полум'я та сам ледь не загинувши, він полишає все та вирішує піти у паломництво до Єрусалиму у пошуках відповідей на свої запитання. Шлях далекий та складний, сповнений пригод та небезпек. Але Марк впевнений, що там, біля Гробу Господнього, на нього чекає відповідь на найбільшу таємницю.</td>\n",
              "      <td>['Fiction', 'Adventure', 'General', 'Fiction', 'Adventure', 'Travel', 'Fiction', 'Adventure', 'General', 'Fiction', 'Adventure', 'General', 'Fiction', 'Adventure', 'Travel', 'Fiction', 'Adventure', 'Travel']</td>\n",
              "      <td>[Fiction, Adventure, General, Fiction, Adventure, Travel, Fiction, Adventure, General, Fiction, Adventure, General, Fiction, Adventure, Travel, Fiction, Adventure, Travel]</td>\n",
              "      <td>[0, 0, 0, 0, 0, 0, 0, 0, 0, 0, 0, 0, 0, 1, 1, 1, 1, 0, 0, 0, 0, 0, 0, 0, 0, 0, 0, 0, 0, 0, 0, 0, 0, 0, 0, 0, 0, 0, 0, 0, 0, 0, 0, 0, 0, 0, 0, 0, 0, 0, 0, 0, 0, 0, 0, 0, 0, 0, 0, 0, 0, 0, 0, 0, 0, 0, 0, 0, 0, 0, 0, 0, 0, 0, 0, 0, 0, 0, 0, 0, 0, 0, 0, 0, 0, 0, 0, 0, 0, 0, 0, 0, 0, 0, 0, 0, 0, 0, 0, 0, ...]</td>\n",
              "    </tr>\n",
              "    <tr>\n",
              "      <th>4</th>\n",
              "      <td>Sibiloi: The Genesis of Humanity?</td>\n",
              "      <td>ONE Mysterious belt in an antique shop in London is a compass to secret caves of the Amalek tribe in Sibiloi, Northern Kenya.\\n\\nFOUR Researchers want to unravel the truth: biologist Dr Martha Watkins, anthropologist Jim Trevor, and archeologists Dr Paul Brando from California, US, and Professor Simiyu from Kenya.\\n\\nTWO Extremist organisations want the truth buried forever: a religious sect and a terror organisation.\\n\\nDeep in the caves of Sibiloi in Turkana, Kenya, is the answer that has evaded researchers for ages: Sibiloi holds secrets of the genesis of humanity.</td>\n",
              "      <td>['Fiction', 'Fiction', 'Adventure', 'Fiction', 'Science fiction', 'Adventure', 'Fiction', 'Science fiction', 'High tech', 'Fiction', 'Fiction', 'Fiction', 'Adventure', 'Fiction', 'Adventure', 'Fiction', 'Science fiction', 'Adventure', 'Fiction', 'Science fiction', 'Adventure', 'Fiction', 'Science fiction', 'High tech', 'Fiction', 'Science fiction', 'High tech']</td>\n",
              "      <td>[Fiction, Fiction, Adventure, Fiction, Science fiction, Adventure, Fiction, Science fiction, Fiction, Fiction, Fiction, Adventure, Fiction, Adventure, Fiction, Science fiction, Adventure, Fiction, Science fiction, Adventure, Fiction, Science fiction, Fiction, Science fiction]</td>\n",
              "      <td>[0, 0, 0, 0, 0, 0, 0, 0, 0, 0, 0, 0, 0, 1, 1, 0, 0, 1, 0, 0, 0, 0, 0, 0, 0, 0, 0, 0, 0, 0, 0, 0, 0, 0, 0, 0, 0, 0, 0, 0, 0, 0, 0, 0, 0, 0, 0, 0, 0, 0, 0, 0, 0, 0, 0, 0, 0, 0, 0, 0, 0, 0, 0, 0, 0, 0, 0, 0, 0, 0, 0, 0, 0, 0, 0, 0, 0, 0, 0, 0, 0, 0, 0, 0, 0, 0, 0, 0, 0, 0, 0, 0, 0, 0, 0, 0, 0, 0, 0, 0, ...]</td>\n",
              "    </tr>\n",
              "  </tbody>\n",
              "</table>\n",
              "</div>\n",
              "    <div class=\"colab-df-buttons\">\n",
              "\n",
              "  <div class=\"colab-df-container\">\n",
              "    <button class=\"colab-df-convert\" onclick=\"convertToInteractive('df-01e940d2-4109-4d1f-b9ed-d9b1e13b2ce3')\"\n",
              "            title=\"Convert this dataframe to an interactive table.\"\n",
              "            style=\"display:none;\">\n",
              "\n",
              "  <svg xmlns=\"http://www.w3.org/2000/svg\" height=\"24px\" viewBox=\"0 -960 960 960\">\n",
              "    <path d=\"M120-120v-720h720v720H120Zm60-500h600v-160H180v160Zm220 220h160v-160H400v160Zm0 220h160v-160H400v160ZM180-400h160v-160H180v160Zm440 0h160v-160H620v160ZM180-180h160v-160H180v160Zm440 0h160v-160H620v160Z\"/>\n",
              "  </svg>\n",
              "    </button>\n",
              "\n",
              "  <style>\n",
              "    .colab-df-container {\n",
              "      display:flex;\n",
              "      gap: 12px;\n",
              "    }\n",
              "\n",
              "    .colab-df-convert {\n",
              "      background-color: #E8F0FE;\n",
              "      border: none;\n",
              "      border-radius: 50%;\n",
              "      cursor: pointer;\n",
              "      display: none;\n",
              "      fill: #1967D2;\n",
              "      height: 32px;\n",
              "      padding: 0 0 0 0;\n",
              "      width: 32px;\n",
              "    }\n",
              "\n",
              "    .colab-df-convert:hover {\n",
              "      background-color: #E2EBFA;\n",
              "      box-shadow: 0px 1px 2px rgba(60, 64, 67, 0.3), 0px 1px 3px 1px rgba(60, 64, 67, 0.15);\n",
              "      fill: #174EA6;\n",
              "    }\n",
              "\n",
              "    .colab-df-buttons div {\n",
              "      margin-bottom: 4px;\n",
              "    }\n",
              "\n",
              "    [theme=dark] .colab-df-convert {\n",
              "      background-color: #3B4455;\n",
              "      fill: #D2E3FC;\n",
              "    }\n",
              "\n",
              "    [theme=dark] .colab-df-convert:hover {\n",
              "      background-color: #434B5C;\n",
              "      box-shadow: 0px 1px 3px 1px rgba(0, 0, 0, 0.15);\n",
              "      filter: drop-shadow(0px 1px 2px rgba(0, 0, 0, 0.3));\n",
              "      fill: #FFFFFF;\n",
              "    }\n",
              "  </style>\n",
              "\n",
              "    <script>\n",
              "      const buttonEl =\n",
              "        document.querySelector('#df-01e940d2-4109-4d1f-b9ed-d9b1e13b2ce3 button.colab-df-convert');\n",
              "      buttonEl.style.display =\n",
              "        google.colab.kernel.accessAllowed ? 'block' : 'none';\n",
              "\n",
              "      async function convertToInteractive(key) {\n",
              "        const element = document.querySelector('#df-01e940d2-4109-4d1f-b9ed-d9b1e13b2ce3');\n",
              "        const dataTable =\n",
              "          await google.colab.kernel.invokeFunction('convertToInteractive',\n",
              "                                                    [key], {});\n",
              "        if (!dataTable) return;\n",
              "\n",
              "        const docLinkHtml = 'Like what you see? Visit the ' +\n",
              "          '<a target=\"_blank\" href=https://colab.research.google.com/notebooks/data_table.ipynb>data table notebook</a>'\n",
              "          + ' to learn more about interactive tables.';\n",
              "        element.innerHTML = '';\n",
              "        dataTable['output_type'] = 'display_data';\n",
              "        await google.colab.output.renderOutput(dataTable, element);\n",
              "        const docLink = document.createElement('div');\n",
              "        docLink.innerHTML = docLinkHtml;\n",
              "        element.appendChild(docLink);\n",
              "      }\n",
              "    </script>\n",
              "  </div>\n",
              "\n",
              "\n",
              "<div id=\"df-6e77eb09-a430-4fda-a8c5-7e6b2e24cf0d\">\n",
              "  <button class=\"colab-df-quickchart\" onclick=\"quickchart('df-6e77eb09-a430-4fda-a8c5-7e6b2e24cf0d')\"\n",
              "            title=\"Suggest charts.\"\n",
              "            style=\"display:none;\">\n",
              "\n",
              "<svg xmlns=\"http://www.w3.org/2000/svg\" height=\"24px\"viewBox=\"0 0 24 24\"\n",
              "     width=\"24px\">\n",
              "    <g>\n",
              "        <path d=\"M19 3H5c-1.1 0-2 .9-2 2v14c0 1.1.9 2 2 2h14c1.1 0 2-.9 2-2V5c0-1.1-.9-2-2-2zM9 17H7v-7h2v7zm4 0h-2V7h2v10zm4 0h-2v-4h2v4z\"/>\n",
              "    </g>\n",
              "</svg>\n",
              "  </button>\n",
              "\n",
              "<style>\n",
              "  .colab-df-quickchart {\n",
              "      --bg-color: #E8F0FE;\n",
              "      --fill-color: #1967D2;\n",
              "      --hover-bg-color: #E2EBFA;\n",
              "      --hover-fill-color: #174EA6;\n",
              "      --disabled-fill-color: #AAA;\n",
              "      --disabled-bg-color: #DDD;\n",
              "  }\n",
              "\n",
              "  [theme=dark] .colab-df-quickchart {\n",
              "      --bg-color: #3B4455;\n",
              "      --fill-color: #D2E3FC;\n",
              "      --hover-bg-color: #434B5C;\n",
              "      --hover-fill-color: #FFFFFF;\n",
              "      --disabled-bg-color: #3B4455;\n",
              "      --disabled-fill-color: #666;\n",
              "  }\n",
              "\n",
              "  .colab-df-quickchart {\n",
              "    background-color: var(--bg-color);\n",
              "    border: none;\n",
              "    border-radius: 50%;\n",
              "    cursor: pointer;\n",
              "    display: none;\n",
              "    fill: var(--fill-color);\n",
              "    height: 32px;\n",
              "    padding: 0;\n",
              "    width: 32px;\n",
              "  }\n",
              "\n",
              "  .colab-df-quickchart:hover {\n",
              "    background-color: var(--hover-bg-color);\n",
              "    box-shadow: 0 1px 2px rgba(60, 64, 67, 0.3), 0 1px 3px 1px rgba(60, 64, 67, 0.15);\n",
              "    fill: var(--button-hover-fill-color);\n",
              "  }\n",
              "\n",
              "  .colab-df-quickchart-complete:disabled,\n",
              "  .colab-df-quickchart-complete:disabled:hover {\n",
              "    background-color: var(--disabled-bg-color);\n",
              "    fill: var(--disabled-fill-color);\n",
              "    box-shadow: none;\n",
              "  }\n",
              "\n",
              "  .colab-df-spinner {\n",
              "    border: 2px solid var(--fill-color);\n",
              "    border-color: transparent;\n",
              "    border-bottom-color: var(--fill-color);\n",
              "    animation:\n",
              "      spin 1s steps(1) infinite;\n",
              "  }\n",
              "\n",
              "  @keyframes spin {\n",
              "    0% {\n",
              "      border-color: transparent;\n",
              "      border-bottom-color: var(--fill-color);\n",
              "      border-left-color: var(--fill-color);\n",
              "    }\n",
              "    20% {\n",
              "      border-color: transparent;\n",
              "      border-left-color: var(--fill-color);\n",
              "      border-top-color: var(--fill-color);\n",
              "    }\n",
              "    30% {\n",
              "      border-color: transparent;\n",
              "      border-left-color: var(--fill-color);\n",
              "      border-top-color: var(--fill-color);\n",
              "      border-right-color: var(--fill-color);\n",
              "    }\n",
              "    40% {\n",
              "      border-color: transparent;\n",
              "      border-right-color: var(--fill-color);\n",
              "      border-top-color: var(--fill-color);\n",
              "    }\n",
              "    60% {\n",
              "      border-color: transparent;\n",
              "      border-right-color: var(--fill-color);\n",
              "    }\n",
              "    80% {\n",
              "      border-color: transparent;\n",
              "      border-right-color: var(--fill-color);\n",
              "      border-bottom-color: var(--fill-color);\n",
              "    }\n",
              "    90% {\n",
              "      border-color: transparent;\n",
              "      border-bottom-color: var(--fill-color);\n",
              "    }\n",
              "  }\n",
              "</style>\n",
              "\n",
              "  <script>\n",
              "    async function quickchart(key) {\n",
              "      const quickchartButtonEl =\n",
              "        document.querySelector('#' + key + ' button');\n",
              "      quickchartButtonEl.disabled = true;  // To prevent multiple clicks.\n",
              "      quickchartButtonEl.classList.add('colab-df-spinner');\n",
              "      try {\n",
              "        const charts = await google.colab.kernel.invokeFunction(\n",
              "            'suggestCharts', [key], {});\n",
              "      } catch (error) {\n",
              "        console.error('Error during call to suggestCharts:', error);\n",
              "      }\n",
              "      quickchartButtonEl.classList.remove('colab-df-spinner');\n",
              "      quickchartButtonEl.classList.add('colab-df-quickchart-complete');\n",
              "    }\n",
              "    (() => {\n",
              "      let quickchartButtonEl =\n",
              "        document.querySelector('#df-6e77eb09-a430-4fda-a8c5-7e6b2e24cf0d button');\n",
              "      quickchartButtonEl.style.display =\n",
              "        google.colab.kernel.accessAllowed ? 'block' : 'none';\n",
              "    })();\n",
              "  </script>\n",
              "</div>\n",
              "    </div>\n",
              "  </div>\n"
            ]
          },
          "metadata": {},
          "execution_count": 19
        }
      ]
    },
    {
      "cell_type": "markdown",
      "source": [
        "# Dataloaders and Modeling"
      ],
      "metadata": {
        "id": "0iivDahQUQXM"
      }
    },
    {
      "cell_type": "code",
      "source": [
        "labels = list(encode_genre_types.keys())"
      ],
      "metadata": {
        "id": "Xvhlz53fU5Pr"
      },
      "execution_count": 20,
      "outputs": []
    },
    {
      "cell_type": "code",
      "source": [
        "model_name = \"distilroberta-base\"\n",
        "model_cls = AutoModelForSequenceClassification\n",
        "config = AutoConfig.from_pretrained(model_name)\n",
        "config.num_labels = len(labels)\n",
        "\n",
        "hf_arch, hf_config, hf_tokenizer, hf_model = get_hf_objects(model_name, model_cls=model_cls, config=config)\n",
        "hf_model.config.problem_type = \"multi_label_classification\""
      ],
      "metadata": {
        "id": "_H_vlv8RUUpc",
        "colab": {
          "base_uri": "https://localhost:8080/",
          "height": 177,
          "referenced_widgets": [
            "9a47b8731e07476ebf2e720578345900",
            "f317be8195004ee68ba4cf77a3b49321",
            "93a8159d4cf3443eb3f97ea19892491f",
            "de3881f39a0f422b81b50b2a93365361",
            "4b65b15245564575b74d58fc692bad36",
            "a3bb6379460d4ff29e1865d781e0dd68",
            "899ba29a94a7479ea96022c61c30fad7",
            "0c4ad399217d4b06abfcc23cfb1767c7",
            "0688759a17334622b5de9fa9547e10a9",
            "cbb5eda552e44d5d9442bae0b928235b",
            "ea2d0dda2702405b9788a7d9f71e3b71",
            "11432085d85e47fbb16b83571409832a",
            "113c1fa242794c62ac2143d55cb47e8e",
            "e5b47fe19255499abfdd3ead4fcacc41",
            "f4639bf1bf2842cab08899f3d531e223",
            "f93bf7ac5a3b46acba2bc2652f741658",
            "ae687664be274eaf961189d54429f818",
            "1675182baabe47a1a154fa0e9e52ff2b",
            "2f10974bef714d38a8e1d4fe30f12a03",
            "39737abb239d47acadacf8de9863686f",
            "06611412c02f43d29687ec5dedacbdac",
            "d6c45b9b297749cf9e80e84c4afb2e1e",
            "123bbce2b7ff40439ffac37703a3bf83",
            "584ff3217dd64fc1a05a32b749aec2f1",
            "bd1c33f916174c2db7a6607c3d911ce7",
            "c826272e17ec4e42ad5ae072f77cc0f6",
            "1c60925b7ae64b7a87be18ab9be9f3df",
            "a75ff2e05be04d4186767a0431bb14ad",
            "bf7d2f3d3de1429ba00dd9642310d6da",
            "63968a9b4a3f4819a87461f411b3b5be",
            "b0e13a4c51594b0fb53fa8a209eeeb4c",
            "06b79b1a3abc4a93a1d7a5ff8bf28780",
            "46c2b2c9f2e746b8a1e5e7e36702564b",
            "97a942f4f308438d80f5b15b154644d6",
            "b4bef8cec3434d31a8f8bd3f3e302133",
            "7cb0bc022fe04e1c9030d104f60da7e6",
            "0ef3de1a69ff46f682cab20b3d302582",
            "532d1b2058094998951828eed061e9f0",
            "e610bc4af6c34a8aa2faf13a2dd119ee",
            "fbc074fbfa7448b1abbca8ec0b43637f",
            "e8411b6698d94e4b8f60c6f5b99b68a9",
            "55372c4f76104100acca3598ef05ded9",
            "2ad4e0cb50d34eeda75300235c9a75ed",
            "4aa31626fd174edbaabd0cee870de9d3",
            "5537a457747944159f9548e454ee4225",
            "8b73bce4e1624159b4f0ab2739679930",
            "d28287333a3144b5a999fd5c57de5531",
            "7cbd990e8f98414c877bcbb46ffc7db1",
            "e176ff04b88a42bcaad16c2e59df2229",
            "6417c30faf3241dea643954092d7a14e",
            "2ee3bce5abe64344869d920a121e7246",
            "2cc8128547c3454f81390490b67fa6fa",
            "85f87a65a29e46c683b10cb814fe569a",
            "38346e8d5ac04b0e912cb5887b607eba",
            "483bddec2de64e57845ec32b78e250f4"
          ]
        },
        "outputId": "fe9115db-63cd-4b87-996e-e3f702fe29f8"
      },
      "execution_count": 21,
      "outputs": [
        {
          "output_type": "display_data",
          "data": {
            "text/plain": [
              "Downloading (…)lve/main/config.json:   0%|          | 0.00/480 [00:00<?, ?B/s]"
            ],
            "application/vnd.jupyter.widget-view+json": {
              "version_major": 2,
              "version_minor": 0,
              "model_id": "9a47b8731e07476ebf2e720578345900"
            }
          },
          "metadata": {}
        },
        {
          "output_type": "display_data",
          "data": {
            "text/plain": [
              "Downloading (…)olve/main/vocab.json:   0%|          | 0.00/899k [00:00<?, ?B/s]"
            ],
            "application/vnd.jupyter.widget-view+json": {
              "version_major": 2,
              "version_minor": 0,
              "model_id": "11432085d85e47fbb16b83571409832a"
            }
          },
          "metadata": {}
        },
        {
          "output_type": "display_data",
          "data": {
            "text/plain": [
              "Downloading (…)olve/main/merges.txt:   0%|          | 0.00/456k [00:00<?, ?B/s]"
            ],
            "application/vnd.jupyter.widget-view+json": {
              "version_major": 2,
              "version_minor": 0,
              "model_id": "123bbce2b7ff40439ffac37703a3bf83"
            }
          },
          "metadata": {}
        },
        {
          "output_type": "display_data",
          "data": {
            "text/plain": [
              "Downloading (…)/main/tokenizer.json:   0%|          | 0.00/1.36M [00:00<?, ?B/s]"
            ],
            "application/vnd.jupyter.widget-view+json": {
              "version_major": 2,
              "version_minor": 0,
              "model_id": "97a942f4f308438d80f5b15b154644d6"
            }
          },
          "metadata": {}
        },
        {
          "output_type": "display_data",
          "data": {
            "text/plain": [
              "Downloading model.safetensors:   0%|          | 0.00/331M [00:00<?, ?B/s]"
            ],
            "application/vnd.jupyter.widget-view+json": {
              "version_major": 2,
              "version_minor": 0,
              "model_id": "5537a457747944159f9548e454ee4225"
            }
          },
          "metadata": {}
        }
      ]
    },
    {
      "cell_type": "code",
      "source": [
        "blocks = (TextBlock(hf_arch, hf_config, hf_tokenizer, hf_model), MultiCategoryBlock(encoded=True,vocab=labels))\n",
        "dblock = DataBlock(blocks=blocks, get_x=ColReader('description'), get_y=ColReader('genre_cat_list'), splitter=RandomSplitter(valid_pct=0.1, seed=42))"
      ],
      "metadata": {
        "id": "GZlQWjktUo68"
      },
      "execution_count": 22,
      "outputs": []
    },
    {
      "cell_type": "code",
      "source": [
        "dls = dblock.dataloaders(df, bs=32)\n",
        "torch.save(dls, \"dataloaders/dls-book-genre-ml-classifier.pkl\")"
      ],
      "metadata": {
        "id": "MssGyiB5VBa4"
      },
      "execution_count": 23,
      "outputs": []
    },
    {
      "cell_type": "code",
      "source": [
        "# dls = torch.load(\"dataloaders/dls-multilabel-book-classifier.pkl\")"
      ],
      "metadata": {
        "id": "CrUFMjsDVPWk"
      },
      "execution_count": null,
      "outputs": []
    },
    {
      "cell_type": "code",
      "source": [
        "dls.vocab"
      ],
      "metadata": {
        "colab": {
          "base_uri": "https://localhost:8080/"
        },
        "id": "2MaVIXp7VTsF",
        "outputId": "1756ba40-d253-43bc-e6f3-e7e557f8e408"
      },
      "execution_count": 24,
      "outputs": [
        {
          "output_type": "execute_result",
          "data": {
            "text/plain": [
              "['Nonfiction', 'Business & Economics', 'New Age', 'Meditation', 'Personal finance / money management', 'Religion & Spirituality', 'Body, mind, & spirit', 'Inspiration & personal growth', 'Self-improvement', 'Personal Growth / Success', 'Inspiration', 'General self-help', 'Starting up', 'Fiction', 'Adventure', 'General', 'Travel', 'Science fiction', 'Health, wellbeing, & medicine', 'Education & Study Guides', 'Medicine', 'Education', 'Computers & Internet', 'Business administration', 'Essay', 'Literature', 'Reference', 'Marketing', 'Social Science', 'Psychology', 'Mental health', 'Personal Growth / General', 'History', 'American', 'North America', 'Canada', 'USA', 'Art, Architecture, Photography', 'Fine art', 'Architecture', 'Engineering, trades, & technology', 'Screenplays', 'Romance', 'Drama', 'Fantasy', 'Performing arts', 'Biography', 'War', 'LGBTQ+', 'Christian', 'Suspense', 'Horror', 'Occult', 'Anthologies', 'Short stories - single author', 'Literary', 'Contemporary', 'Holiday', 'Religious', 'Study & teaching', 'Cooking, Food, Wine, Spirits', 'Motivation & inspiration', 'Entertainment', 'Plays', 'Mystery & detective', 'Thriller & suspense', 'Thriller', 'Supernatural', 'Crime', \"Women's fiction\", 'Mystery', 'Humor & comedy', 'Short stories', 'Relationships & Family', 'Political', 'Politics & Current Affairs', 'Historical', 'Ancient', 'Medieval', 'Philosophy', 'Plays & Screenplays', 'Parenting', 'Sociology', 'Transportation', 'Classics', 'Healthcare issues', 'Young adult or teen', \"Children's Books\", 'Graphic novels & comics', 'Language Instruction', 'Poetry', 'Literary criticism', 'Literacy', 'Music', 'Contemporary Poetry', 'Themes & motifs', 'Humor & satire', 'Political science', 'Cultural & ethnic themes', 'African American fiction', 'Paranormal', 'Adventurers & explorers', 'True crime', 'True Crime', 'European', 'Asian', 'Children’s books', 'Short Stories', 'Weddings', 'Dating', 'Marriage', 'Literary collections', 'Home & Garden', 'Pets & livestock', 'Dogs', 'By region', 'Specialties & interests', 'Essays & Travelogues', 'Africa', 'Europe', 'Italy', 'Asia', 'France', 'Antiques & Collectibles', 'Crafts & Hobbies', 'Science & Nature', 'Bibles', 'Leadership', 'Careers', 'Sales', 'Sports & outdoor recreation', 'Vegetarian & Vegan', 'Sports nutrition', 'Childhood obesity', 'Dieting', \"Women's health\", 'Healing', 'Emotional healing', 'healthy living', 'Sex & Relationships', 'Body cleansing & detoxification', 'Alternative therapies', 'Emotions', 'Personal success', 'Religion & self-improvement', 'Spiritualism', 'Amateur naturalist', 'Programming', 'Law', 'Magic', 'Christianity', 'Childhood development', 'Motherhood', 'Personal memoir', 'Woman biographies', 'Home-based businesses', 'Careers / job hunting', 'Essays', 'Sheet music & song books', 'Inspirational', 'Personal finance', 'Small business & entrepreneurship', 'Interior decorating', 'Civilization', 'Gardening', 'Training', 'Breeds', 'Military', 'Games, puzzles, & brain twisters', 'E-commerce / internet marketing', 'Career Guides', 'Business', 'Stock market investing', 'Economics', 'Art - how to', 'Applied arts', 'Photography', 'Nature', 'Museums of the World', 'Football & rugby', 'Road travel', 'Japan', 'Art history', 'Animals', 'Family', 'Buildings', 'Landmarks & monuments', 'Equestrian', 'Drawing', 'Personal finance / investing', 'Management', 'Cats', 'Science', 'Art', '20th Century', 'Humor', 'Religion', 'Chick Lit', 'Science Fiction', 'Adult', 'Farm animals', 'English literature', 'American and Canadian literature', 'Novels', 'Historical Fiction', 'School', 'Young Adult', 'Childrens', 'Middle Grade', 'Audiobook', 'Science Fiction Fantasy', 'Memoir', 'Dystopia', 'Politics', 'Spirituality', 'Self Help', 'Adult Fiction', 'Literary Fiction', 'British Literature', 'Biography Memoir', 'Mystery Thriller', 'Personal Development']"
            ]
          },
          "metadata": {},
          "execution_count": 24
        }
      ]
    },
    {
      "cell_type": "code",
      "source": [
        "dls.show_batch(dataloaders=dls, max_n=3, trunc_at=512)"
      ],
      "metadata": {
        "colab": {
          "base_uri": "https://localhost:8080/",
          "height": 196
        },
        "id": "Em7boTDGVhb1",
        "outputId": "9186ba3d-b8ba-448b-af44-6cf269281fd0"
      },
      "execution_count": 25,
      "outputs": [
        {
          "output_type": "display_data",
          "data": {
            "text/plain": [
              "<IPython.core.display.HTML object>"
            ],
            "text/html": [
              "<table border=\"1\" class=\"dataframe\">\n",
              "  <thead>\n",
              "    <tr style=\"text-align: right;\">\n",
              "      <th></th>\n",
              "      <th>text</th>\n",
              "      <th>target</th>\n",
              "    </tr>\n",
              "  </thead>\n",
              "  <tbody>\n",
              "    <tr>\n",
              "      <th>0</th>\n",
              "      <td>২০০৫ সালে ময়মনসিঙহ মেডিক্যাল কলেজের ছাত্র মেহদি হাসান খান ও তার বন্ধুদের প্রতিষ্ঠান অমিক্রণ ল্যাব অভ্র বাংলা টাইপিং সফটওয়্যারের মাধ্যমে বাংলা ভাষা অনলাইনে উন্মুক্ত করেন। অভ্রর ইউনিকোড শক্তিতে খুলে যায় বাংলা ভাষায় সৃষ্টিশীলতার অবারিত সম্ভবনার দুয়ার�</td>\n",
              "      <td>[Nonfiction, Religion &amp; Spirituality, Body, mind, &amp; spirit, Social Science, Political, Philosophy]</td>\n",
              "    </tr>\n",
              "    <tr>\n",
              "      <th>1</th>\n",
              "      <td>ஆலயங்களும் அறிவியல் தகவல்களும் என்ற என்னுடைய இந்த நூல், முதலாவதாக இருபத்தேழு நட்சத்திரங்களுக்கான ஸ்தல விருட்சங்களின் விஞ்ஞான தகவல்களும், பிறந்த நட்சத்திரங்களுக்கான வழிபாட்டு ஸ்தலங்கள�</td>\n",
              "      <td>[Nonfiction, Religion &amp; Spirituality, Science &amp; Nature]</td>\n",
              "    </tr>\n",
              "    <tr>\n",
              "      <th>2</th>\n",
              "      <td>માનવતા ચેતનાના પ્રથમ વિકાસથી સમજી ગઈ છે કે કેટલીક મહત્વપૂર્ણ ઘટનાઓ તકને કારણે નથી. ન સમજાય તેવી ઘટનાઓ ઉચ્ચ દાર્શનિક અથવા દૈવી સ્તરના સંકેતો છે. આ બુદ્ધિ માનવ અંતઃકરણ સાથે વાતચીત કરવા માંગે છે.\\n\\nક</td>\n",
              "      <td>[Nonfiction, Philosophy, Science &amp; Nature]</td>\n",
              "    </tr>\n",
              "  </tbody>\n",
              "</table>"
            ]
          },
          "metadata": {}
        }
      ]
    },
    {
      "cell_type": "code",
      "source": [
        "doc(accuracy_multi)"
      ],
      "metadata": {
        "colab": {
          "base_uri": "https://localhost:8080/",
          "height": 155
        },
        "id": "iW0G7xLnX8rt",
        "outputId": "6f5f0156-50e9-4bde-ae0f-0f8a1c206272"
      },
      "execution_count": 26,
      "outputs": [
        {
          "output_type": "display_data",
          "data": {
            "text/plain": [
              "<IPython.core.display.HTML object>"
            ],
            "text/html": [
              "<hr/>\n",
              "<h3>accuracy_multi</h3>\n",
              "<blockquote><pre><code>accuracy_multi(inp, targ, thresh=0.5, sigmoid=True)</code></pre></blockquote><p>Compute accuracy when `inp` and `targ` are the same size.</p>\n",
              "<p><a href=\"https://docs.fast.ai/metrics.html#accuracy_multi\" target=\"_blank\" rel=\"noreferrer noopener\">Show in docs</a></p>"
            ]
          },
          "metadata": {}
        }
      ]
    },
    {
      "cell_type": "code",
      "source": [
        "model = BaseModelWrapper(hf_model)\n",
        "\n",
        "acc_02 = partial(accuracy_multi, thresh=0.5)\n",
        "\n",
        "learner = Learner(dls,\n",
        "                  model,\n",
        "                  opt_func=partial(OptimWrapper, opt=torch.optim.AdamW),\n",
        "                  loss_func=BCEWithLogitsLossFlat(),\n",
        "                  metrics=[acc_02],\n",
        "                  cbs=[BaseModelCallback],\n",
        "                  splitter=blurr_splitter\n",
        "                  ).to_fp16()"
      ],
      "metadata": {
        "id": "Rdftrmy8Vp6m"
      },
      "execution_count": 27,
      "outputs": []
    },
    {
      "cell_type": "markdown",
      "source": [
        "# Stage - 0"
      ],
      "metadata": {
        "id": "ZPvvzNxSV0t9"
      }
    },
    {
      "cell_type": "code",
      "source": [
        "learner.freeze()"
      ],
      "metadata": {
        "id": "ty81uoBYVzmE"
      },
      "execution_count": 28,
      "outputs": []
    },
    {
      "cell_type": "code",
      "source": [
        "learner.lr_find(suggest_funcs=[slide, valley])"
      ],
      "metadata": {
        "colab": {
          "base_uri": "https://localhost:8080/",
          "height": 471
        },
        "id": "I4rArCNEV3SE",
        "outputId": "870e841e-f07e-4670-a283-414a9683cd48"
      },
      "execution_count": 29,
      "outputs": [
        {
          "output_type": "display_data",
          "data": {
            "text/plain": [
              "<IPython.core.display.HTML object>"
            ],
            "text/html": [
              "\n",
              "<style>\n",
              "    /* Turns off some styling */\n",
              "    progress {\n",
              "        /* gets rid of default border in Firefox and Opera. */\n",
              "        border: none;\n",
              "        /* Needs to be in here for Safari polyfill so background images work as expected. */\n",
              "        background-size: auto;\n",
              "    }\n",
              "    progress:not([value]), progress:not([value])::-webkit-progress-bar {\n",
              "        background: repeating-linear-gradient(45deg, #7e7e7e, #7e7e7e 10px, #5c5c5c 10px, #5c5c5c 20px);\n",
              "    }\n",
              "    .progress-bar-interrupted, .progress-bar-interrupted::-webkit-progress-bar {\n",
              "        background: #F44336;\n",
              "    }\n",
              "</style>\n"
            ]
          },
          "metadata": {}
        },
        {
          "output_type": "display_data",
          "data": {
            "text/plain": [
              "<IPython.core.display.HTML object>"
            ],
            "text/html": []
          },
          "metadata": {}
        },
        {
          "output_type": "execute_result",
          "data": {
            "text/plain": [
              "SuggestedLRs(slide=0.0010000000474974513, valley=0.0002290867705596611)"
            ]
          },
          "metadata": {},
          "execution_count": 29
        },
        {
          "output_type": "display_data",
          "data": {
            "text/plain": [
              "<Figure size 640x480 with 1 Axes>"
            ],
            "image/png": "[encoded data removed]"
          },
          "metadata": {}
        }
      ]
    },
    {
      "cell_type": "code",
      "source": [
        "learner.fit_one_cycle(6,0.00023)"
      ],
      "metadata": {
        "colab": {
          "base_uri": "https://localhost:8080/",
          "height": 238
        },
        "id": "f5EZdBxuWAo9",
        "outputId": "10281e51-f898-4617-f3e1-5d2f84e5e44f"
      },
      "execution_count": 30,
      "outputs": [
        {
          "output_type": "display_data",
          "data": {
            "text/plain": [
              "<IPython.core.display.HTML object>"
            ],
            "text/html": [
              "\n",
              "<style>\n",
              "    /* Turns off some styling */\n",
              "    progress {\n",
              "        /* gets rid of default border in Firefox and Opera. */\n",
              "        border: none;\n",
              "        /* Needs to be in here for Safari polyfill so background images work as expected. */\n",
              "        background-size: auto;\n",
              "    }\n",
              "    progress:not([value]), progress:not([value])::-webkit-progress-bar {\n",
              "        background: repeating-linear-gradient(45deg, #7e7e7e, #7e7e7e 10px, #5c5c5c 10px, #5c5c5c 20px);\n",
              "    }\n",
              "    .progress-bar-interrupted, .progress-bar-interrupted::-webkit-progress-bar {\n",
              "        background: #F44336;\n",
              "    }\n",
              "</style>\n"
            ]
          },
          "metadata": {}
        },
        {
          "output_type": "display_data",
          "data": {
            "text/plain": [
              "<IPython.core.display.HTML object>"
            ],
            "text/html": [
              "<table border=\"1\" class=\"dataframe\">\n",
              "  <thead>\n",
              "    <tr style=\"text-align: left;\">\n",
              "      <th>epoch</th>\n",
              "      <th>train_loss</th>\n",
              "      <th>valid_loss</th>\n",
              "      <th>accuracy_multi</th>\n",
              "      <th>time</th>\n",
              "    </tr>\n",
              "  </thead>\n",
              "  <tbody>\n",
              "    <tr>\n",
              "      <td>0</td>\n",
              "      <td>0.085467</td>\n",
              "      <td>0.083930</td>\n",
              "      <td>0.980178</td>\n",
              "      <td>03:36</td>\n",
              "    </tr>\n",
              "    <tr>\n",
              "      <td>1</td>\n",
              "      <td>0.063082</td>\n",
              "      <td>0.060715</td>\n",
              "      <td>0.982887</td>\n",
              "      <td>03:36</td>\n",
              "    </tr>\n",
              "    <tr>\n",
              "      <td>2</td>\n",
              "      <td>0.052934</td>\n",
              "      <td>0.051727</td>\n",
              "      <td>0.984189</td>\n",
              "      <td>03:34</td>\n",
              "    </tr>\n",
              "    <tr>\n",
              "      <td>3</td>\n",
              "      <td>0.049546</td>\n",
              "      <td>0.048084</td>\n",
              "      <td>0.984968</td>\n",
              "      <td>03:36</td>\n",
              "    </tr>\n",
              "    <tr>\n",
              "      <td>4</td>\n",
              "      <td>0.048104</td>\n",
              "      <td>0.046881</td>\n",
              "      <td>0.985264</td>\n",
              "      <td>03:34</td>\n",
              "    </tr>\n",
              "    <tr>\n",
              "      <td>5</td>\n",
              "      <td>0.047700</td>\n",
              "      <td>0.046656</td>\n",
              "      <td>0.985310</td>\n",
              "      <td>03:41</td>\n",
              "    </tr>\n",
              "  </tbody>\n",
              "</table>"
            ]
          },
          "metadata": {}
        }
      ]
    },
    {
      "cell_type": "code",
      "source": [
        "learner.save(\"book-genre-classifier-stage-0\")"
      ],
      "metadata": {
        "colab": {
          "base_uri": "https://localhost:8080/"
        },
        "id": "SPWUiFE5WFcA",
        "outputId": "bc3777c8-f75b-424f-a107-277f1cfb08b5"
      },
      "execution_count": 31,
      "outputs": [
        {
          "output_type": "execute_result",
          "data": {
            "text/plain": [
              "Path('models/book-genre-classifier-stage-0.pth')"
            ]
          },
          "metadata": {},
          "execution_count": 31
        }
      ]
    },
    {
      "cell_type": "code",
      "source": [
        "learner.export(\"models/book-genre-classifier-stage-0.pkl\")"
      ],
      "metadata": {
        "id": "jtaeu-V_WK89"
      },
      "execution_count": 32,
      "outputs": []
    },
    {
      "cell_type": "markdown",
      "source": [
        "# Stage - 1"
      ],
      "metadata": {
        "id": "grdg5-CTWMe1"
      }
    },
    {
      "cell_type": "code",
      "source": [
        " learner.load(\"book-classifier-stage-0\")"
      ],
      "metadata": {
        "id": "tDSMlbBiWN31"
      },
      "execution_count": null,
      "outputs": []
    },
    {
      "cell_type": "code",
      "source": [
        "learner.unfreeze()"
      ],
      "metadata": {
        "id": "hIRcNyH8WRHP"
      },
      "execution_count": 33,
      "outputs": []
    },
    {
      "cell_type": "code",
      "source": [
        "learner.lr_find(suggest_funcs=[slide, valley])"
      ],
      "metadata": {
        "colab": {
          "base_uri": "https://localhost:8080/",
          "height": 471
        },
        "id": "J9c73oaBWSbY",
        "outputId": "e5027576-9353-4c5e-e891-ba9c78e08dc4"
      },
      "execution_count": 35,
      "outputs": [
        {
          "output_type": "display_data",
          "data": {
            "text/plain": [
              "<IPython.core.display.HTML object>"
            ],
            "text/html": [
              "\n",
              "<style>\n",
              "    /* Turns off some styling */\n",
              "    progress {\n",
              "        /* gets rid of default border in Firefox and Opera. */\n",
              "        border: none;\n",
              "        /* Needs to be in here for Safari polyfill so background images work as expected. */\n",
              "        background-size: auto;\n",
              "    }\n",
              "    progress:not([value]), progress:not([value])::-webkit-progress-bar {\n",
              "        background: repeating-linear-gradient(45deg, #7e7e7e, #7e7e7e 10px, #5c5c5c 10px, #5c5c5c 20px);\n",
              "    }\n",
              "    .progress-bar-interrupted, .progress-bar-interrupted::-webkit-progress-bar {\n",
              "        background: #F44336;\n",
              "    }\n",
              "</style>\n"
            ]
          },
          "metadata": {}
        },
        {
          "output_type": "display_data",
          "data": {
            "text/plain": [
              "<IPython.core.display.HTML object>"
            ],
            "text/html": []
          },
          "metadata": {}
        },
        {
          "output_type": "execute_result",
          "data": {
            "text/plain": [
              "SuggestedLRs(slide=0.0063095735386013985, valley=3.311311274956097e-06)"
            ]
          },
          "metadata": {},
          "execution_count": 35
        },
        {
          "output_type": "display_data",
          "data": {
            "text/plain": [
              "<Figure size 640x480 with 1 Axes>"
            ],
            "image/png": "[encoded data removed]"
          },
          "metadata": {}
        }
      ]
    },
    {
      "cell_type": "code",
      "source": [
        "learner.fit_one_cycle(7,slice(0.0063, 3.3e-06))"
      ],
      "metadata": {
        "colab": {
          "base_uri": "https://localhost:8080/",
          "height": 269
        },
        "id": "FWTIFBbPWUNW",
        "outputId": "4794c5f9-c8a0-4fec-9041-6bae7b8eeaaa"
      },
      "execution_count": 38,
      "outputs": [
        {
          "output_type": "display_data",
          "data": {
            "text/plain": [
              "<IPython.core.display.HTML object>"
            ],
            "text/html": [
              "\n",
              "<style>\n",
              "    /* Turns off some styling */\n",
              "    progress {\n",
              "        /* gets rid of default border in Firefox and Opera. */\n",
              "        border: none;\n",
              "        /* Needs to be in here for Safari polyfill so background images work as expected. */\n",
              "        background-size: auto;\n",
              "    }\n",
              "    progress:not([value]), progress:not([value])::-webkit-progress-bar {\n",
              "        background: repeating-linear-gradient(45deg, #7e7e7e, #7e7e7e 10px, #5c5c5c 10px, #5c5c5c 20px);\n",
              "    }\n",
              "    .progress-bar-interrupted, .progress-bar-interrupted::-webkit-progress-bar {\n",
              "        background: #F44336;\n",
              "    }\n",
              "</style>\n"
            ]
          },
          "metadata": {}
        },
        {
          "output_type": "display_data",
          "data": {
            "text/plain": [
              "<IPython.core.display.HTML object>"
            ],
            "text/html": [
              "<table border=\"1\" class=\"dataframe\">\n",
              "  <thead>\n",
              "    <tr style=\"text-align: left;\">\n",
              "      <th>epoch</th>\n",
              "      <th>train_loss</th>\n",
              "      <th>valid_loss</th>\n",
              "      <th>accuracy_multi</th>\n",
              "      <th>time</th>\n",
              "    </tr>\n",
              "  </thead>\n",
              "  <tbody>\n",
              "    <tr>\n",
              "      <td>0</td>\n",
              "      <td>0.047497</td>\n",
              "      <td>0.047108</td>\n",
              "      <td>0.984924</td>\n",
              "      <td>04:26</td>\n",
              "    </tr>\n",
              "    <tr>\n",
              "      <td>1</td>\n",
              "      <td>0.045661</td>\n",
              "      <td>0.045650</td>\n",
              "      <td>0.985484</td>\n",
              "      <td>04:26</td>\n",
              "    </tr>\n",
              "    <tr>\n",
              "      <td>2</td>\n",
              "      <td>0.037313</td>\n",
              "      <td>0.044110</td>\n",
              "      <td>0.986041</td>\n",
              "      <td>04:28</td>\n",
              "    </tr>\n",
              "    <tr>\n",
              "      <td>3</td>\n",
              "      <td>0.031678</td>\n",
              "      <td>0.040765</td>\n",
              "      <td>0.987162</td>\n",
              "      <td>04:26</td>\n",
              "    </tr>\n",
              "    <tr>\n",
              "      <td>4</td>\n",
              "      <td>0.027783</td>\n",
              "      <td>0.039221</td>\n",
              "      <td>0.987765</td>\n",
              "      <td>04:28</td>\n",
              "    </tr>\n",
              "    <tr>\n",
              "      <td>5</td>\n",
              "      <td>0.024735</td>\n",
              "      <td>0.038558</td>\n",
              "      <td>0.988138</td>\n",
              "      <td>04:26</td>\n",
              "    </tr>\n",
              "    <tr>\n",
              "      <td>6</td>\n",
              "      <td>0.023045</td>\n",
              "      <td>0.038607</td>\n",
              "      <td>0.988209</td>\n",
              "      <td>04:27</td>\n",
              "    </tr>\n",
              "  </tbody>\n",
              "</table>"
            ]
          },
          "metadata": {}
        }
      ]
    },
    {
      "cell_type": "code",
      "source": [
        "learner.save(\"book-genre-classifier-stage-1\")"
      ],
      "metadata": {
        "colab": {
          "base_uri": "https://localhost:8080/"
        },
        "id": "b-J5n553WZz3",
        "outputId": "f5cf5109-8b43-4e32-975d-a4b55121c70e"
      },
      "execution_count": 39,
      "outputs": [
        {
          "output_type": "execute_result",
          "data": {
            "text/plain": [
              "Path('models/book-genre-classifier-stage-1.pth')"
            ]
          },
          "metadata": {},
          "execution_count": 39
        }
      ]
    },
    {
      "cell_type": "code",
      "source": [
        "learner.export(\"models/book-genre-classifier-stage-1.pkl\")"
      ],
      "metadata": {
        "id": "rMd7GV5PWayd"
      },
      "execution_count": 40,
      "outputs": []
    }
  ]
}